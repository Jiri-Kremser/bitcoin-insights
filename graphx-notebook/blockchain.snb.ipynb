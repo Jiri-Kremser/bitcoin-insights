{
    "cells": [
        {
            "cell_type": "markdown",
            "metadata": {
                "id": "1BD94847B63C4394AF1B3AAFABA54F4C"
            },
            "source": "# Analyse Blockchain with GraphX"
        },
        {
            "cell_type": "markdown",
            "metadata": {
                "id": "1C6EE6059BED491E873A4D067054036E"
            },
            "source": "_Trying identify interesting addresses in the blockchain transaction graph_"
        },
        {
            "cell_type": "markdown",
            "metadata": {
                "id": "9D487F6FAEDE4C6B8976FAABA268FCAD"
            },
            "source": "## Basic setup\n\nHere we will create spark session that is necessary for further dataframe processing.\n"
        },
        {
            "cell_type": "code",
            "metadata": {
                "collapsed": false,
                "id": "2C7CCB3C43D2425BAD7017C0F0780AF7",
                "input_collapsed": false,
                "trusted": true
            },
            "outputs": [],
            "source": [
                "val spark = SparkSession.builder\n",
                "                    .master(\"local[4]\")\n",
                "                    .getOrCreate()"
            ]
        },
        {
            "cell_type": "markdown",
            "metadata": {
                "id": "6BAD062F226548978710E3B28A975836"
            },
            "source": "## Check the data on disk\nGraph data is stored on the dist as two Parquet files. One with vertices and the second one with the edges."
        },
        {
            "cell_type": "code",
            "metadata": {
                "collapsed": false,
                "id": "DABBD04745134831822739BFF782EF9F",
                "input_collapsed": false,
                "trusted": true
            },
            "outputs": [],
            "source": [
                ":sh du -h /tmp/nodes.parquet"
            ]
        },
        {
            "cell_type": "code",
            "metadata": {
                "collapsed": false,
                "id": "0605F16CF90642DE8A71D7A676CE5CA5",
                "input_collapsed": false,
                "trusted": true
            },
            "outputs": [],
            "source": [
                ":sh du -h /tmp/edges.parquet"
            ]
        },
        {
            "cell_type": "markdown",
            "metadata": {
                "id": "2DA4D8DC9A01453ABF0832C1A461AC71"
            },
            "source": "## Load the data"
        },
        {
            "cell_type": "code",
            "metadata": {
                "collapsed": false,
                "id": "58F5BF50D84345C193F523A533DEC6E9",
                "input_collapsed": false,
                "trusted": true
            },
            "outputs": [],
            "source": [
                "val rawNodes = spark.read.load(\"/tmp/nodes.parquet\")\n",
                "rawNodes.show(5, false)"
            ]
        },
        {
            "cell_type": "markdown",
            "metadata": {
                "id": "5C9D921E0A8744A18015E46326C4EB34"
            },
            "source": "#### Number of vertices"
        },
        {
            "cell_type": "code",
            "metadata": {
                "collapsed": false,
                "id": "14CFF48EA8F94EC48BA1E896BA7B0DD3",
                "input_collapsed": false,
                "trusted": true
            },
            "outputs": [],
            "source": [
                "rawNodes.count"
            ]
        },
        {
            "cell_type": "markdown",
            "metadata": {
                "id": "4C715D1FA97341C98A3A7A3E87747855"
            },
            "source": "### Clean the data"
        },
        {
            "cell_type": "code",
            "metadata": {
                "collapsed": false,
                "id": "71BC35B9AF0244C38005D16168B622E3",
                "input_collapsed": false,
                "trusted": true
            },
            "outputs": [],
            "source": [
                "import org.apache.spark.sql.functions.regexp_replace\n",
                "\n",
                "val nodes = rawNodes.na.drop()\n",
                "                    .withColumnRenamed(\"_1\", \"id\")\n",
                "                    .withColumnRenamed(\"_2\", \"address\")\n",
                "                    .withColumn(\"address\", regexp_replace($\"address\", \"bitcoinaddress_\", \"\"))\n",
                "nodes.show(5, false)"
            ]
        },
        {
            "cell_type": "code",
            "metadata": {
                "collapsed": false,
                "id": "E6EE8C40BD2645378DA7868C9B91A1DA",
                "input_collapsed": false,
                "trusted": true
            },
            "outputs": [],
            "source": [
                "val edges = spark.read.load(\"/tmp/edges.parquet\")\n",
                "                      .drop($\"attr\")\n",
                "edges.show(5)"
            ]
        },
        {
            "cell_type": "markdown",
            "metadata": {
                "id": "5C9D921E0A8744A18015E46326C4EB34"
            },
            "source": "#### Number of edges"
        },
        {
            "cell_type": "code",
            "metadata": {
                "collapsed": false,
                "id": "DB8F7E1290F94FD8A101CC98F8007FE1",
                "input_collapsed": false,
                "trusted": true
            },
            "outputs": [],
            "source": [
                "edges.count()"
            ]
        },
        {
            "cell_type": "markdown",
            "metadata": {
                "id": "D07A81FBF86A4D7FAA6C14469730D4C4"
            },
            "source": "# Creating the Graph\nGraphX library expects RDDs, so we need to do the conversion from the dataframes here"
        },
        {
            "cell_type": "code",
            "metadata": {
                "collapsed": false,
                "id": "0060C72E46054322B4C6F8AB8AF21F9E",
                "input_collapsed": false,
                "trusted": true
            },
            "outputs": [],
            "source": [
                "// todo: ugly\n",
                "import org.apache.spark.graphx._\n",
                "val nodesRdd: RDD[(VertexId, String)] = nodes.rdd.map(row => (row(0).asInstanceOf[Long], row(1).asInstanceOf[String]))\n",
                "val edgesRdd: RDD[Edge[Option[String]]] = edges.rdd.map(row => Edge(row(0).asInstanceOf[Long], row(1).asInstanceOf[Long]))\n"
            ]
        },
        {
            "cell_type": "code",
            "metadata": {
                "collapsed": false,
                "id": "064059438BE447369AAA0E9268B9DC5F",
                "input_collapsed": false,
                "trusted": true
            },
            "outputs": [],
            "source": [
                "val graph = Graph(nodesRdd, edgesRdd)"
            ]
        },
        {
            "cell_type": "markdown",
            "metadata": {
                "id": "56D05A8F5C364252B90D311FB6545A70"
            },
            "source": "## Calculate the Page Rank\n\nThis may take couple of minutes depending on the size of the data. The implementation of the algorithm is described [here](https://spark.apache.org/docs/latest/api/scala/index.html#org.apache.spark.graphx.lib.PageRank$)."
        },
        {
            "cell_type": "code",
            "metadata": {
                "collapsed": false,
                "id": "F447A11E0445478C86437D6DE93DEA92",
                "input_collapsed": false,
                "trusted": true
            },
            "outputs": [],
            "source": [
                "val ranks = graph.pageRank(0.001)\n",
                "                 .vertices\n",
                "                 .toDF(\"id\", \"rank\")\n",
                "\n",
                "ranks.show"
            ]
        },
        {
            "cell_type": "markdown",
            "metadata": {
                "id": "FC227B64660044C28631DE9832169B6D"
            },
            "source": "Now we can sort the vertices by their calculated page ranks."
        },
        {
            "cell_type": "code",
            "metadata": {
                "collapsed": false,
                "id": "306648DE2A9742788B669AB3E366CF41",
                "input_collapsed": false,
                "trusted": true
            },
            "outputs": [],
            "source": [
                "val sortedRanks = ranks.join(nodes, \"id\")\n",
                "                       .sort(desc(\"rank\"))\n",
                "\n",
                "sortedRanks.show(5, false)"
            ]
        },
        {
            "cell_type": "code",
            "metadata": {
                "collapsed": false,
                "id": "A98EF9E40EE34BB88EF64CD145BB2612",
                "input_collapsed": false,
                "presentation": {
                    "pivot_chart_state": "{\n  \"hiddenAttributes\": [],\n  \"menuLimit\": 200,\n  \"cols\": [],\n  \"rows\": [],\n  \"vals\": [],\n  \"exclusions\": {},\n  \"inclusions\": {},\n  \"unusedAttrsVertical\": 85,\n  \"autoSortUnusedAttrs\": false,\n  \"inclusionsInfo\": {},\n  \"aggregatorName\": \"Count\",\n  \"rendererName\": \"Table\"\n}",
                    "tabs_state": "{\n  \"tab_id\": \"#tab1059669048-0\"\n}"
                },
                "trusted": true
            },
            "outputs": [
                {
                    "name": "stdout",
                    "output_type": "stream",
                    "text": "top10: Array[String] = Array(C825A1ECF2A6830C4401620C3A16F1995057C2AB, DE21D51F82F065DF011CFB3CDCE09C6F71FC716B, D63066643AFA128CE4BEBB2523242ADF5F07A0A9, AA3750AA18B8A0F3F0590731E1FAB934856680CF, 4FA170CFDE2372AC91D479F989DC4DB5AA8D47E0, 9A4E5250E56CA29765635022FB11624116B226BE, 200413B74F3B34198333778C79AF1728AC9A912A, 7773B5B0576CCC2FC79E94098B7D879CCE8BB377, 7C154ED1DC59609E3D26ABB2DF2EA3D587CD8C41, 9B71CA50A249F283DCE5848A6259EFDD2E47FA4B)\nres299: Array[String] = Array(C825A1ECF2A6830C4401620C3A16F1995057C2AB, DE21D51F82F065DF011CFB3CDCE09C6F71FC716B, D63066643AFA128CE4BEBB2523242ADF5F07A0A9, AA3750AA18B8A0F3F0590731E1FAB934856680CF, 4FA170CFDE2372AC91D479F989DC4DB5AA8D47E0, 9A4E5250E56CA29765635022FB11624116B226BE, 200413B74F3B34198333778C79AF1728AC9A912A, 7773B5B0576CCC2FC79E9409..."
                },
                {
                    "data": {
                        "text/html": "<div>\n      <script data-this=\"{&quot;dataId&quot;:&quot;anonc29a4e5a0c865de2bd5ba82c3b232f36&quot;,&quot;dataInit&quot;:[],&quot;genId&quot;:&quot;1059669048&quot;}\" type=\"text/x-scoped-javascript\">/*<![CDATA[*/req(['../javascripts/notebook/playground','../javascripts/notebook/magic/tabs'], \n      function(playground, _magictabs) {\n        // data ==> data-this (in observable.js's scopedEval) ==> this in JS => { dataId, dataInit, ... }\n        // this ==> scope (in observable.js's scopedEval) ==> this.parentElement ==> div.container below (toHtml)\n\n        playground.call(data,\n                        this\n                        ,\n                        {\n    \"f\": _magictabs,\n    \"o\": {}\n  }\n  \n                        \n                        \n                      );\n      }\n    );/*]]>*/</script>\n    <div>\n      <div>\n        <ul class=\"nav nav-tabs\" id=\"ul1059669048\"><li>\n              <a href=\"#tab1059669048-0\"><i class=\"fa fa-table\"/></a>\n            </li><li>\n              <a href=\"#tab1059669048-1\"><i class=\"fa fa-cubes\"/></a>\n            </li></ul>\n\n        <div class=\"tab-content\" id=\"tab1059669048\"><div class=\"tab-pane\" id=\"tab1059669048-0\">\n            <div>\n      <script data-this=\"{&quot;dataId&quot;:&quot;anon261a2d0edde727e1fa52ec43891678ad&quot;,&quot;dataInit&quot;:[{&quot;string value&quot;:&quot;C825A1ECF2A6830C4401620C3A16F1995057C2AB&quot;},{&quot;string value&quot;:&quot;DE21D51F82F065DF011CFB3CDCE09C6F71FC716B&quot;},{&quot;string value&quot;:&quot;D63066643AFA128CE4BEBB2523242ADF5F07A0A9&quot;},{&quot;string value&quot;:&quot;AA3750AA18B8A0F3F0590731E1FAB934856680CF&quot;},{&quot;string value&quot;:&quot;4FA170CFDE2372AC91D479F989DC4DB5AA8D47E0&quot;},{&quot;string value&quot;:&quot;9A4E5250E56CA29765635022FB11624116B226BE&quot;},{&quot;string value&quot;:&quot;200413B74F3B34198333778C79AF1728AC9A912A&quot;},{&quot;string value&quot;:&quot;7773B5B0576CCC2FC79E94098B7D879CCE8BB377&quot;},{&quot;string value&quot;:&quot;7C154ED1DC59609E3D26ABB2DF2EA3D587CD8C41&quot;},{&quot;string value&quot;:&quot;9B71CA50A249F283DCE5848A6259EFDD2E47FA4B&quot;}],&quot;genId&quot;:&quot;58890138&quot;}\" type=\"text/x-scoped-javascript\">/*<![CDATA[*/req(['../javascripts/notebook/playground','../javascripts/notebook/magic/tableChart'], \n      function(playground, _magictableChart) {\n        // data ==> data-this (in observable.js's scopedEval) ==> this in JS => { dataId, dataInit, ... }\n        // this ==> scope (in observable.js's scopedEval) ==> this.parentElement ==> div.container below (toHtml)\n\n        playground.call(data,\n                        this\n                        ,\n                        {\n    \"f\": _magictableChart,\n    \"o\": {\"headers\":[\"string value\"],\"width\":600,\"height\":400}\n  }\n  \n                        \n                        \n                      );\n      }\n    );/*]]>*/</script>\n    <div>\n      <span class=\"chart-total-item-count\"><p data-bind=\"text: value\"><script data-this=\"{&quot;valueId&quot;:&quot;anon304f913878fd3a0d709b5446e272e0bf&quot;,&quot;initialValue&quot;:&quot;10&quot;}\" type=\"text/x-scoped-javascript\">/*<![CDATA[*/\nreq(\n['observable', 'knockout'],\nfunction (O, ko) {\n  ko.applyBindings({\n      value: O.makeObservable(valueId, initialValue)\n    },\n    this\n  );\n});\n        /*]]>*/</script></p> entries total</span>\n      <span class=\"chart-sampling-warning\"><p data-bind=\"text: value\"><script data-this=\"{&quot;valueId&quot;:&quot;anon88894f4f8b295d6addafed331a6fdde1&quot;,&quot;initialValue&quot;:&quot;&quot;}\" type=\"text/x-scoped-javascript\">/*<![CDATA[*/\nreq(\n['observable', 'knockout'],\nfunction (O, ko) {\n  ko.applyBindings({\n      value: O.makeObservable(valueId, initialValue)\n    },\n    this\n  );\n});\n        /*]]>*/</script></p></span>\n      <div>\n      </div>\n    </div></div>\n            </div><div class=\"tab-pane\" id=\"tab1059669048-1\">\n            <div>\n      <script data-this=\"{&quot;dataId&quot;:&quot;anonb83aedb59e2af8ca3002d40d45577eb6&quot;,&quot;dataInit&quot;:[{&quot;string value&quot;:&quot;C825A1ECF2A6830C4401620C3A16F1995057C2AB&quot;},{&quot;string value&quot;:&quot;DE21D51F82F065DF011CFB3CDCE09C6F71FC716B&quot;},{&quot;string value&quot;:&quot;D63066643AFA128CE4BEBB2523242ADF5F07A0A9&quot;},{&quot;string value&quot;:&quot;AA3750AA18B8A0F3F0590731E1FAB934856680CF&quot;},{&quot;string value&quot;:&quot;4FA170CFDE2372AC91D479F989DC4DB5AA8D47E0&quot;},{&quot;string value&quot;:&quot;9A4E5250E56CA29765635022FB11624116B226BE&quot;},{&quot;string value&quot;:&quot;200413B74F3B34198333778C79AF1728AC9A912A&quot;},{&quot;string value&quot;:&quot;7773B5B0576CCC2FC79E94098B7D879CCE8BB377&quot;},{&quot;string value&quot;:&quot;7C154ED1DC59609E3D26ABB2DF2EA3D587CD8C41&quot;},{&quot;string value&quot;:&quot;9B71CA50A249F283DCE5848A6259EFDD2E47FA4B&quot;}],&quot;genId&quot;:&quot;2143859974&quot;}\" type=\"text/x-scoped-javascript\">/*<![CDATA[*/req(['../javascripts/notebook/playground','../javascripts/notebook/magic/pivotChart'], \n      function(playground, _magicpivotChart) {\n        // data ==> data-this (in observable.js's scopedEval) ==> this in JS => { dataId, dataInit, ... }\n        // this ==> scope (in observable.js's scopedEval) ==> this.parentElement ==> div.container below (toHtml)\n\n        playground.call(data,\n                        this\n                        ,\n                        {\n    \"f\": _magicpivotChart,\n    \"o\": {\"width\":600,\"height\":400,\"derivedAttributes\":{},\"extraOptions\":{}}\n  }\n  \n                        \n                        \n                      );\n      }\n    );/*]]>*/</script>\n    <div>\n      <span class=\"chart-total-item-count\"><p data-bind=\"text: value\"><script data-this=\"{&quot;valueId&quot;:&quot;anon5e72cfa6bfa57282dfa6feff307c8b65&quot;,&quot;initialValue&quot;:&quot;10&quot;}\" type=\"text/x-scoped-javascript\">/*<![CDATA[*/\nreq(\n['observable', 'knockout'],\nfunction (O, ko) {\n  ko.applyBindings({\n      value: O.makeObservable(valueId, initialValue)\n    },\n    this\n  );\n});\n        /*]]>*/</script></p> entries total</span>\n      <span class=\"chart-sampling-warning\"><p data-bind=\"text: value\"><script data-this=\"{&quot;valueId&quot;:&quot;anonc75f17a622f6df2702fb3a8dea1e6a4a&quot;,&quot;initialValue&quot;:&quot;&quot;}\" type=\"text/x-scoped-javascript\">/*<![CDATA[*/\nreq(\n['observable', 'knockout'],\nfunction (O, ko) {\n  ko.applyBindings({\n      value: O.makeObservable(valueId, initialValue)\n    },\n    this\n  );\n});\n        /*]]>*/</script></p></span>\n      <div>\n      </div>\n    </div></div>\n            </div></div>\n      </div>\n    </div></div>"
                    },
                    "execution_count": 182,
                    "metadata": {},
                    "output_type": "execute_result",
                    "time": "Took: 4.559s, at 2017-09-30 14:45"
                }
            ],
            "source": [
                "val top10 = sortedRanks.take(10).map(_(2).toString)\n",
                "\n",
                "top10"
            ]
        },
        {
            "cell_type": "markdown",
            "metadata": {
                "id": "B4A4BDBC889444F39BEF8D9A2DB1A7F8"
            },
            "source": "### Helper functions\n\nBitcoin address is essentially a hash or fingerprint of the public key. In the blockchain for the addresses Bitcoin uses internally `hash160` with zero redundancy. However, humans tend to make mistakes and in order to mittigate the risk of sending money to wrong address by making a typo in the address, there is also address that uses a checksum. It's possible to convert between the two forms of the address.\n\nWe will be using `blockchain.info` API for fetching some useful information about the top ten addresses in our Page Rank calculation. To do that we need to define couple of helper functions."
        },
        {
            "cell_type": "code",
            "metadata": {
                "collapsed": false,
                "id": "F158F501F8544DBD8453FF6C1738157D",
                "input_collapsed": false,
                "presentation": {
                    "pivot_chart_state": "{\n  \"hiddenAttributes\": [],\n  \"menuLimit\": 200,\n  \"cols\": [],\n  \"rows\": [],\n  \"vals\": [],\n  \"exclusions\": {},\n  \"inclusions\": {},\n  \"unusedAttrsVertical\": 85,\n  \"autoSortUnusedAttrs\": false,\n  \"inclusionsInfo\": {},\n  \"aggregatorName\": \"Count\",\n  \"rendererName\": \"Table\"\n}",
                    "tabs_state": "{\n  \"tab_id\": \"#tab744741656-0\"\n}"
                },
                "trusted": true
            },
            "outputs": [],
            "source": [
                "import scala.io.Source.fromURL\n",
                "\n",
                "def makeFunc(path: String)(param: String) = \n",
                "  fromURL(s\"https://blockchain.info/q/$path/$param\").mkString\n",
                "\n",
                "def hashToAddress = makeFunc(\"hashtoaddress\") _\n",
                "def balance = makeFunc(\"addressbalance\") _\n",
                "def totalReceived = makeFunc(\"getreceivedbyaddress\") _\n",
                "def totalSent = makeFunc(\"getsentbyaddress\") _\n",
                "def firstSeen = makeFunc(\"addressfirstseen\") _\n",
                "val rawJson = (addr: String) => fromURL(s\"https://blockchain.info/rawaddr/$addr?limit=0\").mkString\n",
                "\n",
                "val parseJson = (jsonStr: String) => {\n",
                "  val result = scala.util.parsing.json.JSON.parseFull(jsonStr)\n",
                "  result match {\n",
                "    case Some(hash: Map[String, Any]) => List(\"address\", \"total_received\", \"total_sent\", \"final_balance\", \"n_tx\")\n",
                "                                              .map(x => hash(x))\n",
                "    case _ => Nil\n",
                "  }\n",
                "}\n",
                "\n",
                "val getInfo = rawJson.andThen(parseJson)\n",
                "val satoshi2BTC = (input: Double) => input / 1.0E8\n",
                "\n",
                "// https://blockchain.info/ticker\n",
                "val btcInUsd = 4279.92\n",
                "val BTC2USD = (input: Double) => input * btcInUsd\n",
                "val toUSD = satoshi2BTC.andThen(BTC2USD)\n",
                "val formatter = java.text.NumberFormat.getCurrencyInstance\n",
                "val toReadable = satoshi2BTC.andThen(BTC2USD).andThen(formatter.format(_))"
            ]
        },
        {
            "cell_type": "markdown",
            "metadata": {
                "id": "2593C099C1694CE8B6C98F072E0B0F63"
            },
            "source": "Now, let's apply the `getInfo` function to our top 10 addresses."
        },
        {
            "cell_type": "code",
            "metadata": {
                "collapsed": false,
                "id": "2967D4FE1DA14F0996DE30AAE7871CB4",
                "input_collapsed": false,
                "presentation": {
                    "pivot_chart_state": "{\n  \"hiddenAttributes\": [],\n  \"menuLimit\": 200,\n  \"cols\": [],\n  \"rows\": [],\n  \"vals\": [],\n  \"exclusions\": {},\n  \"inclusions\": {},\n  \"unusedAttrsVertical\": 85,\n  \"autoSortUnusedAttrs\": false,\n  \"inclusionsInfo\": {},\n  \"aggregatorName\": \"Count\",\n  \"rendererName\": \"Table\"\n}",
                    "tabs_state": "{\n  \"tab_id\": \"#tab360202904-0\"\n}"
                },
                "trusted": true
            },
            "outputs": [],
            "source": [
                "val top10detailed = top10.map(getInfo)\n",
                "top10detailed"
            ]
        },
        {
            "cell_type": "markdown",
            "metadata": {
                "id": "6251CD095E48489E88ABE9F331CBDF67"
            },
            "source": "And present the results in an HTML table."
        },
        {
            "cell_type": "code",
            "metadata": {
                "collapsed": false,
                "id": "12C1B66003C147128E2BC40B169826E0",
                "input_collapsed": false,
                "presentation": {
                    "pivot_chart_state": "{\n  \"hiddenAttributes\": [],\n  \"menuLimit\": 200,\n  \"cols\": [],\n  \"rows\": [],\n  \"vals\": [],\n  \"exclusions\": {},\n  \"inclusions\": {},\n  \"unusedAttrsVertical\": 85,\n  \"autoSortUnusedAttrs\": false,\n  \"inclusionsInfo\": {},\n  \"aggregatorName\": \"Count\",\n  \"rendererName\": \"Table\"\n}",
                    "tabs_state": "{\n  \"tab_id\": \"#tab434507380-0\"\n}"
                },
                "trusted": true
            },
            "outputs": [],
            "source": [
                "<table>\n",
                "  <tr><td><b>Address</b></td><td><b>Received Ttl</b></td>\n",
                "  <td><b>Sent Ttl</b></td><td><b>Balance</b></td><td><b>Transactions</b></td></tr>\n",
                "{\n",
                "top10detailed.map(record => {\n",
                "  val address = record(0)\n",
                "  val totalRcv = toReadable(record(1).toString.toDouble)\n",
                "  val totalSnt = toReadable(record(2).toString.toDouble)\n",
                "  val balance = toReadable(record(3).toString.toDouble)\n",
                "  val txNumber = record(4)\n",
                "  <tr><td><a href={\"https://blockchain.info/address/\" + address}>{address}</a></td>\n",
                "  <td>{totalRcv}</td>\n",
                "  <td>{totalSnt}</td>\n",
                "  <td>{balance}</td>\n",
                "  <td>{txNumber}</td>\n",
                "  </tr>\n",
                "})\n",
                "}\n",
                "</table>"
            ]
        },
        {
            "cell_type": "markdown",
            "metadata": {
                "id": "D57F8A582AE04F9D91EA083A30FD4838"
            },
            "source": "We can also display the detailed information about any given Bitcoin address."
        },
        {
            "cell_type": "code",
            "metadata": {
                "collapsed": false,
                "id": "9DB5325B8EA5496088E5C0D3D37A16CD",
                "input_collapsed": false,
                "trusted": true
            },
            "outputs": [
                {
                    "name": "stdout",
                    "output_type": "stream",
                    "text": "displayAddress: (address: String)scala.xml.Elem\nres318: scala.xml.Elem = <iframe width=\"1024\" frameborder=\"0\" height=\"630\" src=\"http://bitcoinwhoswho.com/address/1MFXYK1XucKFfhPhW9HDHD3vsM9BKey4qm\"></iframe>\n"
                },
                {
                    "data": {
                        "text/html": "<iframe width=\"1024\" frameborder=\"0\" height=\"630\" src=\"http://bitcoinwhoswho.com/address/1MFXYK1XucKFfhPhW9HDHD3vsM9BKey4qm\"></iframe>"
                    },
                    "execution_count": 193,
                    "metadata": {},
                    "output_type": "execute_result",
                    "time": "Took: 2.202s, at 2017-09-30 14:58"
                }
            ],
            "source": [
                "def displayAddress(address: String) = <iframe \n",
                "  width=\"1024\" frameborder=\"0\" height=\"630\" \n",
                "  src={\"http://bitcoinwhoswho.com/address/\" + address}></iframe>\n",
                "\n",
                "displayAddress(\"1MFXYK1XucKFfhPhW9HDHD3vsM9BKey4qm\")"
            ]
        }
    ],
    "metadata": {
        "auto_save_timestamp": "1970-01-01T01:00:00.000Z",
        "customArgs": null,
        "customDeps": null,
        "customImports": null,
        "customLocalRepo": null,
        "customRepos": null,
        "customSparkConf": null,
        "customVars": null,
        "id": "580d9f21-537b-4f36-ab14-755f340c0632",
        "language_info": {
            "codemirror_mode": "text/x-scala",
            "file_extension": "scala",
            "name": "scala"
        },
        "name": "Blockchain",
        "sparkNotebook": null,
        "trusted": true,
        "user_save_timestamp": "1970-01-01T01:00:00.000Z"
    },
    "nbformat": 4
}
