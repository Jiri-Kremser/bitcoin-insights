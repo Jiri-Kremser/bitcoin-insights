{
  "metadata": {
    "id": "580d9f21-537b-4f36-ab14-755f340c0632",
    "name": "Blockchain",
    "user_save_timestamp": "1970-01-01T01:00:00.000Z",
    "auto_save_timestamp": "1970-01-01T01:00:00.000Z",
    "language_info": {
      "name": "scala",
      "file_extension": "scala",
      "codemirror_mode": "text/x-scala"
    },
    "trusted": true,
    "sparkNotebook": null,
    "customLocalRepo": null,
    "customRepos": null,
    "customDeps": null,
    "customImports": null,
    "customArgs": null,
    "customSparkConf": null,
    "customVars": null
  },
  "cells": [
    {
      "metadata": {
        "id": "1BD94847B63C4394AF1B3AAFABA54F4C"
      },
      "cell_type": "markdown",
      "source": "# Analyse Blockchain with GraphX"
    },
    {
      "metadata": {
        "id": "1C6EE6059BED491E873A4D067054036E"
      },
      "cell_type": "markdown",
      "source": "_Trying identify interesting addresses in the blockchain transaction graph_"
    },
    {
      "metadata": {
        "id": "9D487F6FAEDE4C6B8976FAABA268FCAD"
      },
      "cell_type": "markdown",
      "source": "## Basic setup\n\nHere we will create spark session that is necessary for further dataframe processing.\n"
    },
    {
      "metadata": {
        "trusted": true,
        "input_collapsed": false,
        "collapsed": false,
        "id": "2C7CCB3C43D2425BAD7017C0F0780AF7"
      },
      "cell_type": "code",
      "source": [
        "val spark = SparkSession.builder\n",
        "                    .master(\"local[4]\")\n",
        "                    .getOrCreate()"
      ],
      "outputs": [
        {
          "name": "stdout",
          "output_type": "stream",
          "text": "spark: org.apache.spark.sql.SparkSession = org.apache.spark.sql.SparkSession@285e3ec8\n"
        },
        {
          "metadata": {},
          "data": {
            "text/html": ""
          },
          "output_type": "execute_result",
          "execution_count": 1,
          "time": "Took: 1.092s, at 2017-09-26 13:24"
        }
      ]
    },
    {
      "metadata": {
        "id": "6BAD062F226548978710E3B28A975836"
      },
      "cell_type": "markdown",
      "source": "## Check the data on disk"
    },
    {
      "metadata": {
        "trusted": true,
        "input_collapsed": false,
        "collapsed": false,
        "id": "DABBD04745134831822739BFF782EF9F"
      },
      "cell_type": "code",
      "source": [
        ":sh du -h /tmp/nodes.parquet"
      ],
      "outputs": [
        {
          "name": "stdout",
          "output_type": "stream",
          "text": "25M\t/tmp/nodes.parquet\n\nimport sys.process._\n"
        },
        {
          "metadata": {},
          "data": {
            "text/plain": ""
          },
          "output_type": "execute_result",
          "execution_count": 2,
          "time": "Took: 1.895s, at 2017-09-26 13:24"
        }
      ]
    },
    {
      "metadata": {
        "trusted": true,
        "input_collapsed": false,
        "collapsed": false,
        "id": "0605F16CF90642DE8A71D7A676CE5CA5"
      },
      "cell_type": "code",
      "source": [
        ":sh du -h /tmp/edges.parquet"
      ],
      "outputs": [
        {
          "name": "stdout",
          "output_type": "stream",
          "text": "11M\t/tmp/edges.parquet\n\nimport sys.process._\n"
        },
        {
          "metadata": {},
          "data": {
            "text/plain": ""
          },
          "output_type": "execute_result",
          "execution_count": 3,
          "time": "Took: 1.483s, at 2017-09-26 13:24"
        }
      ]
    },
    {
      "metadata": {
        "id": "2DA4D8DC9A01453ABF0832C1A461AC71"
      },
      "cell_type": "markdown",
      "source": "## Load the data"
    },
    {
      "metadata": {
        "trusted": true,
        "input_collapsed": false,
        "collapsed": false,
        "id": "58F5BF50D84345C193F523A533DEC6E9"
      },
      "cell_type": "code",
      "source": [
        "val rawNodes = spark.read.load(\"/tmp/nodes.parquet\")\n",
        "                    .withColumnRenamed(\"_1\", \"id\")\n",
        "                    .withColumnRenamed(\"_2\", \"Wallet\")"
      ],
      "outputs": [
        {
          "name": "stdout",
          "output_type": "stream",
          "text": "rawNodes: org.apache.spark.sql.DataFrame = [id: bigint, Wallet: string]\n"
        },
        {
          "metadata": {},
          "data": {
            "text/html": ""
          },
          "output_type": "execute_result",
          "execution_count": 4,
          "time": "Took: 2.286s, at 2017-09-26 13:24"
        }
      ]
    },
    {
      "metadata": {
        "id": "5C9D921E0A8744A18015E46326C4EB34"
      },
      "cell_type": "markdown",
      "source": "### Number of vertices"
    },
    {
      "metadata": {
        "trusted": true,
        "input_collapsed": false,
        "collapsed": false,
        "id": "14CFF48EA8F94EC48BA1E896BA7B0DD3"
      },
      "cell_type": "code",
      "source": [
        "rawNodes.count"
      ],
      "outputs": [
        {
          "name": "stdout",
          "output_type": "stream",
          "text": "res7: Long = 546651\n"
        },
        {
          "metadata": {},
          "data": {
            "text/html": "546651"
          },
          "output_type": "execute_result",
          "execution_count": 5,
          "time": "Took: 1.572s, at 2017-09-26 13:24"
        }
      ]
    },
    {
      "metadata": {
        "trusted": true,
        "input_collapsed": false,
        "collapsed": false,
        "id": "71BC35B9AF0244C38005D16168B622E3"
      },
      "cell_type": "code",
      "source": [
        "import org.apache.spark.sql.functions.regexp_replace\n",
        "\n",
        "val nodes = rawNodes.withColumn(\"Wallet\", regexp_replace($\"Wallet\", \"bitcoinaddress_\", \"\")).cache()\n",
        "nodes.show(5)"
      ],
      "outputs": [
        {
          "name": "stdout",
          "output_type": "stream",
          "text": "+---+--------------------+\n| id|              Wallet|\n+---+--------------------+\n|  0|9303DBB4C75A56057...|\n|  1|4D3826A813A4B4E9B...|\n|  2|BECC6154EEF33464E...|\n|  3|4B5E0300F11C2932F...|\n|  4|44730B80C9D5EF65D...|\n+---+--------------------+\nonly showing top 5 rows\n\nimport org.apache.spark.sql.functions.regexp_replace\nnodes: org.apache.spark.sql.Dataset[org.apache.spark.sql.Row] = [id: bigint, Wallet: string]\n"
        },
        {
          "metadata": {},
          "data": {
            "text/html": ""
          },
          "output_type": "execute_result",
          "execution_count": 6,
          "time": "Took: 2.717s, at 2017-09-26 13:24"
        }
      ]
    },
    {
      "metadata": {
        "trusted": true,
        "input_collapsed": false,
        "collapsed": false,
        "id": "E6EE8C40BD2645378DA7868C9B91A1DA"
      },
      "cell_type": "code",
      "source": [
        "val edges = spark.read.load(\"/tmp/edges.parquet\")\n",
        "                      .withColumnRenamed(\"srcId\", \"src\")\n",
        "                      .withColumnRenamed(\"dstId\", \"dst\")\n",
        "                      .cache()\n",
        "edges.show(5)\n",
        "edges.count()"
      ],
      "outputs": [
        {
          "name": "stdout",
          "output_type": "stream",
          "text": "+------+------+-----+\n|   src|   dst| attr|\n+------+------+-----+\n|150102|107378|input|\n|470403|107378|input|\n|232249| 97703|input|\n|539070| 97703|input|\n|131174|176711|input|\n+------+------+-----+\nonly showing top 5 rows\n\nedges: org.apache.spark.sql.Dataset[org.apache.spark.sql.Row] = [src: bigint, dst: bigint ... 1 more field]\nres11: Long = 2087249\n"
        },
        {
          "metadata": {},
          "data": {
            "text/html": "2087249"
          },
          "output_type": "execute_result",
          "execution_count": 7,
          "time": "Took: 2.929s, at 2017-09-26 13:24"
        }
      ]
    },
    {
      "metadata": {
        "id": "D07A81FBF86A4D7FAA6C14469730D4C4"
      },
      "cell_type": "markdown",
      "source": "# Creating the Graph"
    },
    {
      "metadata": {
        "trusted": true,
        "input_collapsed": false,
        "collapsed": false,
        "id": "0060C72E46054322B4C6F8AB8AF21F9E"
      },
      "cell_type": "code",
      "source": [
        "// GraphX expects RDDs, so we need to do the conversion from dataframes here\n",
        "\n",
        "// todo: ugly\n",
        "import org.apache.spark.graphx._\n",
        "val nodesRdd: RDD[(VertexId, String)] = nodes.rdd.map(row => (row(0).asInstanceOf[Long], row(1).asInstanceOf[String]))\n",
        "val edgesRdd: RDD[Edge[Option[String]]] = edges.rdd.map(row => Edge(row(0).asInstanceOf[Long], row(1).asInstanceOf[Long]))\n"
      ],
      "outputs": [
        {
          "name": "stdout",
          "output_type": "stream",
          "text": "import org.apache.spark.graphx._\nnodesRdd: org.apache.spark.rdd.RDD[(org.apache.spark.graphx.VertexId, String)] = MapPartitionsRDD[29] at map at <console>:86\nedgesRdd: org.apache.spark.rdd.RDD[org.apache.spark.graphx.Edge[Option[String]]] = MapPartitionsRDD[33] at map at <console>:87\n"
        },
        {
          "metadata": {},
          "data": {
            "text/html": ""
          },
          "output_type": "execute_result",
          "execution_count": 13,
          "time": "Took: 0.799s, at 2017-09-26 13:27"
        }
      ]
    },
    {
      "metadata": {
        "trusted": true,
        "input_collapsed": false,
        "collapsed": false,
        "id": "064059438BE447369AAA0E9268B9DC5F"
      },
      "cell_type": "code",
      "source": [
        "val graph = Graph(nodesRdd, edgesRdd)"
      ],
      "outputs": [
        {
          "name": "stdout",
          "output_type": "stream",
          "text": "graph: org.apache.spark.graphx.Graph[String,Option[String]] = org.apache.spark.graphx.impl.GraphImpl@34414ef5\n"
        },
        {
          "metadata": {},
          "data": {
            "text/html": ""
          },
          "output_type": "execute_result",
          "execution_count": 14,
          "time": "Took: 0.672s, at 2017-09-26 13:27"
        }
      ]
    },
    {
      "metadata": {
        "id": "0C50DD10B02C4AFEB26FFF3905975D3C"
      },
      "cell_type": "markdown",
      "source": "Triangle count"
    },
    {
      "metadata": {
        "trusted": true,
        "input_collapsed": false,
        "collapsed": false,
        "id": "989E21B19D474AF097C6616C0FEF4352"
      },
      "cell_type": "code",
      "source": [
        "val triCounts = graph.triangleCount().vertices\n",
        "triCounts"
      ],
      "outputs": [
        {
          "name": "stdout",
          "output_type": "stream",
          "text": "triCounts: org.apache.spark.graphx.VertexRDD[Int] = VertexRDDImpl[147] at RDD at VertexRDD.scala:57\nres21: org.apache.spark.graphx.VertexRDD[Int] = VertexRDDImpl[147] at RDD at VertexRDD.scala:57\n"
        },
        {
          "metadata": {},
          "data": {
            "text/html": "VertexRDDImpl[147] at RDD at VertexRDD.scala:57"
          },
          "output_type": "execute_result",
          "execution_count": 16,
          "time": "Took: 0.712s, at 2017-09-26 13:28"
        }
      ]
    },
    {
      "metadata": {
        "trusted": true,
        "input_collapsed": false,
        "collapsed": false,
        "id": "BBF3AC38E10A4ED49D997EB8F0398860"
      },
      "cell_type": "code",
      "source": [
        "val subgraph = graph.subgraph(vpred = (id, wallet) => wallet.startsWith(\"0\"))\n",
        "println(subgraph.vertices.count())\n",
        "println(subgraph.edges.count())\n"
      ],
      "outputs": [
        {
          "name": "stdout",
          "output_type": "stream",
          "text": "28877\n6943\nsubgraph: org.apache.spark.graphx.Graph[String,Option[String]] = org.apache.spark.graphx.impl.GraphImpl@557aa67b\n"
        },
        {
          "metadata": {},
          "data": {
            "text/html": ""
          },
          "output_type": "execute_result",
          "execution_count": 52,
          "time": "Took: 1.343s, at 2017-09-26 13:39"
        }
      ]
    },
    {
      "metadata": {
        "trusted": true,
        "input_collapsed": false,
        "collapsed": false,
        "id": "8AA6EB29999345AC85C99124E80FC323"
      },
      "cell_type": "code",
      "source": [
        "val pagerankGraph = subgraph.pageRank(0.001)\n",
        "pagerankGraph.cache()"
      ],
      "outputs": [
        {
          "name": "stdout",
          "output_type": "stream",
          "text": "pagerankGraph: org.apache.spark.graphx.Graph[Double,Double] = org.apache.spark.graphx.impl.GraphImpl@62f76ba9\nres74: org.apache.spark.graphx.Graph[Double,Double] = org.apache.spark.graphx.impl.GraphImpl@62f76ba9\n"
        },
        {
          "metadata": {},
          "data": {
            "text/html": "org.apache.spark.graphx.impl.GraphImpl@62f76ba9"
          },
          "output_type": "execute_result",
          "execution_count": 45,
          "time": "Took: 5.416s, at 2017-09-26 13:38"
        }
      ]
    },
    {
      "metadata": {
        "trusted": true,
        "input_collapsed": false,
        "collapsed": false,
        "id": "E15F70872FD6464181E172E390C77ACB"
      },
      "cell_type": "code",
      "source": [
        "val ranks = pagerankGraph.vertices\n",
        "ranks.toDF.show"
      ],
      "outputs": [
        {
          "name": "stdout",
          "output_type": "stream",
          "text": "+------+------------------+\n|    _1|                _2|\n+------+------------------+\n|108150|0.9152523662181615|\n|527646|0.9152523662181615|\n|442260|1.3042346218608802|\n| 86303|0.9152523662181615|\n|392525|0.9152523662181615|\n| 18690|0.9152523662181615|\n| 36449|0.9152523662181615|\n|280091|1.6932168775035987|\n|534849|0.9152523662181615|\n|439124|0.9152523662181615|\n|462546|0.9152523662181615|\n|477211|0.9152523662181615|\n|191268|0.9152523662181615|\n|363951|0.9152523662181615|\n|286643|0.9152523662181615|\n|410508|0.9152523662181615|\n|353003|0.9152523662181615|\n|544908|0.9152523662181615|\n|224175|0.9152523662181615|\n|181783| 1.174573869979974|\n+------+------------------+\nonly showing top 20 rows\n\nranks: org.apache.spark.graphx.VertexRDD[Double] = VertexRDDImpl[2721] at RDD at VertexRDD.scala:57\n"
        },
        {
          "metadata": {},
          "data": {
            "text/html": ""
          },
          "output_type": "execute_result",
          "execution_count": 51,
          "time": "Took: 1.254s, at 2017-09-26 13:39"
        }
      ]
    },
    {
      "metadata": {
        "trusted": true,
        "input_collapsed": false,
        "collapsed": false,
        "id": "F447A11E0445478C86437D6DE93DEA92"
      },
      "cell_type": "code",
      "source": [
        "graph.pageRank(0.001).vertices.toDF.show"
      ],
      "outputs": [
        {
          "name": "stdout",
          "output_type": "stream",
          "text": "+------+-------------------+\n|    _1|                 _2|\n+------+-------------------+\n|249487|  0.425519260832563|\n|536298|0.17570600495678032|\n|108150|0.17570600495678032|\n|444087|0.17570600495678032|\n|111517|0.17570600495678032|\n|257320| 0.6897936787896283|\n|363132|  1.331790309639232|\n|231966| 1.9869194312599217|\n|292341| 2.5880830687057723|\n|451731| 1.5510694471398851|\n|475832|0.17570600495678032|\n|213045| 2.0287429723438564|\n| 32676|  1.503250416026544|\n|433811|0.17570600495678032|\n|161980|0.17570600495678032|\n| 81508| 1.6274962844457763|\n|254457|0.17570600495678032|\n|137823| 1.0928021426655743|\n|363818|0.36758542414348955|\n|161091| 1.6864558304320325|\n+------+-------------------+\nonly showing top 20 rows\n\n"
        },
        {
          "metadata": {},
          "data": {
            "text/html": ""
          },
          "output_type": "execute_result",
          "execution_count": 53,
          "time": "Took: 39.063s, at 2017-09-26 13:40"
        }
      ]
    },
    {
      "metadata": {
        "id": "9EABAC5F9D16484288E6D05F15DB9AEB"
      },
      "cell_type": "markdown",
      "source": "### Computing connected components "
    },
    {
      "metadata": {
        "trusted": true,
        "input_collapsed": false,
        "collapsed": true,
        "id": "362F362DBB7D469C83468DD57B839177"
      },
      "cell_type": "code",
      "source": [
        "val cc = graph.connectedComponents"
      ],
      "outputs": []
    },
    {
      "metadata": {
        "id": "D36E686824E54AF18AF80596EEC4DF23"
      },
      "cell_type": "markdown",
      "source": "The `cc` variable is the original graph but vertives' payload/properties is only the cluster to which is belongs. The cluster is characterized by the smallest `VertexId` in the cluster."
    },
    {
      "metadata": {
        "id": "99C104F8FFF544B98C27658691D4B0D3"
      },
      "cell_type": "markdown",
      "source": "#### Number of connected components "
    },
    {
      "metadata": {
        "id": "DFB395F8E0604265B2523730559A6017"
      },
      "cell_type": "markdown",
      "source": "Computing the number of clusters can easily be done by counting the number of distinct `payload` for the vertices."
    },
    {
      "metadata": {
        "trusted": true,
        "input_collapsed": false,
        "collapsed": false,
        "id": "7AB46A2F7DC74B95A1B362D48A2BFC9D"
      },
      "cell_type": "code",
      "source": [
        "<strong style=\"color: red\">{cc.vertices.map(_._2).distinct.count}</strong>"
      ],
      "outputs": [
        {
          "name": "stdout",
          "output_type": "stream",
          "text": "res16: scala.xml.Elem = <strong style=\"color: red\">4774</strong>\n"
        },
        {
          "metadata": {},
          "data": {
            "text/html": "<strong style=\"color: red\">4774</strong>"
          },
          "output_type": "execute_result",
          "execution_count": 12,
          "time": "Took: 1.201s, at 2017-09-26 11:56"
        }
      ]
    }
  ],
  "nbformat": 4
}
