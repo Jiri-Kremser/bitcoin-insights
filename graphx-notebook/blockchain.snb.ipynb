{
    "cells": [
        {
            "cell_type": "markdown",
            "metadata": {
                "id": "1BD94847B63C4394AF1B3AAFABA54F4C"
            },
            "source": "# Analyse Blockchain with GraphX"
        },
        {
            "cell_type": "markdown",
            "metadata": {
                "id": "1C6EE6059BED491E873A4D067054036E"
            },
            "source": "_Trying identify interesting addresses in the blockchain transaction graph_"
        },
        {
            "cell_type": "markdown",
            "metadata": {
                "id": "9D487F6FAEDE4C6B8976FAABA268FCAD"
            },
            "source": "## Basic setup\n\nHere we will create spark session that is necessary for further dataframe processing.\n"
        },
        {
            "cell_type": "code",
            "metadata": {
                "collapsed": false,
                "id": "2C7CCB3C43D2425BAD7017C0F0780AF7",
                "input_collapsed": false,
                "trusted": true
            },
            "outputs": [
                {
                    "name": "stdout",
                    "output_type": "stream",
                    "text": "spark: org.apache.spark.sql.SparkSession = org.apache.spark.sql.SparkSession@2d0dbb1f\n"
                },
                {
                    "data": {
                        "text/html": ""
                    },
                    "execution_count": 1,
                    "metadata": {},
                    "output_type": "execute_result",
                    "time": "Took: 0.976s, at 2017-09-29 13:10"
                }
            ],
            "source": [
                "val spark = SparkSession.builder\n",
                "                    .master(\"local[4]\")\n",
                "                    .getOrCreate()"
            ]
        },
        {
            "cell_type": "markdown",
            "metadata": {
                "id": "6BAD062F226548978710E3B28A975836"
            },
            "source": "## Check the data on disk"
        },
        {
            "cell_type": "code",
            "metadata": {
                "collapsed": false,
                "id": "DABBD04745134831822739BFF782EF9F",
                "input_collapsed": false,
                "trusted": true
            },
            "outputs": [
                {
                    "name": "stdout",
                    "output_type": "stream",
                    "text": "53M\t/tmp/nodes.parquet\n\nimport sys.process._\n"
                },
                {
                    "data": {
                        "text/plain": ""
                    },
                    "execution_count": 2,
                    "metadata": {},
                    "output_type": "execute_result",
                    "time": "Took: 1.674s, at 2017-09-29 13:10"
                }
            ],
            "source": [
                ":sh du -h /tmp/nodes.parquet"
            ]
        },
        {
            "cell_type": "code",
            "metadata": {
                "collapsed": false,
                "id": "0605F16CF90642DE8A71D7A676CE5CA5",
                "input_collapsed": false,
                "trusted": true
            },
            "outputs": [
                {
                    "name": "stdout",
                    "output_type": "stream",
                    "text": "34M\t/tmp/edges.parquet\n\nimport sys.process._\n"
                },
                {
                    "data": {
                        "text/plain": ""
                    },
                    "execution_count": 3,
                    "metadata": {},
                    "output_type": "execute_result",
                    "time": "Took: 1.292s, at 2017-09-29 13:10"
                }
            ],
            "source": [
                ":sh du -h /tmp/edges.parquet"
            ]
        },
        {
            "cell_type": "markdown",
            "metadata": {
                "id": "2DA4D8DC9A01453ABF0832C1A461AC71"
            },
            "source": "## Load the data"
        },
        {
            "cell_type": "code",
            "metadata": {
                "collapsed": false,
                "id": "58F5BF50D84345C193F523A533DEC6E9",
                "input_collapsed": false,
                "trusted": true
            },
            "outputs": [
                {
                    "name": "stdout",
                    "output_type": "stream",
                    "text": "rawNodes: org.apache.spark.sql.DataFrame = [id: bigint, address: string]\n"
                },
                {
                    "data": {
                        "text/html": ""
                    },
                    "execution_count": 5,
                    "metadata": {},
                    "output_type": "execute_result",
                    "time": "Took: 0.758s, at 2017-09-29 13:10"
                }
            ],
            "source": [
                "val rawNodes = spark.read.load(\"/tmp/nodes.parquet\")\n",
                "                    .withColumnRenamed(\"_1\", \"id\")\n",
                "                    .withColumnRenamed(\"_2\", \"address\")"
            ]
        },
        {
            "cell_type": "markdown",
            "metadata": {
                "id": "5C9D921E0A8744A18015E46326C4EB34"
            },
            "source": "### Number of vertices"
        },
        {
            "cell_type": "code",
            "metadata": {
                "collapsed": false,
                "id": "14CFF48EA8F94EC48BA1E896BA7B0DD3",
                "input_collapsed": false,
                "trusted": true
            },
            "outputs": [
                {
                    "name": "stdout",
                    "output_type": "stream",
                    "text": "res8: Long = 1213698\n"
                },
                {
                    "data": {
                        "text/html": "1213698"
                    },
                    "execution_count": 6,
                    "metadata": {},
                    "output_type": "execute_result",
                    "time": "Took: 1.430s, at 2017-09-29 13:10"
                }
            ],
            "source": [
                "rawNodes.count"
            ]
        },
        {
            "cell_type": "code",
            "metadata": {
                "collapsed": false,
                "id": "71BC35B9AF0244C38005D16168B622E3",
                "input_collapsed": false,
                "trusted": true
            },
            "outputs": [
                {
                    "name": "stdout",
                    "output_type": "stream",
                    "text": "+---+--------------------+\n| id|             address|\n+---+--------------------+\n|  0|                null|\n|  1|6CC3A5C1A3DDC35B5...|\n|  2|C6AB2C48504334228...|\n|  3|5B0CD86C0689949A2...|\n|  4|4F2D5BE9122725E7F...|\n+---+--------------------+\nonly showing top 5 rows\n\nimport org.apache.spark.sql.functions.regexp_replace\nnodes: org.apache.spark.sql.Dataset[org.apache.spark.sql.Row] = [id: bigint, address: string]\n"
                },
                {
                    "data": {
                        "text/html": ""
                    },
                    "execution_count": 7,
                    "metadata": {},
                    "output_type": "execute_result",
                    "time": "Took: 1.976s, at 2017-09-29 13:11"
                }
            ],
            "source": [
                "import org.apache.spark.sql.functions.regexp_replace\n",
                "\n",
                "val nodes = rawNodes.withColumn(\"address\", regexp_replace($\"address\", \"bitcoinaddress_\", \"\")).cache()\n",
                "nodes.show(5)"
            ]
        },
        {
            "cell_type": "code",
            "metadata": {
                "collapsed": false,
                "id": "E6EE8C40BD2645378DA7868C9B91A1DA",
                "input_collapsed": false,
                "trusted": true
            },
            "outputs": [
                {
                    "name": "stdout",
                    "output_type": "stream",
                    "text": "+-------+------+-----+\n|    src|   dst| attr|\n+-------+------+-----+\n| 216625|778439|input|\n|1199465|778439|input|\n| 669823|400608|input|\n| 416571|418699|input|\n| 418699|418699|input|\n+-------+------+-----+\nonly showing top 5 rows\n\nedges: org.apache.spark.sql.Dataset[org.apache.spark.sql.Row] = [src: bigint, dst: bigint ... 1 more field]\nres12: Long = 12806337\n"
                },
                {
                    "data": {
                        "text/html": "12806337"
                    },
                    "execution_count": 8,
                    "metadata": {},
                    "output_type": "execute_result",
                    "time": "Took: 4.870s, at 2017-09-29 13:11"
                }
            ],
            "source": [
                "val edges = spark.read.load(\"/tmp/edges.parquet\")\n",
                "                      .withColumnRenamed(\"srcId\", \"src\")\n",
                "                      .withColumnRenamed(\"dstId\", \"dst\")\n",
                "                      .cache()\n",
                "edges.show(5)\n",
                "edges.count()"
            ]
        },
        {
            "cell_type": "markdown",
            "metadata": {
                "id": "D07A81FBF86A4D7FAA6C14469730D4C4"
            },
            "source": "# Creating the Graph"
        },
        {
            "cell_type": "code",
            "metadata": {
                "collapsed": false,
                "id": "0060C72E46054322B4C6F8AB8AF21F9E",
                "input_collapsed": false,
                "trusted": true
            },
            "outputs": [
                {
                    "name": "stdout",
                    "output_type": "stream",
                    "text": "import org.apache.spark.graphx._\nnodesRdd: org.apache.spark.rdd.RDD[(org.apache.spark.graphx.VertexId, String)] = MapPartitionsRDD[31] at map at <console>:86\nedgesRdd: org.apache.spark.rdd.RDD[org.apache.spark.graphx.Edge[Option[String]]] = MapPartitionsRDD[35] at map at <console>:87\n"
                },
                {
                    "data": {
                        "text/html": ""
                    },
                    "execution_count": 9,
                    "metadata": {},
                    "output_type": "execute_result",
                    "time": "Took: 0.787s, at 2017-09-29 13:11"
                }
            ],
            "source": [
                "// GraphX expects RDDs, so we need to do the conversion from dataframes here\n",
                "\n",
                "// todo: ugly\n",
                "import org.apache.spark.graphx._\n",
                "val nodesRdd: RDD[(VertexId, String)] = nodes.rdd.map(row => (row(0).asInstanceOf[Long], row(1).asInstanceOf[String]))\n",
                "val edgesRdd: RDD[Edge[Option[String]]] = edges.rdd.map(row => Edge(row(0).asInstanceOf[Long], row(1).asInstanceOf[Long]))\n"
            ]
        },
        {
            "cell_type": "code",
            "metadata": {
                "collapsed": false,
                "id": "064059438BE447369AAA0E9268B9DC5F",
                "input_collapsed": false,
                "trusted": true
            },
            "outputs": [
                {
                    "name": "stdout",
                    "output_type": "stream",
                    "text": "graph: org.apache.spark.graphx.Graph[String,Option[String]] = org.apache.spark.graphx.impl.GraphImpl@31d84261\n"
                },
                {
                    "data": {
                        "text/html": ""
                    },
                    "execution_count": 10,
                    "metadata": {},
                    "output_type": "execute_result",
                    "time": "Took: 0.649s, at 2017-09-29 13:12"
                }
            ],
            "source": [
                "val graph = Graph(nodesRdd, edgesRdd)"
            ]
        },
        {
            "cell_type": "markdown",
            "metadata": {
                "id": "0C50DD10B02C4AFEB26FFF3905975D3C"
            },
            "source": "Triangle count"
        },
        {
            "cell_type": "code",
            "metadata": {
                "collapsed": false,
                "id": "989E21B19D474AF097C6616C0FEF4352",
                "input_collapsed": false,
                "trusted": true
            },
            "outputs": [
                {
                    "name": "stdout",
                    "output_type": "stream",
                    "text": "triCounts: org.apache.spark.graphx.VertexRDD[Int] = VertexRDDImpl[147] at RDD at VertexRDD.scala:57\nres21: org.apache.spark.graphx.VertexRDD[Int] = VertexRDDImpl[147] at RDD at VertexRDD.scala:57\n"
                },
                {
                    "data": {
                        "text/html": "VertexRDDImpl[147] at RDD at VertexRDD.scala:57"
                    },
                    "execution_count": 16,
                    "metadata": {},
                    "output_type": "execute_result",
                    "time": "Took: 0.712s, at 2017-09-26 13:28"
                }
            ],
            "source": [
                "val triCounts = graph.triangleCount().vertices\n",
                "triCounts"
            ]
        },
        {
            "cell_type": "code",
            "metadata": {
                "collapsed": false,
                "id": "F447A11E0445478C86437D6DE93DEA92",
                "input_collapsed": false,
                "trusted": true
            },
            "outputs": [
                {
                    "name": "stdout",
                    "output_type": "stream",
                    "text": "ranks: org.apache.spark.sql.DataFrame = [id: bigint, rank: double]\n"
                },
                {
                    "data": {
                        "text/html": ""
                    },
                    "execution_count": 16,
                    "metadata": {},
                    "output_type": "execute_result",
                    "time": "Took: 1m26.228s, at 2017-09-29 13:23"
                }
            ],
            "source": [
                "val ranks = graph.pageRank(0.001)\n",
                "                 .vertices\n",
                "                 .toDF(\"id\", \"rank\")\n",
                "\n",
                "ranks.show"
            ]
        },
        {
            "cell_type": "code",
            "metadata": {
                "collapsed": false,
                "id": "306648DE2A9742788B669AB3E366CF41",
                "input_collapsed": false,
                "trusted": true
            },
            "outputs": [
                {
                    "name": "stdout",
                    "output_type": "stream",
                    "text": "+-------+------------------+----------------------------------------+\n|id     |rank              |address                                 |\n+-------+------------------+----------------------------------------+\n|0      |137529.98432158327|null                                    |\n|351756 |13618.23058844001 |C825A1ECF2A6830C4401620C3A16F1995057C2AB|\n|275668 |3765.1174232892163|DE21D51F82F065DF011CFB3CDCE09C6F71FC716B|\n|1108326|2629.374661399439 |D63066643AFA128CE4BEBB2523242ADF5F07A0A9|\n|1178604|2440.636714969531 |AA3750AA18B8A0F3F0590731E1FAB934856680CF|\n+-------+------------------+----------------------------------------+\nonly showing top 5 rows\n\nsortedRanks: org.apache.spark.sql.Dataset[org.apache.spark.sql.Row] = [id: bigint, rank: double ... 1 more field]\n"
                },
                {
                    "data": {
                        "text/html": ""
                    },
                    "execution_count": 3,
                    "metadata": {},
                    "output_type": "execute_result",
                    "time": "Took: 2.050s, at 2017-09-29 14:18"
                }
            ],
            "source": [
                "val sortedRanks = ranks.join(nodes, \"id\")\n",
                "                       .sort(desc(\"rank\"))\n",
                "\n",
                "sortedRanks.show(5, false)"
            ]
        },
        {
            "cell_type": "code",
            "metadata": {
                "collapsed": false,
                "id": "A98EF9E40EE34BB88EF64CD145BB2612",
                "input_collapsed": false,
                "presentation": {
                    "pivot_chart_state": "{\n  \"hiddenAttributes\": [],\n  \"menuLimit\": 200,\n  \"cols\": [],\n  \"rows\": [],\n  \"vals\": [],\n  \"exclusions\": {},\n  \"inclusions\": {},\n  \"unusedAttrsVertical\": 85,\n  \"autoSortUnusedAttrs\": false,\n  \"inclusionsInfo\": {},\n  \"aggregatorName\": \"Count\",\n  \"rendererName\": \"Table\"\n}",
                    "tabs_state": "{\n  \"tab_id\": \"#tab1994254880-0\"\n}"
                },
                "trusted": true
            },
            "outputs": [
                {
                    "name": "stdout",
                    "output_type": "stream",
                    "text": "top5: Array[String] = Array(C825A1ECF2A6830C4401620C3A16F1995057C2AB, DE21D51F82F065DF011CFB3CDCE09C6F71FC716B, D63066643AFA128CE4BEBB2523242ADF5F07A0A9, AA3750AA18B8A0F3F0590731E1FAB934856680CF)\n"
                },
                {
                    "data": {
                        "text/html": ""
                    },
                    "execution_count": 16,
                    "metadata": {},
                    "output_type": "execute_result",
                    "time": "Took: 1.639s, at 2017-09-29 14:25"
                }
            ],
            "source": [
                "val top5 = sortedRanks.take(5).tail.map(_(2).toString)"
            ]
        },
        {
            "cell_type": "code",
            "metadata": {
                "collapsed": false,
                "id": "F158F501F8544DBD8453FF6C1738157D",
                "input_collapsed": false,
                "presentation": {
                    "pivot_chart_state": "{\n  \"hiddenAttributes\": [],\n  \"menuLimit\": 200,\n  \"cols\": [],\n  \"rows\": [],\n  \"vals\": [],\n  \"exclusions\": {},\n  \"inclusions\": {},\n  \"unusedAttrsVertical\": 85,\n  \"autoSortUnusedAttrs\": false,\n  \"inclusionsInfo\": {},\n  \"aggregatorName\": \"Count\",\n  \"rendererName\": \"Table\"\n}",
                    "tabs_state": "{\n  \"tab_id\": \"#tab744741656-0\"\n}"
                },
                "trusted": true
            },
            "outputs": [
                {
                    "name": "stdout",
                    "output_type": "stream",
                    "text": "import scala.io.Source.fromURL\nhashToAddress: (hash: String)String\ntopAddresses: Array[String] = Array(1KFHE7w8BhaENAswwryaoccDb6qcT6DbYY, 1MFXYK1XucKFfhPhW9HDHD3vsM9BKey4qm, 1LXXawYPVsMEpsDWmEJ3RZBTbNxPQwXv5t, 1GX28yLjVWux7ws4UQ9FB4MnLH4UKTPK2z)\nres101: Array[String] = Array(1KFHE7w8BhaENAswwryaoccDb6qcT6DbYY, 1MFXYK1XucKFfhPhW9HDHD3vsM9BKey4qm, 1LXXawYPVsMEpsDWmEJ3RZBTbNxPQwXv5t, 1GX28yLjVWux7ws4UQ9FB4MnLH4UKTPK2z)\n"
                },
                {
                    "data": {
                        "text/html": "<div>\n      <script data-this=\"{&quot;dataId&quot;:&quot;anonf1fcfd8b278d6b04cb2d9d8fa20484e2&quot;,&quot;dataInit&quot;:[],&quot;genId&quot;:&quot;744741656&quot;}\" type=\"text/x-scoped-javascript\">/*<![CDATA[*/req(['../javascripts/notebook/playground','../javascripts/notebook/magic/tabs'], \n      function(playground, _magictabs) {\n        // data ==> data-this (in observable.js's scopedEval) ==> this in JS => { dataId, dataInit, ... }\n        // this ==> scope (in observable.js's scopedEval) ==> this.parentElement ==> div.container below (toHtml)\n\n        playground.call(data,\n                        this\n                        ,\n                        {\n    \"f\": _magictabs,\n    \"o\": {}\n  }\n  \n                        \n                        \n                      );\n      }\n    );/*]]>*/</script>\n    <div>\n      <div>\n        <ul class=\"nav nav-tabs\" id=\"ul744741656\"><li>\n              <a href=\"#tab744741656-0\"><i class=\"fa fa-table\"/></a>\n            </li><li>\n              <a href=\"#tab744741656-1\"><i class=\"fa fa-cubes\"/></a>\n            </li></ul>\n\n        <div class=\"tab-content\" id=\"tab744741656\"><div class=\"tab-pane\" id=\"tab744741656-0\">\n            <div>\n      <script data-this=\"{&quot;dataId&quot;:&quot;anon2302caa750fd4b19fe231e383bcb0e7b&quot;,&quot;dataInit&quot;:[{&quot;string value&quot;:&quot;1KFHE7w8BhaENAswwryaoccDb6qcT6DbYY&quot;},{&quot;string value&quot;:&quot;1MFXYK1XucKFfhPhW9HDHD3vsM9BKey4qm&quot;},{&quot;string value&quot;:&quot;1LXXawYPVsMEpsDWmEJ3RZBTbNxPQwXv5t&quot;},{&quot;string value&quot;:&quot;1GX28yLjVWux7ws4UQ9FB4MnLH4UKTPK2z&quot;}],&quot;genId&quot;:&quot;469118974&quot;}\" type=\"text/x-scoped-javascript\">/*<![CDATA[*/req(['../javascripts/notebook/playground','../javascripts/notebook/magic/tableChart'], \n      function(playground, _magictableChart) {\n        // data ==> data-this (in observable.js's scopedEval) ==> this in JS => { dataId, dataInit, ... }\n        // this ==> scope (in observable.js's scopedEval) ==> this.parentElement ==> div.container below (toHtml)\n\n        playground.call(data,\n                        this\n                        ,\n                        {\n    \"f\": _magictableChart,\n    \"o\": {\"headers\":[\"string value\"],\"width\":600,\"height\":400}\n  }\n  \n                        \n                        \n                      );\n      }\n    );/*]]>*/</script>\n    <div>\n      <span class=\"chart-total-item-count\"><p data-bind=\"text: value\"><script data-this=\"{&quot;valueId&quot;:&quot;anon36d460d8af3f0e5df3dacb6c48610aa5&quot;,&quot;initialValue&quot;:&quot;4&quot;}\" type=\"text/x-scoped-javascript\">/*<![CDATA[*/\nreq(\n['observable', 'knockout'],\nfunction (O, ko) {\n  ko.applyBindings({\n      value: O.makeObservable(valueId, initialValue)\n    },\n    this\n  );\n});\n        /*]]>*/</script></p> entries total</span>\n      <span class=\"chart-sampling-warning\"><p data-bind=\"text: value\"><script data-this=\"{&quot;valueId&quot;:&quot;anonbd4eaa01d75f4a80f758114e69344d4d&quot;,&quot;initialValue&quot;:&quot;&quot;}\" type=\"text/x-scoped-javascript\">/*<![CDATA[*/\nreq(\n['observable', 'knockout'],\nfunction (O, ko) {\n  ko.applyBindings({\n      value: O.makeObservable(valueId, initialValue)\n    },\n    this\n  );\n});\n        /*]]>*/</script></p></span>\n      <div>\n      </div>\n    </div></div>\n            </div><div class=\"tab-pane\" id=\"tab744741656-1\">\n            <div>\n      <script data-this=\"{&quot;dataId&quot;:&quot;anonf2b0c76ce42814978f70d92b28bec407&quot;,&quot;dataInit&quot;:[{&quot;string value&quot;:&quot;1KFHE7w8BhaENAswwryaoccDb6qcT6DbYY&quot;},{&quot;string value&quot;:&quot;1MFXYK1XucKFfhPhW9HDHD3vsM9BKey4qm&quot;},{&quot;string value&quot;:&quot;1LXXawYPVsMEpsDWmEJ3RZBTbNxPQwXv5t&quot;},{&quot;string value&quot;:&quot;1GX28yLjVWux7ws4UQ9FB4MnLH4UKTPK2z&quot;}],&quot;genId&quot;:&quot;1553115033&quot;}\" type=\"text/x-scoped-javascript\">/*<![CDATA[*/req(['../javascripts/notebook/playground','../javascripts/notebook/magic/pivotChart'], \n      function(playground, _magicpivotChart) {\n        // data ==> data-this (in observable.js's scopedEval) ==> this in JS => { dataId, dataInit, ... }\n        // this ==> scope (in observable.js's scopedEval) ==> this.parentElement ==> div.container below (toHtml)\n\n        playground.call(data,\n                        this\n                        ,\n                        {\n    \"f\": _magicpivotChart,\n    \"o\": {\"width\":600,\"height\":400,\"derivedAttributes\":{},\"extraOptions\":{}}\n  }\n  \n                        \n                        \n                      );\n      }\n    );/*]]>*/</script>\n    <div>\n      <span class=\"chart-total-item-count\"><p data-bind=\"text: value\"><script data-this=\"{&quot;valueId&quot;:&quot;anon6d7296771caa3ba9f41d04a657199ed8&quot;,&quot;initialValue&quot;:&quot;4&quot;}\" type=\"text/x-scoped-javascript\">/*<![CDATA[*/\nreq(\n['observable', 'knockout'],\nfunction (O, ko) {\n  ko.applyBindings({\n      value: O.makeObservable(valueId, initialValue)\n    },\n    this\n  );\n});\n        /*]]>*/</script></p> entries total</span>\n      <span class=\"chart-sampling-warning\"><p data-bind=\"text: value\"><script data-this=\"{&quot;valueId&quot;:&quot;anonf2497b216571fc6086867ed2155d9903&quot;,&quot;initialValue&quot;:&quot;&quot;}\" type=\"text/x-scoped-javascript\">/*<![CDATA[*/\nreq(\n['observable', 'knockout'],\nfunction (O, ko) {\n  ko.applyBindings({\n      value: O.makeObservable(valueId, initialValue)\n    },\n    this\n  );\n});\n        /*]]>*/</script></p></span>\n      <div>\n      </div>\n    </div></div>\n            </div></div>\n      </div>\n    </div></div>"
                    },
                    "execution_count": 20,
                    "metadata": {},
                    "output_type": "execute_result",
                    "time": "Took: 0.819s, at 2017-09-29 14:28"
                }
            ],
            "source": [
                "import scala.io.Source.fromURL\n",
                "\n",
                "def hashToAddress(hash: String): String = \n",
                "  fromURL(s\"https://blockchain.info/q/hashtoaddress/$hash\").mkString\n",
                "\n",
                "val topAddresses = top5.map(hashToAddress)\n",
                "topAddresses\n"
            ]
        },
        {
            "cell_type": "code",
            "metadata": {
                "collapsed": false,
                "id": "E083497278984F65BF70AA3F291A3617",
                "input_collapsed": false,
                "trusted": true
            },
            "outputs": [
                {
                    "name": "stdout",
                    "output_type": "stream",
                    "text": "getBallance: (address: String)String\nres109: String = 75511369157\n"
                },
                {
                    "data": {
                        "text/html": "75511369157"
                    },
                    "execution_count": 25,
                    "metadata": {},
                    "output_type": "execute_result",
                    "time": "Took: 1.782s, at 2017-09-29 14:29"
                }
            ],
            "source": [
                "def getBallance(address: String): String = \n",
                "  fromURL(s\"https://blockchain.info/q/addressbalance/$address\").mkString\n",
                "\n",
                "getBallance(\"1KFHE7w8BhaENAswwryaoccDb6qcT6DbYY\")\n",
                "\n",
                "// todo: in usd\n",
                "// todo: check why the first 1 is missing in the page rank\\\n",
                "\n",
                "// getreceivedbyaddress/Address - Get the total number of bitcoins received by an address (in satoshi). Multiple addresses separated by | Do not use to process payments without the confirmations parameter\n",
                "// Add the parameters start_time and end_time to restrict received by to a specific time period. Provided times should be a unix timestamp in milliseconds. Multiple addresses separated by |\n",
                "\n",
                "// getsentbyaddress/Address - Get the total number of bitcoins send by an address (in satoshi). Multiple addresses separated by | Do not use to process payments without the confirmations parameter\n",
                "// addressbalance/Address - Get the balance of an address (in satoshi). Multiple addresses separated by | Do not use to process payments without the confirmations parameter\n",
                "// addressfirstseen/Address - Timestamp of the block an address was first confirmed in.\n"
            ]
        },
        {
            "cell_type": "code",
            "metadata": {
                "collapsed": false,
                "id": "9DB5325B8EA5496088E5C0D3D37A16CD",
                "input_collapsed": false,
                "trusted": true
            },
            "outputs": [
                {
                    "name": "stdout",
                    "output_type": "stream",
                    "text": "res68: scala.xml.Elem = <iframe width=\"700\" frameborder=\"0\" height=\"350\" src=\"http://bitcoinwhoswho.com/address/1MFXYK1XucKFfhPhW9HDHD3vsM9BKey4qm\"></iframe>\n"
                },
                {
                    "data": {
                        "text/html": "<iframe width=\"700\" frameborder=\"0\" height=\"350\" src=\"http://bitcoinwhoswho.com/address/1MFXYK1XucKFfhPhW9HDHD3vsM9BKey4qm\"></iframe>"
                    },
                    "execution_count": 40,
                    "metadata": {},
                    "output_type": "execute_result",
                    "time": "Took: 0.595s, at 2017-09-29 13:51"
                }
            ],
            "source": [
                "hashtoaddress/Hash\n",
                "\n",
                "<iframe \n",
                "width=\"700\" frameborder=\"0\" height=\"350\" \n",
                "src=\"http://bitcoinwhoswho.com/address/1MFXYK1XucKFfhPhW9HDHD3vsM9BKey4qm\"></iframe>\n",
                "// <iframe src=\"https://www.google.com/search?q=Im+Feeling+Lucky\" width=700 height=350></iframe>\n"
            ]
        },
        {
            "cell_type": "code",
            "metadata": {
                "collapsed": true,
                "id": "5BF9B0DE3ECD4AE6847442984C8E532B",
                "input_collapsed": false,
                "trusted": true
            },
            "outputs": [],
            "source": [
                ""
            ]
        }
    ],
    "metadata": {
        "auto_save_timestamp": "1970-01-01T01:00:00.000Z",
        "customArgs": null,
        "customDeps": null,
        "customImports": null,
        "customLocalRepo": null,
        "customRepos": null,
        "customSparkConf": null,
        "customVars": null,
        "id": "580d9f21-537b-4f36-ab14-755f340c0632",
        "language_info": {
            "codemirror_mode": "text/x-scala",
            "file_extension": "scala",
            "name": "scala"
        },
        "name": "Blockchain",
        "sparkNotebook": null,
        "trusted": true,
        "user_save_timestamp": "1970-01-01T01:00:00.000Z"
    },
    "nbformat": 4
}
