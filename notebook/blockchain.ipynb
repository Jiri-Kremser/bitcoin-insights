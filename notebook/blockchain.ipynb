{
 "cells": [
  {
   "cell_type": "markdown",
   "metadata": {},
   "source": [
    "# Blockchain analysis\n",
    "todo"
   ]
  },
  {
   "cell_type": "markdown",
   "metadata": {},
   "source": [
    "## Basic setup\n",
    "\n",
    "Here we will import the `pyspark` module and set up a `SparkSession`.  By default, we'll use a `SparkSession` running locally, with one Spark executor; we're dealing with small data, so it doesn't make sense to run against a cluster.\n"
   ]
  },
  {
   "cell_type": "code",
   "execution_count": 1,
   "metadata": {
    "collapsed": true
   },
   "outputs": [],
   "source": [
    "import pyspark\n",
    "from pyspark.context import SparkContext\n",
    "from pyspark.sql import SparkSession, SQLContext\n",
    "from pyspark.sql.functions import regexp_replace\n",
    "\n",
    "spark = SparkSession.builder.master(\"local[1]\").getOrCreate()\n",
    "sc = spark.sparkContext"
   ]
  },
  {
   "cell_type": "markdown",
   "metadata": {},
   "source": [
    "## Loading the data\n",
    "\n",
    "To obtain the graph representing the transaction in the Bitcoin network, we need to load set of nodes representing the wallets (fingerprints of the public keys) and the set of edges representing each transaction. For this example we will use two parquet files that were generated from the blockchain data by this [convertor](https://github.com/Jiri-Kremser/bitcoin-insights/tree/master/parquet-converter)."
   ]
  },
  {
   "cell_type": "code",
   "execution_count": 2,
   "metadata": {},
   "outputs": [
    {
     "name": "stdout",
     "output_type": "stream",
     "text": [
      "+---+--------------------+\n",
      "| id|              Wallet|\n",
      "+---+--------------------+\n",
      "|  0|bitcoinaddress_93...|\n",
      "|  1|bitcoinaddress_4D...|\n",
      "|  2|bitcoinaddress_BE...|\n",
      "|  3|bitcoinaddress_4B...|\n",
      "|  4|bitcoinaddress_44...|\n",
      "+---+--------------------+\n",
      "only showing top 5 rows\n",
      "\n"
     ]
    }
   ],
   "source": [
    "raw_nodes = spark.read.load(\"/data/nodes.parquet\") \\\n",
    "                      .withColumnRenamed(\"_1\", \"id\") \\\n",
    "                      .withColumnRenamed(\"_2\", \"Wallet\")\n",
    "raw_nodes.show(5)"
   ]
  },
  {
   "cell_type": "markdown",
   "metadata": {
    "collapsed": true
   },
   "source": [
    "As you can see, each record in the wallet column contains a string `bitcoinaddress_<hash>`, where the hash is the actual address of the wallet. Let's remove the redundant prefix."
   ]
  },
  {
   "cell_type": "code",
   "execution_count": 3,
   "metadata": {},
   "outputs": [
    {
     "name": "stdout",
     "output_type": "stream",
     "text": [
      "+---+--------------------+\n",
      "| id|              Wallet|\n",
      "+---+--------------------+\n",
      "|  0|9303DBB4C75A56057...|\n",
      "|  1|4D3826A813A4B4E9B...|\n",
      "|  2|BECC6154EEF33464E...|\n",
      "|  3|4B5E0300F11C2932F...|\n",
      "|  4|44730B80C9D5EF65D...|\n",
      "+---+--------------------+\n",
      "only showing top 5 rows\n",
      "\n"
     ]
    }
   ],
   "source": [
    "nodes = raw_nodes.withColumn(\"Wallet\", regexp_replace(\"Wallet\", \"bitcoinaddress_\", \"\")).cache()\n",
    "nodes.show(5)"
   ]
  },
  {
   "cell_type": "markdown",
   "metadata": {
    "collapsed": true
   },
   "source": [
    "As you can see, each record in the wallet column contains a string `bitcoinaddress_<hash>`, where the hash is the actual address of the wallet. Let's remove the redundant prefix."
   ]
  },
  {
   "cell_type": "markdown",
   "metadata": {
    "collapsed": true
   },
   "source": [
    "We can also verify, that these addresses are real on https://blockchain.info/address/. \n",
    "\n",
    "Example:\n",
    " * get random address"
   ]
  },
  {
   "cell_type": "code",
   "execution_count": 4,
   "metadata": {},
   "outputs": [
    {
     "data": {
      "text/plain": [
       "u'BDBAC450149BEDEDDFAF968166B46E84839178FF'"
      ]
     },
     "execution_count": 4,
     "metadata": {},
     "output_type": "execute_result"
    }
   ],
   "source": [
    "random_address = nodes.rdd.takeSample(False, 1)[0][1]\n",
    "random_address"
   ]
  },
  {
   "cell_type": "markdown",
   "metadata": {
    "collapsed": true
   },
   "source": [
    " * create the link from the address: https://blockchain.info/address/{{random_address}} \n",
    " \n",
    " (todo: http://jupyter-contrib-nbextensions.readthedocs.io/en/latest/nbextensions/python-markdown/readme.html)"
   ]
  },
  {
   "cell_type": "code",
   "execution_count": 5,
   "metadata": {},
   "outputs": [
    {
     "name": "stdout",
     "output_type": "stream",
     "text": [
      "+------+------+-----+\n",
      "|   src|   dst| attr|\n",
      "+------+------+-----+\n",
      "|150102|107378|input|\n",
      "|470403|107378|input|\n",
      "|232249| 97703|input|\n",
      "|539070| 97703|input|\n",
      "|131174|176711|input|\n",
      "+------+------+-----+\n",
      "only showing top 5 rows\n",
      "\n"
     ]
    },
    {
     "data": {
      "text/plain": [
       "2087249"
      ]
     },
     "execution_count": 5,
     "metadata": {},
     "output_type": "execute_result"
    }
   ],
   "source": [
    "edges = spark.read.load(\"/data/edges.parquet\") \\\n",
    "                  .withColumnRenamed(\"srcId\", \"src\") \\\n",
    "                  .withColumnRenamed(\"dstId\", \"dst\") \\\n",
    "                  .cache()\n",
    "edges.show(5)\n",
    "edges.count()"
   ]
  },
  {
   "cell_type": "markdown",
   "metadata": {
    "collapsed": true
   },
   "source": [
    "## Constructing the graph representation\n",
    "\n",
    "Spark contains API for graph processing. It's called [graphx](https://spark.apache.org/graphx/) and it also comes with multiple built-in algorithms like page-rank. It uses the [Pregel API](https://spark.apache.org/docs/latest/graphx-programming-guide.html#pregel-api)."
   ]
  },
  {
   "cell_type": "code",
   "execution_count": 6,
   "metadata": {
    "collapsed": true
   },
   "outputs": [],
   "source": [
    "from graphframes import *\n",
    "\n",
    "g = GraphFrame(nodes, edges).cache()"
   ]
  },
  {
   "cell_type": "markdown",
   "metadata": {
    "collapsed": true
   },
   "source": [
    "#### Get the top 10 wallets with respect to the transaction count\n",
    "\n",
    "First, by sorting the nodes by `inDegree` which corresponds to the number of transactions received."
   ]
  },
  {
   "cell_type": "code",
   "execution_count": 7,
   "metadata": {
    "scrolled": true
   },
   "outputs": [
    {
     "data": {
      "text/plain": [
       "[Row(inDegree=121885, Wallet=u'F4B004C3CA2E7F96F9FC5BCA767708967AF67A44'),\n",
       " Row(inDegree=69445, Wallet=u'E1BB16A26D591FD766C1B23FAEC067301AFA8A07'),\n",
       " Row(inDegree=68626, Wallet=u'5605C6DC8A9672A014225BAC565DB25BCEC649A2'),\n",
       " Row(inDegree=5763, Wallet=u'66A731E9FEB460A3A48B5C56BB635B3A409DBD56'),\n",
       " Row(inDegree=3100, Wallet=u'17EBC6064CB035D84DC177CE763D2C93FD5556C6'),\n",
       " Row(inDegree=2380, Wallet=u'7B1DD94268DF8E11BA27AB1C99C61E914C717246'),\n",
       " Row(inDegree=2338, Wallet=u'A84458A0E8F009B3780CAC779873D298CF22BE8A'),\n",
       " Row(inDegree=2113, Wallet=u'EB9A27CF65B32AABA6FD08D7C4DE65F4C7CF9361'),\n",
       " Row(inDegree=2080, Wallet=u'EFB0CD7206CCF14275643097970DB8A38497B61D'),\n",
       " Row(inDegree=2002, Wallet=u'9B3A7C3A61712270055C1E4AC6FF2704D3ACB1E0')]"
      ]
     },
     "execution_count": 7,
     "metadata": {},
     "output_type": "execute_result"
    }
   ],
   "source": [
    "vertexInDegrees = g.inDegrees\n",
    "vertexInDegrees.join(nodes, vertexInDegrees.id == nodes.id) \\\n",
    "               .drop(\"id\") \\\n",
    "               .orderBy(\"inDegree\", ascending=False) \\\n",
    "               .take(10)"
   ]
  },
  {
   "cell_type": "markdown",
   "metadata": {
    "collapsed": true
   },
   "source": [
    "Then by using the `outDegree` ~ # transactions sent"
   ]
  },
  {
   "cell_type": "code",
   "execution_count": 8,
   "metadata": {
    "scrolled": true
   },
   "outputs": [
    {
     "data": {
      "text/plain": [
       "[Row(outDegree=2870, Wallet=u'7B1DD94268DF8E11BA27AB1C99C61E914C717246'),\n",
       " Row(outDegree=1965, Wallet=u'CBD3148D93C205F862599C080556A2A531146A3B'),\n",
       " Row(outDegree=1952, Wallet=u'9B3A7C3A61712270055C1E4AC6FF2704D3ACB1E0'),\n",
       " Row(outDegree=1694, Wallet=u'580740AC5A1B84C24D7EDB3F3AFC635BDFFB587B'),\n",
       " Row(outDegree=1675, Wallet=u'826AC9812C2BE5FE349A61ACD393F1F38E8C7D2D'),\n",
       " Row(outDegree=1590, Wallet=u'17EBC6064CB035D84DC177CE763D2C93FD5556C6'),\n",
       " Row(outDegree=1577, Wallet=u'EFB0CD7206CCF14275643097970DB8A38497B61D'),\n",
       " Row(outDegree=1568, Wallet=u'A84458A0E8F009B3780CAC779873D298CF22BE8A'),\n",
       " Row(outDegree=1559, Wallet=u'64B7D877B3DB608FD62EC8034770FD0AEFE9975A'),\n",
       " Row(outDegree=1559, Wallet=u'5445DAC9A29FCDE8C7C896CF063923FBED4F5D2C')]"
      ]
     },
     "execution_count": 8,
     "metadata": {},
     "output_type": "execute_result"
    }
   ],
   "source": [
    "vertexOutDegrees = g.outDegrees\n",
    "vertexOutDegrees.join(nodes, vertexOutDegrees.id == nodes.id) \\\n",
    "                .drop(\"id\") \\\n",
    "                .orderBy(\"outDegree\", ascending=False) \\\n",
    "                .take(10)"
   ]
  },
  {
   "cell_type": "markdown",
   "metadata": {
    "collapsed": true
   },
   "source": [
    "You can verify on blockchain.info that the actual number of transaction is lower than what we have just calculated. This stems from the fact how Bitcoin works, when sending BTC from a wallet to another one, it actually sends all the BTC and the receiving node will sends back the rest. We are oversimplyfying here and you can find the details [here](https://en.bitcoin.it/wiki/Transaction) or [here](https://bitcoin.stackexchange.com/questions/9007/why-are-there-two-transaction-outputs-when-sending-to-one-address)."
   ]
  },
  {
   "cell_type": "markdown",
   "metadata": {
    "collapsed": true
   },
   "source": [
    "#### Find circles of length 2"
   ]
  },
  {
   "cell_type": "code",
   "execution_count": 9,
   "metadata": {},
   "outputs": [
    {
     "name": "stdout",
     "output_type": "stream",
     "text": [
      "+--------------------+--------------------+\n",
      "|                   a|                   b|\n",
      "+--------------------+--------------------+\n",
      "|[372848,C27A8B1D3...|[9015,F4F92E73273...|\n",
      "|[372848,C27A8B1D3...|[9015,F4F92E73273...|\n",
      "|[481075,AC3A9CBF2...|[16851,225B70F51E...|\n",
      "|[481075,AC3A9CBF2...|[16851,225B70F51E...|\n",
      "|[481075,AC3A9CBF2...|[16851,225B70F51E...|\n",
      "+--------------------+--------------------+\n",
      "only showing top 5 rows\n",
      "\n"
     ]
    }
   ],
   "source": [
    "motifs = g.find(\"(a)-[]->(b); (b)-[]->(a)\")\n",
    "# motifs.count()\n",
    "motifs.show(5)"
   ]
  },
  {
   "cell_type": "markdown",
   "metadata": {
    "collapsed": true
   },
   "source": [
    "#### Foo"
   ]
  },
  {
   "cell_type": "code",
   "execution_count": 10,
   "metadata": {
    "collapsed": true
   },
   "outputs": [],
   "source": [
    "# this fails with OOM error\n",
    "#results = g.pageRank(resetProbability=0.15, maxIter=1)\n",
    "#results.vertices.select(\"id\", \"pagerank\").show()\n",
    "#results.edges.select(\"src\", \"dst\", \"weight\").show()\n",
    "\n",
    "# g.labelPropagation(maxIter)\n",
    "\n",
    "# this would be nice display(ranks.vertices.orderBy(ranks.vertices.pagerank.desc()).limit(20))"
   ]
  },
  {
   "cell_type": "markdown",
   "metadata": {
    "collapsed": true
   },
   "source": [
    "## Visualization of a sub-graph\n",
    "\n",
    "Our data contain a lot of transactions (2 087 249 transactions among 546 651 wallets) so let's show only a small fraction of the transaction graph."
   ]
  },
  {
   "cell_type": "code",
   "execution_count": 11,
   "metadata": {},
   "outputs": [
    {
     "data": {
      "application/javascript": [
       "require.config({\n",
       "    paths: {\n",
       "        sigmajs: 'https://cdnjs.cloudflare.com/ajax/libs/sigma.js/1.2.0/sigma.min'\n",
       "    }\n",
       "});\n",
       "\n",
       "require(['sigmajs']);"
      ],
      "text/plain": [
       "<IPython.core.display.Javascript object>"
      ]
     },
     "metadata": {},
     "output_type": "display_data"
    }
   ],
   "source": [
    "%%javascript\n",
    "require.config({\n",
    "    paths: {\n",
    "        sigmajs: 'https://cdnjs.cloudflare.com/ajax/libs/sigma.js/1.2.0/sigma.min'\n",
    "    }\n",
    "});\n",
    "\n",
    "require(['sigmajs']);"
   ]
  },
  {
   "cell_type": "code",
   "execution_count": null,
   "metadata": {},
   "outputs": [],
   "source": [
    "# sub_nodes = g.vertices.filter(\"id < 10\")\n",
    "# sub_graph = GraphFrame(sub_nodes, edges)\n",
    "# sub_graph\n",
    "\n",
    "\n",
    "\n",
    "from IPython.core.display import display, HTML\n",
    "from string import Template\n",
    "import pandas as pd\n",
    "import json, random\n",
    "\n",
    "\n",
    "random.seed(42)\n",
    "\n",
    "n_nodes = 40\n",
    "n_edges = 200\n",
    "\n",
    "graph_data = { 'nodes': [], 'edges': [] }\n",
    "\n",
    "for i in range(n_nodes):\n",
    "    graph_data['nodes'].append({\n",
    "            \"id\": \"n\" + str(i),\n",
    "            \"label\": \"n\" + str(i),\n",
    "            \"x\": random.uniform(0,1),\n",
    "            \"y\": random.uniform(0,1),\n",
    "            \"size\": random.uniform(0.2,1)\n",
    "        })\n",
    "\n",
    "for j in range(n_edges):\n",
    "    x_center = random.uniform(0,1)\n",
    "    y_center = random.uniform(0,1)\n",
    "    x_dist = random.uniform(0.1,0.5)\n",
    "    y_dist = random.uniform(0.2,0.5)\n",
    "    neighborhood = []\n",
    "    for node in graph_data['nodes']:\n",
    "        if abs(node['x'] - x_center) < x_dist:\n",
    "            if abs(node['y'] - y_center) < y_dist:\n",
    "                neighborhood.append(int(node['id'].replace('n','')))\n",
    "    if len(neighborhood) >= 2:\n",
    "        ends = random.sample(neighborhood,2)\n",
    "        graph_data['edges'].append({\n",
    "                \"id\": \"e\" + str(j),\n",
    "                \"source\": \"n\" + str(ends[0]),\n",
    "                \"target\": \"n\" + str(ends[1])\n",
    "            })\n",
    "        \n",
    "pd.DataFrame(graph_data['nodes']).head()\n",
    "\n",
    "pd.DataFrame(graph_data['edges']).head()\n",
    "\n",
    "js_text_template = Template(open('js/sigma-graph.js','r').read())\n",
    "\n",
    "js_text = js_text_template.substitute({'graph_data': json.dumps(graph_data),\n",
    "                                       'container': 'graph-div'})\n",
    "\n",
    "html_template = Template('''\n",
    "<div id=\"graph-div\" style=\"height:400px\"></div>\n",
    "<script> $js_text </script>\n",
    "''')\n",
    "\n",
    "HTML(html_template.substitute({'js_text': js_text}))"
   ]
  }
 ],
 "metadata": {
  "anaconda-cloud": {},
  "kernelspec": {
   "display_name": "Python 2",
   "language": "python",
   "name": "python2"
  },
  "language_info": {
   "codemirror_mode": {
    "name": "ipython",
    "version": 2
   },
   "file_extension": ".py",
   "mimetype": "text/x-python",
   "name": "python",
   "nbconvert_exporter": "python",
   "pygments_lexer": "ipython2",
   "version": "2.7.13"
  }
 },
 "nbformat": 4,
 "nbformat_minor": 1
}
