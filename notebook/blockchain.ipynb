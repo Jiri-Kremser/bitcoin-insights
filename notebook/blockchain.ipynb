{
 "cells": [
  {
   "cell_type": "markdown",
   "metadata": {},
   "source": [
    "# Blockchain analysis\n",
    "\n",
    "In case you know nothing about the Bitcoin and Blockchain, you can start by watching the following video."
   ]
  },
  {
   "cell_type": "code",
   "execution_count": 4,
   "metadata": {},
   "outputs": [
    {
     "data": {
      "text/html": [
       "<iframe width=\"750\" height=\"430\" src=\"https://www.youtube.com/embed/Lx9zgZCMqXE?rel=0&amp;controls=1&amp;showinfo=0\" frameborder=\"0\" allowfullscreen></iframe>"
      ],
      "text/plain": [
       "<IPython.core.display.HTML object>"
      ]
     },
     "execution_count": 4,
     "metadata": {},
     "output_type": "execute_result"
    }
   ],
   "source": [
    "import IPython.display\n",
    "IPython.display.HTML('<iframe width=\"750\" height=\"430\" src=\"https://www.youtube.com/embed/Lx9zgZCMqXE?rel=0&amp;controls=1&amp;showinfo=0\" frameborder=\"0\" allowfullscreen></iframe>')"
   ]
  },
  {
   "cell_type": "markdown",
   "metadata": {},
   "source": [
    "## Basic setup\n",
    "\n",
    "Here we will import the `pyspark` module and set up a `SparkSession`. By default, we'll use a `SparkSession` running locally, with one Spark executor; we're dealing with small data, so it doesn't make sense to run against a cluster, but the `local[1]` can be changed with the ip of the Spark cluster.\n"
   ]
  },
  {
   "cell_type": "code",
   "execution_count": 5,
   "metadata": {
    "collapsed": true
   },
   "outputs": [],
   "source": [
    "import pyspark\n",
    "from pyspark.context import SparkContext\n",
    "from pyspark.sql import SparkSession, SQLContext\n",
    "from pyspark.sql.functions import regexp_replace\n",
    "\n",
    "spark = SparkSession.builder \\\n",
    "                    .master(\"local[4]\") \\\n",
    "                    .config(\"spark.driver.memory\", \"4g\") \\\n",
    "                    .getOrCreate()\n",
    "\n",
    "sc = spark.sparkContext"
   ]
  },
  {
   "cell_type": "markdown",
   "metadata": {},
   "source": [
    "## Loading the data\n",
    "\n",
    "To obtain the graph representing the transaction in the Bitcoin network, we need to load set of nodes representing the wallets (fingerprints of the public keys) and the set of edges representing each transaction. For this example we will use two parquet files that were generated from the blockchain data by this [convertor](https://github.com/Jiri-Kremser/bitcoin-insights/tree/master/parquet-converter)."
   ]
  },
  {
   "cell_type": "code",
   "execution_count": 6,
   "metadata": {},
   "outputs": [
    {
     "name": "stdout",
     "output_type": "stream",
     "text": [
      "+---+--------------------+\n",
      "| id|              Wallet|\n",
      "+---+--------------------+\n",
      "|  0|bitcoinaddress_93...|\n",
      "|  1|bitcoinaddress_4D...|\n",
      "|  2|bitcoinaddress_BE...|\n",
      "|  3|bitcoinaddress_4B...|\n",
      "|  4|bitcoinaddress_44...|\n",
      "+---+--------------------+\n",
      "only showing top 5 rows\n",
      "\n"
     ]
    }
   ],
   "source": [
    "raw_nodes = spark.read.load(\"/tmp/nodes.parquet\") \\\n",
    "                      .withColumnRenamed(\"_1\", \"id\") \\\n",
    "                      .withColumnRenamed(\"_2\", \"Wallet\")\n",
    "raw_nodes.show(5)"
   ]
  },
  {
   "cell_type": "markdown",
   "metadata": {
    "collapsed": true
   },
   "source": [
    "As you can see, each record in the wallet column contains a string `bitcoinaddress_<hash>`, where the hash is the actual address of the wallet. Let's remove the redundant prefix."
   ]
  },
  {
   "cell_type": "code",
   "execution_count": 7,
   "metadata": {},
   "outputs": [
    {
     "name": "stdout",
     "output_type": "stream",
     "text": [
      "+---+--------------------+\n",
      "| id|              Wallet|\n",
      "+---+--------------------+\n",
      "|  0|9303DBB4C75A56057...|\n",
      "|  1|4D3826A813A4B4E9B...|\n",
      "|  2|BECC6154EEF33464E...|\n",
      "|  3|4B5E0300F11C2932F...|\n",
      "|  4|44730B80C9D5EF65D...|\n",
      "+---+--------------------+\n",
      "only showing top 5 rows\n",
      "\n"
     ]
    }
   ],
   "source": [
    "nodes = raw_nodes.withColumn(\"Wallet\", regexp_replace(\"Wallet\", \"bitcoinaddress_\", \"\")).cache()\n",
    "nodes.show(5)"
   ]
  },
  {
   "cell_type": "markdown",
   "metadata": {
    "collapsed": true
   },
   "source": [
    "As you can see, each record in the wallet column contains a string `bitcoinaddress_<hash>`, where the hash is the actual address of the wallet. Let's remove the redundant prefix."
   ]
  },
  {
   "cell_type": "markdown",
   "metadata": {
    "collapsed": true
   },
   "source": [
    "We can also verify, that these addresses are real on https://blockchain.info/address/. \n",
    "\n",
    "Example:\n",
    " 1. get a random wallet address\n",
    " 1. create the link from the address"
   ]
  },
  {
   "cell_type": "code",
   "execution_count": 9,
   "metadata": {},
   "outputs": [
    {
     "data": {
      "text/markdown": [
       "link of the random wallet: https://blockchain.info/address/B4F37D584299E5B1B1C4CF24C463DBBF524DDC2D"
      ],
      "text/plain": [
       "<IPython.core.display.Markdown object>"
      ]
     },
     "execution_count": 9,
     "metadata": {},
     "output_type": "execute_result"
    }
   ],
   "source": [
    "random_address = nodes.rdd.takeSample(False, 1)[0][1]\n",
    "IPython.display.Markdown('link of the random wallet: https://blockchain.info/address/' + random_address)"
   ]
  },
  {
   "cell_type": "code",
   "execution_count": 15,
   "metadata": {},
   "outputs": [
    {
     "name": "stdout",
     "output_type": "stream",
     "text": [
      "+------+------+-----+\n",
      "|   src|   dst| attr|\n",
      "+------+------+-----+\n",
      "|150102|107378|input|\n",
      "|470403|107378|input|\n",
      "|232249| 97703|input|\n",
      "|539070| 97703|input|\n",
      "|131174|176711|input|\n",
      "+------+------+-----+\n",
      "only showing top 5 rows\n",
      "\n"
     ]
    },
    {
     "data": {
      "text/plain": [
       "2087249"
      ]
     },
     "execution_count": 15,
     "metadata": {},
     "output_type": "execute_result"
    }
   ],
   "source": [
    "raw_edges = spark.read.load(\"/tmp/edges.parquet\") \\\n",
    "                      .withColumnRenamed(\"srcId\", \"src\") \\\n",
    "                      .withColumnRenamed(\"dstId\", \"dst\") \\\n",
    "                      .cache()\n",
    "raw_edges.show(5)\n",
    "raw_edges.count()"
   ]
  },
  {
   "cell_type": "markdown",
   "metadata": {},
   "source": [
    "## Data cleansing\n",
    "\n",
    "Remove the self-loops."
   ]
  },
  {
   "cell_type": "code",
   "execution_count": 22,
   "metadata": {},
   "outputs": [
    {
     "name": "stdout",
     "output_type": "stream",
     "text": [
      "+------+------+-----+\n",
      "|   src|   dst| attr|\n",
      "+------+------+-----+\n",
      "|150102|107378|input|\n",
      "|470403|107378|input|\n",
      "|232249| 97703|input|\n",
      "|539070| 97703|input|\n",
      "|131174|176711|input|\n",
      "+------+------+-----+\n",
      "only showing top 5 rows\n",
      "\n"
     ]
    },
    {
     "data": {
      "text/plain": [
       "2081796"
      ]
     },
     "execution_count": 22,
     "metadata": {},
     "output_type": "execute_result"
    }
   ],
   "source": [
    "edges = raw_edges.filter(\"src != dst\")\n",
    "edges.show(5)\n",
    "edges.count()"
   ]
  },
  {
   "cell_type": "markdown",
   "metadata": {
    "collapsed": true
   },
   "source": [
    "## Constructing the graph representation\n",
    "\n",
    "Spark contains API for graph processing. It's called [graphx](https://spark.apache.org/graphx/) and it also comes with multiple built-in algorithms like page-rank. It uses the [Pregel API](https://spark.apache.org/docs/latest/graphx-programming-guide.html#pregel-api)."
   ]
  },
  {
   "cell_type": "code",
   "execution_count": 24,
   "metadata": {
    "collapsed": true
   },
   "outputs": [],
   "source": [
    "from graphframes import *\n",
    "\n",
    "g = GraphFrame(nodes, edges).cache()"
   ]
  },
  {
   "cell_type": "markdown",
   "metadata": {
    "collapsed": true
   },
   "source": [
    "#### Get the top 10 wallets with respect to the transaction count\n",
    "\n",
    "First, by sorting the nodes by `inDegree` which corresponds to the number of transactions received."
   ]
  },
  {
   "cell_type": "code",
   "execution_count": 8,
   "metadata": {
    "scrolled": true
   },
   "outputs": [
    {
     "data": {
      "text/plain": [
       "[Row(inDegree=121885, Wallet=u'F4B004C3CA2E7F96F9FC5BCA767708967AF67A44'),\n",
       " Row(inDegree=69445, Wallet=u'E1BB16A26D591FD766C1B23FAEC067301AFA8A07'),\n",
       " Row(inDegree=68626, Wallet=u'5605C6DC8A9672A014225BAC565DB25BCEC649A2'),\n",
       " Row(inDegree=5763, Wallet=u'66A731E9FEB460A3A48B5C56BB635B3A409DBD56'),\n",
       " Row(inDegree=3100, Wallet=u'17EBC6064CB035D84DC177CE763D2C93FD5556C6'),\n",
       " Row(inDegree=2380, Wallet=u'7B1DD94268DF8E11BA27AB1C99C61E914C717246'),\n",
       " Row(inDegree=2338, Wallet=u'A84458A0E8F009B3780CAC779873D298CF22BE8A'),\n",
       " Row(inDegree=2113, Wallet=u'EB9A27CF65B32AABA6FD08D7C4DE65F4C7CF9361'),\n",
       " Row(inDegree=2080, Wallet=u'EFB0CD7206CCF14275643097970DB8A38497B61D'),\n",
       " Row(inDegree=2002, Wallet=u'9B3A7C3A61712270055C1E4AC6FF2704D3ACB1E0')]"
      ]
     },
     "execution_count": 8,
     "metadata": {},
     "output_type": "execute_result"
    }
   ],
   "source": [
    "vertexInDegrees = g.inDegrees\n",
    "vertexInDegrees.join(nodes, vertexInDegrees.id == nodes.id) \\\n",
    "               .drop(\"id\") \\\n",
    "               .orderBy(\"inDegree\", ascending=False) \\\n",
    "               .take(10)"
   ]
  },
  {
   "cell_type": "markdown",
   "metadata": {
    "collapsed": true
   },
   "source": [
    "Then by using the `outDegree` ~ # transactions sent"
   ]
  },
  {
   "cell_type": "code",
   "execution_count": 9,
   "metadata": {
    "scrolled": true
   },
   "outputs": [
    {
     "data": {
      "text/plain": [
       "[Row(outDegree=2870, Wallet=u'7B1DD94268DF8E11BA27AB1C99C61E914C717246'),\n",
       " Row(outDegree=1965, Wallet=u'CBD3148D93C205F862599C080556A2A531146A3B'),\n",
       " Row(outDegree=1952, Wallet=u'9B3A7C3A61712270055C1E4AC6FF2704D3ACB1E0'),\n",
       " Row(outDegree=1694, Wallet=u'580740AC5A1B84C24D7EDB3F3AFC635BDFFB587B'),\n",
       " Row(outDegree=1675, Wallet=u'826AC9812C2BE5FE349A61ACD393F1F38E8C7D2D'),\n",
       " Row(outDegree=1590, Wallet=u'17EBC6064CB035D84DC177CE763D2C93FD5556C6'),\n",
       " Row(outDegree=1577, Wallet=u'EFB0CD7206CCF14275643097970DB8A38497B61D'),\n",
       " Row(outDegree=1568, Wallet=u'A84458A0E8F009B3780CAC779873D298CF22BE8A'),\n",
       " Row(outDegree=1559, Wallet=u'64B7D877B3DB608FD62EC8034770FD0AEFE9975A'),\n",
       " Row(outDegree=1559, Wallet=u'5445DAC9A29FCDE8C7C896CF063923FBED4F5D2C')]"
      ]
     },
     "execution_count": 9,
     "metadata": {},
     "output_type": "execute_result"
    }
   ],
   "source": [
    "vertexOutDegrees = g.outDegrees\n",
    "senders = vertexOutDegrees.join(nodes, vertexOutDegrees.id == nodes.id) \\\n",
    "                          .drop(\"id\") \\\n",
    "                          .orderBy(\"outDegree\", ascending=False)\n",
    "senders.take(10)"
   ]
  },
  {
   "cell_type": "markdown",
   "metadata": {
    "collapsed": true
   },
   "source": [
    "You can verify on blockchain.info that the actual number of transaction is lower than what we have just calculated. This stems from the fact how Bitcoin works, when sending BTC from a wallet to another one, it actually sends all the BTC and the receiving node will sends back the rest. We are oversimplyfying here and you can find the details [here](https://en.bitcoin.it/wiki/Transaction) or [here](https://bitcoin.stackexchange.com/questions/9007/why-are-there-two-transaction-outputs-when-sending-to-one-address)."
   ]
  },
  {
   "cell_type": "markdown",
   "metadata": {
    "collapsed": true
   },
   "source": [
    "#### Find circles of length 2"
   ]
  },
  {
   "cell_type": "code",
   "execution_count": 25,
   "metadata": {},
   "outputs": [
    {
     "data": {
      "text/plain": [
       "0"
      ]
     },
     "execution_count": 25,
     "metadata": {},
     "output_type": "execute_result"
    }
   ],
   "source": [
    "# motifs = g.find(\"(a)-[]->(b); (b)-[]->(a)\")\n",
    "# motifs.count()\n",
    "# # motifs.show(5)\n",
    "\n",
    "motifs = g.find(\"(a)-[]->(b)\") \\\n",
    "          .filter(\"a = b\")\n",
    "motifs.count()\n",
    "# motifs.show(5)"
   ]
  },
  {
   "cell_type": "markdown",
   "metadata": {
    "collapsed": true
   },
   "source": [
    "#### Resource consuming foo"
   ]
  },
  {
   "cell_type": "code",
   "execution_count": 10,
   "metadata": {
    "collapsed": true
   },
   "outputs": [],
   "source": [
    "# this fails with OOM error\n",
    "#results = g.pageRank(resetProbability=0.15, maxIter=1)\n",
    "#results.vertices.select(\"id\", \"pagerank\").show()\n",
    "#results.edges.select(\"src\", \"dst\", \"weight\").show()\n",
    "\n",
    "# g.labelPropagation(maxIter)\n",
    "\n",
    "# this would be nice display(ranks.vertices.orderBy(ranks.vertices.pagerank.desc()).limit(20))"
   ]
  },
  {
   "cell_type": "markdown",
   "metadata": {
    "collapsed": true
   },
   "source": [
    "## Visualization of a sub-graph\n",
    "\n",
    "Our data contain a lot of transactions (2 087 249 transactions among 546 651 wallets) so let's show only a small fraction of the transaction graph. We will show all the outgoing transaction of particular bitcoin address."
   ]
  },
  {
   "cell_type": "code",
   "execution_count": 86,
   "metadata": {
    "collapsed": true
   },
   "outputs": [],
   "source": [
    "from pyspark.sql.functions import col\n",
    "import random\n",
    "\n",
    "# feel free to use any address that is present in the dataset\n",
    "address = senders.take(1000)[999].Wallet\n",
    "\n",
    "sub_graph = g.find(\"(src)-[e]->(dst)\") \\\n",
    "             .filter(col('src.Wallet') == address)\n",
    "    \n",
    "def node_to_dict(r):\n",
    "    return {\n",
    "        'id': r[0],\n",
    "        'label': r[1],\n",
    "        'x': random.uniform(0,1),\n",
    "        'y': random.uniform(0,1),\n",
    "        'size': random.uniform(0.2,1)\n",
    "    }\n",
    "\n",
    "sub_nodes = sub_graph.select(\"dst.id\", \"dst.Wallet\").distinct()\n",
    "sub_edges = sub_graph.select(\"e.src\", \"e.dst\")\n",
    "\n",
    "target_nodes_dict = map(node_to_dict, sub_nodes.collect())\n",
    "\n",
    "def edge_to_dict(i, r):\n",
    "    return {\n",
    "        'id': i,\n",
    "        'source': r[0],\n",
    "        'target': r[1]\n",
    "    }\n",
    "\n",
    "sub_edges_dict = [edge_to_dict(i, r) for i, r in enumerate(sub_edges.collect())]\n",
    "\n",
    "target_nodes_dict.append({\n",
    "    'id': sub_edges.first()['src'],\n",
    "    'label': address,\n",
    "    'color': '#999',\n",
    "    'x': -1,\n",
    "    'y': 0.5,\n",
    "    'size': 2\n",
    "})"
   ]
  },
  {
   "cell_type": "markdown",
   "metadata": {},
   "source": [
    "Now we are ready to show the data using the [sigmajs](sigmajs.org) library."
   ]
  },
  {
   "cell_type": "code",
   "execution_count": 65,
   "metadata": {},
   "outputs": [
    {
     "data": {
      "application/javascript": [
       "require.config({\n",
       "    paths: {\n",
       "        sigmajs: 'https://cdnjs.cloudflare.com/ajax/libs/sigma.js/1.2.0/sigma.min'\n",
       "    }\n",
       "});\n",
       "\n",
       "require(['sigmajs']);"
      ],
      "text/plain": [
       "<IPython.core.display.Javascript object>"
      ]
     },
     "metadata": {},
     "output_type": "display_data"
    }
   ],
   "source": [
    "%%javascript\n",
    "require.config({\n",
    "    paths: {\n",
    "        sigmajs: 'https://cdnjs.cloudflare.com/ajax/libs/sigma.js/1.2.0/sigma.min'\n",
    "    }\n",
    "});\n",
    "\n",
    "require(['sigmajs']);"
   ]
  },
  {
   "cell_type": "code",
   "execution_count": 87,
   "metadata": {},
   "outputs": [
    {
     "data": {
      "text/html": [
       "\n",
       "<div id=\"graph-div\" style=\"height:400px\"></div>\n",
       "<script> var g = {\"nodes\": [{\"y\": 0.8951742231792085, \"x\": 0.8492568919019731, \"size\": 0.6247979018242066, \"id\": 21343, \"label\": \"0C49AF599150CD136FB74B97E086EA409F8A8F37\"}, {\"y\": 0.8739083002149612, \"x\": 0.17045026546654407, \"size\": 0.46366489413344447, \"id\": 329136, \"label\": \"02208783AA6E6521F007E0CE3D32EDC533E1D838\"}, {\"y\": 0.4759284036445056, \"x\": 0.5031438667763202, \"size\": 0.5944866214078368, \"id\": 294712, \"label\": \"299D9BC2079ADB25BC327A0BC4E88AFAC348BCD4\"}, {\"y\": 0.9376178455296001, \"x\": 0.9422108610382025, \"size\": 0.48410477101485583, \"id\": 361424, \"label\": \"14B406F73360FF8E6FB3E944D2933CE6E75BDF58\"}, {\"y\": 0.8628294435001027, \"x\": 0.2521086236477996, \"size\": 0.4882732801936482, \"id\": 528466, \"label\": \"5284E984351CC2346303D3350B0378905ACDD880\"}, {\"y\": 0.18613167766228833, \"x\": 0.9378654575785061, \"size\": 0.502634158432168, \"id\": 54138, \"label\": \"96C498A9E4A6140487562CD3C62D6840F962B68B\"}, {\"y\": 0.8044793065763469, \"x\": 0.08965631802695329, \"size\": 0.2076581680507773, \"id\": 19644, \"label\": \"25F6E93F316D37E5F993346B608F734EEBC2A4F8\"}, {\"y\": 0.053129755534323087, \"x\": 0.14195888313259708, \"size\": 0.8779451564875846, \"id\": 185476, \"label\": \"23D3035A960CABCA153EB725BE84A2D0CAD4BD84\"}, {\"y\": 0.6049178565817179, \"x\": 0.5909781825434999, \"size\": 0.8409481350664834, \"id\": 272072, \"label\": \"14BA659DC996E51785B1F28B46A7384D0742E81E\"}, {\"y\": 0.37820087322676643, \"x\": 0.6284625610523374, \"size\": 0.847092233506868, \"id\": 483592, \"label\": \"68C207E2525A4B26DC69A56134AB4EB4736A3F82\"}, {\"y\": 0.13355654865240796, \"x\": 0.59514135385078, \"size\": 0.4925664629790558, \"id\": 206454, \"label\": \"EE32ADD1F1AFE00F9FB1073D820676824EEAFE56\"}, {\"y\": 0.8584109114337729, \"x\": 0.9559327572427143, \"size\": 0.6474778521553082, \"id\": 74400, \"label\": \"C6EAF8EC21D454299FA72D2E5C4AFB409FAD86F8\"}, {\"y\": 0.9273366335471015, \"x\": 0.6062997879118351, \"size\": 0.311532352205926, \"id\": 211607, \"label\": \"8DDF38700813D734F2C3CE02DC3E2233A010FC36\"}, {\"y\": 0.1075287740539368, \"x\": 0.7500264092402182, \"size\": 0.5278095613296685, \"id\": 110032, \"label\": \"901E078965FE13206C4B70E7AF0C555D385E54F5\"}, {\"y\": 0.03995399757184881, \"x\": 0.7086959079345756, \"size\": 0.7881222385103395, \"id\": 498647, \"label\": \"E9FEA91A3DBB304F033766E1D2DD2025F26705D1\"}, {\"y\": 0.6765445200492134, \"x\": 0.22378073620476113, \"size\": 0.3273553372007755, \"id\": 352544, \"label\": \"ACFA5259F52DDBBA6438EFDB856FCF02AAF271FD\"}, {\"y\": 0.7424925983584879, \"x\": 0.8708968883421165, \"size\": 0.8859559316776575, \"id\": 47596, \"label\": \"4C34A7A0EFCA6675458C2BD48A076894244A8C3C\"}, {\"y\": 0.3160827448418867, \"x\": 0.3440310363607436, \"size\": 0.6489134070597544, \"id\": 182139, \"label\": \"27762B34711B5F8153F203525838C2DF29391716\"}, {\"y\": 0.4783920808895141, \"x\": 0.23458117698093806, \"size\": 0.9682171318129442, \"id\": 108012, \"label\": \"D0539D54960842FAEB7E249D09A6BFC500A26914\"}, {\"y\": 0.09849303802027642, \"x\": 0.5388126575425755, \"size\": 0.2178417420633424, \"id\": 385439, \"label\": \"0F448ABB859C10AC3602A529B3321EF6CA2730F4\"}, {\"y\": 0.7610757724811972, \"x\": 0.05598383567304743, \"size\": 0.7028916310011988, \"id\": 91406, \"label\": \"EC4EF1BC825DCFBF8B14F0D643FCE0E0E592FA55\"}, {\"y\": 0.7990454437818422, \"x\": 0.3035127150566035, \"size\": 0.9832287323850615, \"id\": 153819, \"label\": \"2929A720F8CCFF71F9A94287893D041484A636D9\"}, {\"y\": 0.9784732895967356, \"x\": 0.025200163042733204, \"size\": 0.34264463143516927, \"id\": 104068, \"label\": \"1492630B85058CA939FA6A684ABD34D32CC5CEB7\"}, {\"y\": 0.8613410417409773, \"x\": 0.6663056014894578, \"size\": 0.8782247171058997, \"id\": 232437, \"label\": \"2AA1A99E5923917563004D4477F269FF3B507EBE\"}, {\"y\": 0.3814371765372524, \"x\": 0.8149974608455945, \"size\": 0.3272662342281153, \"id\": 376957, \"label\": \"2DEFD04F61350FC0568E89DE8FB3250D008A3672\"}, {\"y\": 0.3852001958638047, \"x\": 0.6158682020793674, \"size\": 0.3770656676133197, \"id\": 88189, \"label\": \"02B699363BE37A83AEBB8BF344088814D43E5D66\"}, {\"y\": 0.07543487571418195, \"x\": 0.4800182541371155, \"size\": 0.8044480447338069, \"id\": 123745, \"label\": \"99E3296C89710331D61A833C12A94B088710136E\"}, {\"y\": 0.13028074789021427, \"x\": 0.3692584108437986, \"size\": 0.7035066329154378, \"id\": 535629, \"label\": \"52C616969321918CD138599F713AF06E1979EC9B\"}, {\"y\": 0.9281485398930502, \"x\": 0.12720306298454054, \"size\": 0.6883598997818267, \"id\": 304573, \"label\": \"EE17F80379AD63C9A1A2CE6BEC100BFD9FACD1E5\"}, {\"y\": 0.07431645279130772, \"x\": 0.9074135263294515, \"size\": 0.4422571379428149, \"id\": 381733, \"label\": \"FF42B7783412EB906FC0860B19481D268D779B24\"}, {\"y\": 0.04647941371719111, \"x\": 0.7085718103401168, \"size\": 0.9017539874725242, \"id\": 543354, \"label\": \"834AE30DAB11CC11A95EE3E26F0F25647AC77CD3\"}, {\"y\": 0.5192447797948756, \"x\": 0.4131705834221434, \"size\": 0.22964110827570067, \"id\": 237957, \"label\": \"5A3A51C352570D4E6F1E2FAA5EA3EE88D81B3443\"}, {\"y\": 0.9936022012714134, \"x\": 0.6895099201614331, \"size\": 0.6686884578290218, \"id\": 252686, \"label\": \"8052E1CB264C80D3E9B3152EE6C35FCB3D12FAC1\"}, {\"y\": 0.7420988545500529, \"x\": 0.5316304056114672, \"size\": 0.987574559861355, \"id\": 342748, \"label\": \"22B9DA214E601BCD89425009451F5CAFA8F1A2BE\"}, {\"y\": 0.3787355243542183, \"x\": 0.31753075890967586, \"size\": 0.24607698684840093, \"id\": 158981, \"label\": \"ACB524B8531527500C27584F3B30BB93FE958B62\"}, {\"y\": 0.05974900974815012, \"x\": 0.6105109602171066, \"size\": 0.6219809160313472, \"id\": 254158, \"label\": \"E4E74B1E6FB046278A24F38C71B7DFE617D0AC3B\"}, {\"y\": 0.0898123391020006, \"x\": 0.7155551887091494, \"size\": 0.6639660876088749, \"id\": 171168, \"label\": \"7C29EF0E477545A0A20B89AFCA9E0B04B130D350\"}, {\"y\": 0.4608601958666939, \"x\": 0.6281494170024363, \"size\": 0.35898851615065147, \"id\": 479632, \"label\": \"F0C94074ED7F7068E1A1C6BB89A22C654AEF42C3\"}, {\"y\": 0.07781075287822314, \"x\": 0.4760884155141668, \"size\": 0.9062688787200475, \"id\": 234499, \"label\": \"D3EEF2DD86FD52205AE62DC5BD56207BB667E22A\"}, {\"y\": 0.7469457353593227, \"x\": 0.6809479438710699, \"size\": 0.7635790853307165, \"id\": 283496, \"label\": \"86409706F8A159C150999FD554600E48D3209D2F\"}, {\"y\": 0.6399833151940358, \"x\": 0.6479483616908494, \"size\": 0.8717243908531107, \"id\": 456064, \"label\": \"CA642C960EBE18C677A49D67B324092A06A0AF40\"}, {\"y\": 0.3709047115592168, \"x\": 0.9550367827186067, \"size\": 0.4424325925212929, \"id\": 447506, \"label\": \"A8014AF68AFE01235CCB91EEBEAB9078B42A0425\"}, {\"y\": 0.13896709402789098, \"x\": 0.5196509882075675, \"size\": 0.6497466937700456, \"id\": 257649, \"label\": \"486A931FDEEB1DE4E59F27F8F1F871DEA125AC38\"}, {\"y\": 0.8924930660406243, \"x\": 0.6328009267645139, \"size\": 0.4339994461410488, \"id\": 290, \"label\": \"3468091C498260BB312AF80F931740F40D8028CC\"}, {\"y\": 0.4005772246767948, \"x\": 0.8188568795756677, \"size\": 0.628241675858529, \"id\": 291616, \"label\": \"36476D0F87E6E0ABB7611FBC01015DFD77E1EB72\"}, {\"y\": 0.7006636499713798, \"x\": 0.5224269927753596, \"size\": 0.6006223728464054, \"id\": 144987, \"label\": \"E4497A0C5E980ED08979A5384B59223B6B39ED7A\"}, {\"y\": 0.8405346746579071, \"x\": 0.18496229361490124, \"size\": 0.7624729505917593, \"id\": 494852, \"label\": \"99D8033F57AF6098DCCD30D1D941B6241D07E0BA\"}, {\"y\": 0.7486602082412828, \"x\": 0.1925570479337061, \"size\": 0.30409202196535673, \"id\": 11497, \"label\": \"842B2DE75BA1ABA2D16AE281C050646D844DC8E3\"}, {\"y\": 0.617697042945832, \"x\": 0.6554397382308671, \"size\": 0.41137610387084184, \"id\": 513127, \"label\": \"B7C84CF22556BBEABCD9B124D6079CCCA7B088D0\"}, {\"y\": 0.6876551371310743, \"x\": 0.3145910128433841, \"size\": 0.36341376629951166, \"id\": 264106, \"label\": \"0F8FCBE4D6AE6F01D54EA46A36F94FF62DE49C43\"}, {\"y\": 0.294162665536261, \"x\": 0.7720787579631612, \"size\": 0.7590106744056089, \"id\": 110528, \"label\": \"245ADF2846F30C68EDA1F925EA46EE7C10F81CD6\"}, {\"y\": 0.5322834426080326, \"x\": 0.7481879634242689, \"size\": 0.267497272990763, \"id\": 32245, \"label\": \"A833DC9EF793B31CB78CE6131EC59F8CDDE2DDEB\"}, {\"y\": 0.24367242841711512, \"x\": 0.895112705546481, \"size\": 0.4278238384897257, \"id\": 530270, \"label\": \"69E88C45264286286014688F2501DFD69B17B3C8\"}, {\"y\": 0.8594437787008357, \"x\": 0.010487864180587003, \"size\": 0.613825810697767, \"id\": 45147, \"label\": \"C70BD4E8E69E74F8E32D82F499F737F5BF570562\"}, {\"y\": 0.16016294210088777, \"x\": 0.14861205876683925, \"size\": 0.9181759363238287, \"id\": 387370, \"label\": \"D32AAD90663B99EE99A4F5E188AFE6AA6541F0EE\"}, {\"y\": 0.2853244405662009, \"x\": 0.09558440644324351, \"size\": 0.999831867781207, \"id\": 230795, \"label\": \"EA8D5D856A532F738854793F39635EDD60C18714\"}, {\"y\": 0.3301285864721608, \"x\": 0.286402317731013, \"size\": 0.388415779030878, \"id\": 124502, \"label\": \"5E9445400ED6EE1323D2351F0D4C18A1DE59C501\"}, {\"y\": 0.42387159191267354, \"x\": 0.4130881167733389, \"size\": 0.9464452956808074, \"id\": 414153, \"label\": \"C6BA91C0E13526FCAA1588AD23927F809A2D92F7\"}, {\"y\": 0.4058267227954466, \"x\": 0.6043432907637379, \"size\": 0.9070051193007507, \"id\": 66683, \"label\": \"8BA1DAD5F45DCE3AFE3FC50AFF8014C631BF1FE8\"}, {\"y\": 0.27319506573933194, \"x\": 0.6918908482286329, \"size\": 0.6449385635724144, \"id\": 226913, \"label\": \"14FA746AB96C6736A7240A5FB98A42E4C03A3EB0\"}, {\"y\": 0.1676194168354952, \"x\": 0.7495334334220671, \"size\": 0.3672160427352611, \"id\": 538715, \"label\": \"39736BCCC81065A60FE325A4D15CC0558FBE65B7\"}, {\"y\": 0.8053636149286183, \"x\": 0.13463288669426177, \"size\": 0.9957424253723381, \"id\": 22087, \"label\": \"78079040588D3E92411CD6A69B928448F1752A72\"}, {\"y\": 0.9739646701200001, \"x\": 0.5181193633394865, \"size\": 0.8745194659395994, \"id\": 137148, \"label\": \"BF792EB59602D5EE108558D1F95A0562676A5136\"}, {\"y\": 0.011666680630954107, \"x\": 0.8574244156399294, \"size\": 0.3241842119884054, \"id\": 150735, \"label\": \"42B9DC719AFBFBDCD87FBB2624B049A012F20DD0\"}, {\"y\": 0.6815816428511923, \"x\": 0.003601302706493281, \"size\": 0.6241988932827709, \"id\": 57153, \"label\": \"F334A0F9045E95050D7D8311B9452918CB03AD66\"}, {\"y\": 0.5322851154256959, \"x\": 0.716149182213159, \"size\": 0.9784241561790494, \"id\": 469522, \"label\": \"D671A3B611DF17BE8B54644BC4BEFE71BEA7CFB3\"}, {\"color\": \"#999\", \"label\": \"07060F98D74A94FD7D45F52FCA643651D74E2607\", \"y\": 0.5, \"x\": -1, \"id\": 337408, \"size\": 2}], \"edges\": [{\"source\": 337408, \"id\": 0, \"target\": 153819}, {\"source\": 337408, \"id\": 1, \"target\": 153819}, {\"source\": 337408, \"id\": 2, \"target\": 153819}, {\"source\": 337408, \"id\": 3, \"target\": 153819}, {\"source\": 337408, \"id\": 4, \"target\": 153819}, {\"source\": 337408, \"id\": 5, \"target\": 88189}, {\"source\": 337408, \"id\": 6, \"target\": 361424}, {\"source\": 337408, \"id\": 7, \"target\": 123745}, {\"source\": 337408, \"id\": 8, \"target\": 66683}, {\"source\": 337408, \"id\": 9, \"target\": 376957}, {\"source\": 337408, \"id\": 10, \"target\": 294712}, {\"source\": 337408, \"id\": 11, \"target\": 291616}, {\"source\": 337408, \"id\": 12, \"target\": 528466}, {\"source\": 337408, \"id\": 13, \"target\": 528466}, {\"source\": 337408, \"id\": 14, \"target\": 528466}, {\"source\": 337408, \"id\": 15, \"target\": 528466}, {\"source\": 337408, \"id\": 16, \"target\": 528466}, {\"source\": 337408, \"id\": 17, \"target\": 252686}, {\"source\": 337408, \"id\": 18, \"target\": 352544}, {\"source\": 337408, \"id\": 19, \"target\": 352544}, {\"source\": 337408, \"id\": 20, \"target\": 283496}, {\"source\": 337408, \"id\": 21, \"target\": 11497}, {\"source\": 337408, \"id\": 22, \"target\": 264106}, {\"source\": 337408, \"id\": 23, \"target\": 264106}, {\"source\": 337408, \"id\": 24, \"target\": 264106}, {\"source\": 337408, \"id\": 25, \"target\": 264106}, {\"source\": 337408, \"id\": 26, \"target\": 264106}, {\"source\": 337408, \"id\": 27, \"target\": 530270}, {\"source\": 337408, \"id\": 28, \"target\": 530270}, {\"source\": 337408, \"id\": 29, \"target\": 530270}, {\"source\": 337408, \"id\": 30, \"target\": 530270}, {\"source\": 337408, \"id\": 31, \"target\": 530270}, {\"source\": 337408, \"id\": 32, \"target\": 387370}, {\"source\": 337408, \"id\": 33, \"target\": 150735}, {\"source\": 337408, \"id\": 34, \"target\": 150735}, {\"source\": 337408, \"id\": 35, \"target\": 150735}, {\"source\": 337408, \"id\": 36, \"target\": 150735}, {\"source\": 337408, \"id\": 37, \"target\": 150735}, {\"source\": 337408, \"id\": 38, \"target\": 237957}, {\"source\": 337408, \"id\": 39, \"target\": 237957}, {\"source\": 337408, \"id\": 40, \"target\": 230795}, {\"source\": 337408, \"id\": 41, \"target\": 230795}, {\"source\": 337408, \"id\": 42, \"target\": 57153}, {\"source\": 337408, \"id\": 43, \"target\": 124502}, {\"source\": 337408, \"id\": 44, \"target\": 535629}, {\"source\": 337408, \"id\": 45, \"target\": 108012}, {\"source\": 337408, \"id\": 46, \"target\": 469522}, {\"source\": 337408, \"id\": 47, \"target\": 469522}, {\"source\": 337408, \"id\": 48, \"target\": 469522}, {\"source\": 337408, \"id\": 49, \"target\": 469522}, {\"source\": 337408, \"id\": 50, \"target\": 469522}, {\"source\": 337408, \"id\": 51, \"target\": 447506}, {\"source\": 337408, \"id\": 52, \"target\": 22087}, {\"source\": 337408, \"id\": 53, \"target\": 47596}, {\"source\": 337408, \"id\": 54, \"target\": 47596}, {\"source\": 337408, \"id\": 55, \"target\": 47596}, {\"source\": 337408, \"id\": 56, \"target\": 47596}, {\"source\": 337408, \"id\": 57, \"target\": 47596}, {\"source\": 337408, \"id\": 58, \"target\": 234499}, {\"source\": 337408, \"id\": 59, \"target\": 538715}, {\"source\": 337408, \"id\": 60, \"target\": 538715}, {\"source\": 337408, \"id\": 61, \"target\": 538715}, {\"source\": 337408, \"id\": 62, \"target\": 538715}, {\"source\": 337408, \"id\": 63, \"target\": 538715}, {\"source\": 337408, \"id\": 64, \"target\": 498647}, {\"source\": 337408, \"id\": 65, \"target\": 494852}, {\"source\": 337408, \"id\": 66, \"target\": 158981}, {\"source\": 337408, \"id\": 67, \"target\": 304573}, {\"source\": 337408, \"id\": 68, \"target\": 144987}, {\"source\": 337408, \"id\": 69, \"target\": 19644}, {\"source\": 337408, \"id\": 70, \"target\": 110528}, {\"source\": 337408, \"id\": 71, \"target\": 110528}, {\"source\": 337408, \"id\": 72, \"target\": 110528}, {\"source\": 337408, \"id\": 73, \"target\": 381733}, {\"source\": 337408, \"id\": 74, \"target\": 381733}, {\"source\": 337408, \"id\": 75, \"target\": 272072}, {\"source\": 337408, \"id\": 76, \"target\": 479632}, {\"source\": 337408, \"id\": 77, \"target\": 513127}, {\"source\": 337408, \"id\": 78, \"target\": 513127}, {\"source\": 337408, \"id\": 79, \"target\": 513127}, {\"source\": 337408, \"id\": 80, \"target\": 513127}, {\"source\": 337408, \"id\": 81, \"target\": 513127}, {\"source\": 337408, \"id\": 82, \"target\": 290}, {\"source\": 337408, \"id\": 83, \"target\": 206454}, {\"source\": 337408, \"id\": 84, \"target\": 385439}, {\"source\": 337408, \"id\": 85, \"target\": 232437}, {\"source\": 337408, \"id\": 86, \"target\": 45147}, {\"source\": 337408, \"id\": 87, \"target\": 257649}, {\"source\": 337408, \"id\": 88, \"target\": 543354}, {\"source\": 337408, \"id\": 89, \"target\": 543354}, {\"source\": 337408, \"id\": 90, \"target\": 21343}, {\"source\": 337408, \"id\": 91, \"target\": 104068}, {\"source\": 337408, \"id\": 92, \"target\": 104068}, {\"source\": 337408, \"id\": 93, \"target\": 104068}, {\"source\": 337408, \"id\": 94, \"target\": 104068}, {\"source\": 337408, \"id\": 95, \"target\": 104068}, {\"source\": 337408, \"id\": 96, \"target\": 342748}, {\"source\": 337408, \"id\": 97, \"target\": 414153}, {\"source\": 337408, \"id\": 98, \"target\": 483592}, {\"source\": 337408, \"id\": 99, \"target\": 483592}, {\"source\": 337408, \"id\": 100, \"target\": 329136}, {\"source\": 337408, \"id\": 101, \"target\": 171168}, {\"source\": 337408, \"id\": 102, \"target\": 185476}, {\"source\": 337408, \"id\": 103, \"target\": 185476}, {\"source\": 337408, \"id\": 104, \"target\": 185476}, {\"source\": 337408, \"id\": 105, \"target\": 185476}, {\"source\": 337408, \"id\": 106, \"target\": 185476}, {\"source\": 337408, \"id\": 107, \"target\": 182139}, {\"source\": 337408, \"id\": 108, \"target\": 137148}, {\"source\": 337408, \"id\": 109, \"target\": 91406}, {\"source\": 337408, \"id\": 110, \"target\": 91406}, {\"source\": 337408, \"id\": 111, \"target\": 91406}, {\"source\": 337408, \"id\": 112, \"target\": 91406}, {\"source\": 337408, \"id\": 113, \"target\": 91406}, {\"source\": 337408, \"id\": 114, \"target\": 32245}, {\"source\": 337408, \"id\": 115, \"target\": 226913}, {\"source\": 337408, \"id\": 116, \"target\": 226913}, {\"source\": 337408, \"id\": 117, \"target\": 226913}, {\"source\": 337408, \"id\": 118, \"target\": 226913}, {\"source\": 337408, \"id\": 119, \"target\": 226913}, {\"source\": 337408, \"id\": 120, \"target\": 110032}, {\"source\": 337408, \"id\": 121, \"target\": 74400}, {\"source\": 337408, \"id\": 122, \"target\": 211607}, {\"source\": 337408, \"id\": 123, \"target\": 54138}, {\"source\": 337408, \"id\": 124, \"target\": 456064}, {\"source\": 337408, \"id\": 125, \"target\": 254158}, {\"source\": 337408, \"id\": 126, \"target\": 254158}]} ;\n",
       "\n",
       "s = new sigma({graph: g, container: 'graph-div', settings: { defaultNodeColor: '#ec5148'} });\n",
       "\n",
       "s.graph.nodes().forEach(function(n) {\n",
       "  n.originalColor = n.color;\n",
       "});\n",
       "s.graph.edges().forEach(function(e) {\n",
       "  e.originalColor = e.color;\n",
       "});\n",
       "\n",
       "s.bind('clickNode', function(e) {\n",
       "  var nodeId = e.data.node.id,\n",
       "      toKeep = neighbors(s.graph, nodeId);\n",
       "  toKeep[nodeId] = e.data.node;\n",
       "\n",
       "  s.graph.nodes().forEach(function(n) {\n",
       "    if (toKeep[n.id])\n",
       "      n.color = n.originalColor;\n",
       "    else\n",
       "      n.color = '#eee';\n",
       "  });\n",
       "\n",
       "  s.graph.edges().forEach(function(e) {\n",
       "    if (toKeep[e.source] && toKeep[e.target])\n",
       "      e.color = e.originalColor;\n",
       "    else\n",
       "      e.color = '#eee';\n",
       "  });\n",
       "\n",
       "  s.refresh();\n",
       "});\n",
       "\n",
       "s.bind('clickStage', function(e) {\n",
       "  s.graph.nodes().forEach(function(n) {\n",
       "    n.color = n.originalColor;\n",
       "  });\n",
       "\n",
       "  s.graph.edges().forEach(function(e) {\n",
       "    e.color = e.originalColor;\n",
       "  });\n",
       "\n",
       "  s.refresh();\n",
       "});\n",
       " </script>\n"
      ],
      "text/plain": [
       "<IPython.core.display.HTML object>"
      ]
     },
     "execution_count": 87,
     "metadata": {},
     "output_type": "execute_result"
    }
   ],
   "source": [
    "from IPython.core.display import display, HTML\n",
    "from string import Template\n",
    "import json\n",
    "\n",
    "js_text_template = Template(open('js/sigma-graph.js','r').read())\n",
    "\n",
    "graph_data = { 'nodes': target_nodes_dict, 'edges': sub_edges_dict }\n",
    "\n",
    "js_text = js_text_template.substitute({'graph_data': json.dumps(graph_data),\n",
    "                                       'container': 'graph-div'})\n",
    "\n",
    "html_template = Template('''\n",
    "<div id=\"graph-div\" style=\"height:400px\"></div>\n",
    "<script> $js_text </script>\n",
    "''')\n",
    "\n",
    "HTML(html_template.substitute({'js_text': js_text}))"
   ]
  },
  {
   "cell_type": "code",
   "execution_count": 106,
   "metadata": {},
   "outputs": [
    {
     "name": "stdout",
     "output_type": "stream",
     "text": [
      "+------+-------------------+\n",
      "|    id|           pagerank|\n",
      "+------+-------------------+\n",
      "| 74400|  0.151003937007874|\n",
      "|211607|  0.151003937007874|\n",
      "|108012|  0.151003937007874|\n",
      "|291616|  0.151003937007874|\n",
      "|535629|  0.151003937007874|\n",
      "|479632|  0.151003937007874|\n",
      "|110032|  0.151003937007874|\n",
      "|232437|  0.151003937007874|\n",
      "| 19644|  0.151003937007874|\n",
      "|257649|  0.151003937007874|\n",
      "|494852|  0.151003937007874|\n",
      "|206454|  0.151003937007874|\n",
      "|456064|  0.151003937007874|\n",
      "|528466|0.15501968503937008|\n",
      "|104068|0.15501968503937008|\n",
      "|272072|  0.151003937007874|\n",
      "| 22087|  0.151003937007874|\n",
      "|234499|  0.151003937007874|\n",
      "|124502|  0.151003937007874|\n",
      "|264106|0.15501968503937008|\n",
      "+------+-------------------+\n",
      "only showing top 20 rows\n",
      "\n",
      "+------+--------------------+-----------------+\n",
      "|    id|              Wallet|         pagerank|\n",
      "+------+--------------------+-----------------+\n",
      "|337408|07060F98D74A94FD7...|             0.15|\n",
      "|182139|27762B34711B5F815...|0.151003937007874|\n",
      "|123745|99E3296C89710331D...|0.151003937007874|\n",
      "| 74400|C6EAF8EC21D454299...|0.151003937007874|\n",
      "|124502|5E9445400ED6EE132...|0.151003937007874|\n",
      "|494852|99D8033F57AF6098D...|0.151003937007874|\n",
      "|291616|36476D0F87E6E0ABB...|0.151003937007874|\n",
      "|110032|901E078965FE13206...|0.151003937007874|\n",
      "|535629|52C616969321918CD...|0.151003937007874|\n",
      "|211607|8DDF38700813D734F...|0.151003937007874|\n",
      "|108012|D0539D54960842FAE...|0.151003937007874|\n",
      "|206454|EE32ADD1F1AFE00F9...|0.151003937007874|\n",
      "|257649|486A931FDEEB1DE4E...|0.151003937007874|\n",
      "|479632|F0C94074ED7F7068E...|0.151003937007874|\n",
      "|456064|CA642C960EBE18C67...|0.151003937007874|\n",
      "|272072|14BA659DC996E5178...|0.151003937007874|\n",
      "|232437|2AA1A99E592391756...|0.151003937007874|\n",
      "| 22087|78079040588D3E924...|0.151003937007874|\n",
      "|234499|D3EEF2DD86FD52205...|0.151003937007874|\n",
      "| 19644|25F6E93F316D37E5F...|0.151003937007874|\n",
      "+------+--------------------+-----------------+\n",
      "\n",
      "+------+------+--------------------+\n",
      "|   src|   dst|              weight|\n",
      "+------+------+--------------------+\n",
      "|337408|153819|0.007874015748031496|\n",
      "|337408|153819|0.007874015748031496|\n",
      "|337408|153819|0.007874015748031496|\n",
      "|337408|153819|0.007874015748031496|\n",
      "|337408|153819|0.007874015748031496|\n",
      "|337408|153819|0.007874015748031496|\n",
      "|337408|153819|0.007874015748031496|\n",
      "|337408|153819|0.007874015748031496|\n",
      "|337408|153819|0.007874015748031496|\n",
      "|337408|153819|0.007874015748031496|\n",
      "|337408|153819|0.007874015748031496|\n",
      "|337408|153819|0.007874015748031496|\n",
      "|337408|153819|0.007874015748031496|\n",
      "|337408|153819|0.007874015748031496|\n",
      "|337408|153819|0.007874015748031496|\n",
      "|337408|153819|0.007874015748031496|\n",
      "|337408|153819|0.007874015748031496|\n",
      "|337408|153819|0.007874015748031496|\n",
      "|337408|153819|0.007874015748031496|\n",
      "|337408|153819|0.007874015748031496|\n",
      "+------+------+--------------------+\n",
      "only showing top 20 rows\n",
      "\n"
     ]
    }
   ],
   "source": [
    "sub_g = GraphFrame(sub_nodes.union(sub_graph.select(\"src.id\", \"src.Wallet\").distinct()), sub_edges).cache()\n",
    "sub_g\n",
    "\n",
    "# #results = g.pageRank(resetProbability=0.15, maxIter=1)\n",
    "# #results.vertices.select(\"id\", \"pagerank\").show()\n",
    "# #results.edges.select(\"src\", \"dst\", \"weight\").show()\n",
    "# # g.labelPropagation(maxIter)\n",
    "\n",
    "# # this would be nice display(ranks.vertices.orderBy(ranks.vertices.pagerank.desc()).limit(20))\n",
    "\n",
    "\n",
    "results = sub_g.pageRank(resetProbability=0.15, maxIter=3)"
   ]
  },
  {
   "cell_type": "code",
   "execution_count": 109,
   "metadata": {},
   "outputs": [
    {
     "name": "stdout",
     "output_type": "stream",
     "text": [
      "+------+--------------------+-----------------+\n",
      "|    id|              Wallet|         pagerank|\n",
      "+------+--------------------+-----------------+\n",
      "|337408|07060F98D74A94FD7...|             0.15|\n",
      "|123745|99E3296C89710331D...|0.151003937007874|\n",
      "| 19644|25F6E93F316D37E5F...|0.151003937007874|\n",
      "|535629|52C616969321918CD...|0.151003937007874|\n",
      "|291616|36476D0F87E6E0ABB...|0.151003937007874|\n",
      "| 74400|C6EAF8EC21D454299...|0.151003937007874|\n",
      "|108012|D0539D54960842FAE...|0.151003937007874|\n",
      "|211607|8DDF38700813D734F...|0.151003937007874|\n",
      "|232437|2AA1A99E592391756...|0.151003937007874|\n",
      "|257649|486A931FDEEB1DE4E...|0.151003937007874|\n",
      "| 54138|96C498A9E4A614048...|0.151003937007874|\n",
      "|206454|EE32ADD1F1AFE00F9...|0.151003937007874|\n",
      "|494852|99D8033F57AF6098D...|0.151003937007874|\n",
      "|479632|F0C94074ED7F7068E...|0.151003937007874|\n",
      "|456064|CA642C960EBE18C67...|0.151003937007874|\n",
      "|110032|901E078965FE13206...|0.151003937007874|\n",
      "|272072|14BA659DC996E5178...|0.151003937007874|\n",
      "| 22087|78079040588D3E924...|0.151003937007874|\n",
      "|234499|D3EEF2DD86FD52205...|0.151003937007874|\n",
      "|124502|5E9445400ED6EE132...|0.151003937007874|\n",
      "+------+--------------------+-----------------+\n",
      "\n",
      "+------+------+--------------------+\n",
      "|   src|   dst|              weight|\n",
      "+------+------+--------------------+\n",
      "|337408|153819|0.007874015748031496|\n",
      "|337408|153819|0.007874015748031496|\n",
      "|337408|153819|0.007874015748031496|\n",
      "|337408|153819|0.007874015748031496|\n",
      "|337408|153819|0.007874015748031496|\n",
      "|337408|153819|0.007874015748031496|\n",
      "|337408|153819|0.007874015748031496|\n",
      "|337408|153819|0.007874015748031496|\n",
      "|337408|153819|0.007874015748031496|\n",
      "|337408|153819|0.007874015748031496|\n",
      "|337408|153819|0.007874015748031496|\n",
      "|337408|153819|0.007874015748031496|\n",
      "|337408|153819|0.007874015748031496|\n",
      "|337408|153819|0.007874015748031496|\n",
      "|337408|153819|0.007874015748031496|\n",
      "|337408|153819|0.007874015748031496|\n",
      "|337408|153819|0.007874015748031496|\n",
      "|337408|153819|0.007874015748031496|\n",
      "|337408|153819|0.007874015748031496|\n",
      "|337408|153819|0.007874015748031496|\n",
      "+------+------+--------------------+\n",
      "only showing top 20 rows\n",
      "\n"
     ]
    }
   ],
   "source": [
    "results.vertices.orderBy(results.vertices.pagerank.asc()).limit(20).show()\n",
    "results.edges.select(\"src\", \"dst\", \"weight\").show()"
   ]
  },
  {
   "cell_type": "code",
   "execution_count": null,
   "metadata": {
    "collapsed": true
   },
   "outputs": [],
   "source": [
    "labeled = g.labelPropagation(maxIter=3)\n",
    "g.show()"
   ]
  },
  {
   "cell_type": "code",
   "execution_count": null,
   "metadata": {
    "collapsed": true
   },
   "outputs": [],
   "source": [
    "g.show()"
   ]
  }
 ],
 "metadata": {
  "anaconda-cloud": {},
  "kernelspec": {
   "display_name": "Python 2",
   "language": "python",
   "name": "python2"
  },
  "language_info": {
   "codemirror_mode": {
    "name": "ipython",
    "version": 2
   },
   "file_extension": ".py",
   "mimetype": "text/x-python",
   "name": "python",
   "nbconvert_exporter": "python",
   "pygments_lexer": "ipython2",
   "version": "2.7.13"
  },
  "toc": {
   "nav_menu": {},
   "number_sections": true,
   "sideBar": true,
   "skip_h1_title": false,
   "toc_cell": false,
   "toc_position": {},
   "toc_section_display": "block",
   "toc_window_display": true
  }
 },
 "nbformat": 4,
 "nbformat_minor": 1
}
