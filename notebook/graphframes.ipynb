{
 "cells": [
  {
   "cell_type": "markdown",
   "metadata": {},
   "source": [
    "# GraphFrames Basics\n",
    "\n",
    "Examples of how to use GraphFrames for basic queries, motif finding, and general graph algorithms."
   ]
  },
  {
   "cell_type": "markdown",
   "metadata": {},
   "source": [
    "## Basic setup\n",
    "\n",
    "GraphFrames is a package for Apache Spark which provides DataFrame-based Graphs. It provides high-level APIs in Scala, Java, and Python. It aims to provide both the functionality of GraphX and extended functionality taking advantage of Spark DataFrames. This extended functionality includes motif finding, DataFrame-based serialization, and highly expressive graph queries.\n",
    "\n",
    "In order to be able to use this API, we need to first import the python modules. This assumes the GraphFrames Spark package has been already configured correctly to run with this notebook."
   ]
  },
  {
   "cell_type": "code",
   "execution_count": null,
   "metadata": {},
   "outputs": [],
   "source": [
    "import pyspark\n",
    "from pyspark.context import SparkContext\n",
    "from pyspark.sql import SparkSession, SQLContext\n",
    "from pyspark.sql.functions import regexp_replace\n",
    "from pyspark.sql.types import *\n",
    "from graphframes import *"
   ]
  },
  {
   "cell_type": "markdown",
   "metadata": {},
   "source": [
    "## Preparing the data\n",
    "\n",
    "Graph consist of set of vertices set of edges. These has to be provided as data frames."
   ]
  },
  {
   "cell_type": "code",
   "execution_count": null,
   "metadata": {},
   "outputs": [],
   "source": [
    "n_schema = StructType([StructField(\"id\", LongType()), StructField(\"sex\", StringType())])\n",
    "n_nodes = [[0, \"m\"], [1, \"f\"], [2, \"m\"], [3, \"m\"], [4, \"m\"], [5, \"f\"], [6, \"m\"], [7, \"f\"], [8, \"m\"], [9, \"f\"]]\n",
    "\n",
    "e_schema = StructType([StructField(\"src\", LongType()), StructField(\"dst\", LongType())])\n",
    "n_edges = [[1,2], [2,3], [3,1], [3,4], [4,2], [2,4], [9, 1], [8, 1], [7, 1], [6, 5], [9, 0], [0,1]]\n",
    "\n",
    "nodes_df = spark.createDataFrame(n_nodes, schema=n_schema)\n",
    "print(\"nodes:\")\n",
    "nodes_df.show()\n",
    "\n",
    "edges_df = spark.createDataFrame(n_edges, schema=e_schema)\n",
    "print(\"edges:\")\n",
    "edges_df.show()"
   ]
  },
  {
   "cell_type": "markdown",
   "metadata": {
    "collapsed": true
   },
   "source": [
    "## Constructing the graph representation\n",
    "\n",
    "Now, we can create the graph frame from the nodes and edges data frames. It's quite handy to cache the result to avoid the unwanted computations."
   ]
  },
  {
   "cell_type": "code",
   "execution_count": null,
   "metadata": {
    "collapsed": true
   },
   "outputs": [],
   "source": [
    "g1 = GraphFrame(nodes_df, edges_df).cache()"
   ]
  },
  {
   "cell_type": "markdown",
   "metadata": {
    "collapsed": true
   },
   "source": [
    "## Creating other graph\n",
    "\n",
    "If we don't care about the schema, there is also easier way to create the simple graph frame:"
   ]
  },
  {
   "cell_type": "code",
   "execution_count": null,
   "metadata": {},
   "outputs": [],
   "source": [
    "# Vertex DataFrame\n",
    "v = sqlContext.createDataFrame([\n",
    "  (1, \"Alice\", 62),\n",
    "  (2, \"Bob\", 12),\n",
    "  (3, \"Charlie\", 55),\n",
    "  (4, \"David\", 29),\n",
    "  (5, \"Esther\", 32),\n",
    "  (6, \"Fanny\", 14),\n",
    "  (7, \"Gabby\", 60),\n",
    "  (0, \"Henry\", 51)\n",
    "], [\"id\", \"name\", \"age\"])\n",
    "\n",
    "# Edge DataFrame\n",
    "e = sqlContext.createDataFrame([\n",
    "  (1, 2, \"friend\"),\n",
    "  (2, 3, \"follow\"),\n",
    "  (3, 2, \"follow\"),\n",
    "  (6, 3, \"follow\"),\n",
    "  (5, 6, \"follow\"),\n",
    "  (0, 2, \"follow\"),\n",
    "  (0, 6, \"follow\"),\n",
    "  (5, 4, \"friend\"),\n",
    "  (4, 1, \"friend\"),\n",
    "  (2, 0, \"friend\"),\n",
    "  (1, 5, \"friend\")\n",
    "], [\"src\", \"dst\", \"relationship\"])\n",
    "# Create a GraphFrame\n",
    "g2 = GraphFrame(v, e).cache()"
   ]
  },
  {
   "cell_type": "markdown",
   "metadata": {},
   "source": [
    "We have two different graphs but we can merge them together, providing the ids match. First we need to merge the nodes:"
   ]
  },
  {
   "cell_type": "code",
   "execution_count": null,
   "metadata": {},
   "outputs": [],
   "source": [
    "print(\"g1 nodes:\")\n",
    "g1.vertices.show()\n",
    "\n",
    "print(\"g2 nodes:\")\n",
    "g2.vertices.show()\n",
    "\n",
    "print(\"merged nodes:\")\n",
    "merged_nodes = g1.vertices.join(g2.vertices, 'id')\n",
    "merged_nodes.show()"
   ]
  },
  {
   "cell_type": "markdown",
   "metadata": {},
   "source": [
    "Do the similar for edges. Here we need to join on both 'src' and 'dst'."
   ]
  },
  {
   "cell_type": "code",
   "execution_count": null,
   "metadata": {},
   "outputs": [],
   "source": [
    "print(\"g1 edges:\")\n",
    "g1.edges.show()\n",
    "\n",
    "print(\"g2 edges:\")\n",
    "g2.edges.show()\n",
    "\n",
    "print(\"merged edges:\")\n",
    "merged_edges_raw = g1.edges.join(g2.edges, ['src', 'dst'], 'fullouter')\n",
    "merged_edges_raw.show()"
   ]
  },
  {
   "cell_type": "markdown",
   "metadata": {},
   "source": [
    "Replace `null` values with word 'other'."
   ]
  },
  {
   "cell_type": "code",
   "execution_count": null,
   "metadata": {},
   "outputs": [],
   "source": [
    "merged_edges = merged_edges_raw.na.fill('other')\n",
    "merged_edges.show()"
   ]
  },
  {
   "cell_type": "code",
   "execution_count": null,
   "metadata": {},
   "outputs": [],
   "source": [
    "g = GraphFrame(merged_nodes, merged_edges)\n",
    "g.cache()"
   ]
  },
  {
   "cell_type": "markdown",
   "metadata": {},
   "source": [
    "## Simple algorithms\n",
    "\n",
    "GraphFrames provides the same suite of standard graph algorithms as GraphX, plus some new ones. See the [API g.find(\"(a)-[]->(b)\") docs](https://graphframes.github.io/api/python/index.html) for more details.\n",
    "\n",
    "### Vertex degrees"
   ]
  },
  {
   "cell_type": "code",
   "execution_count": null,
   "metadata": {
    "scrolled": true
   },
   "outputs": [],
   "source": [
    "vertexInDegrees = g.inDegrees\n",
    "vertexInDegrees.show()\n",
    "\n",
    "vertexOutDegrees = g.outDegrees\n",
    "vertexOutDegrees.show()\n",
    "\n",
    "# node with the highest out degree\n",
    "foo = vertexInDegrees.join(g.vertices, 'id') \\\n",
    "                     .orderBy(\"inDegree\", ascending=False) \\\n",
    "                     .head()\n",
    "print(\"highest in degree:\" + str(foo))\n",
    "\n",
    "# node with the highest in degree\n",
    "bar = vertexOutDegrees.join(g.vertices, 'id') \\\n",
    "                      .orderBy(\"outDegree\", ascending=False) \\\n",
    "                      .head()\n",
    "print(\"highest out degree:\" + str(bar))"
   ]
  },
  {
   "cell_type": "markdown",
   "metadata": {
    "collapsed": true
   },
   "source": [
    "### Motif queries\n",
    "It's possible to use ASCII-like queries to find patterns in the graph structure, the general form looks like:\n",
    "```\n",
    "g.find(\"(a)-[e]->(b)\") \n",
    " .filter(...)\n",
    " .groupBy(...)\n",
    " .\n",
    "```"
   ]
  },
  {
   "cell_type": "markdown",
   "metadata": {},
   "source": [
    "Find all people that follow someone, but are not followed back."
   ]
  },
  {
   "cell_type": "code",
   "execution_count": null,
   "metadata": {},
   "outputs": [],
   "source": [
    "motifs = g.find(\"(a)-[e]->(b); !(b)-[]->(a)\") \\\n",
    "          .filter(\"e.relationship = 'follow'\")\n",
    "motifs.show()"
   ]
  },
  {
   "cell_type": "markdown",
   "metadata": {},
   "source": [
    "Find all people older than 40 that follow at least two people of age under 15."
   ]
  },
  {
   "cell_type": "code",
   "execution_count": 176,
   "metadata": {},
   "outputs": [
    {
     "name": "stdout",
     "output_type": "stream",
     "text": [
      "+--------------+--------------+--------------+\n",
      "|             a|             b|             c|\n",
      "+--------------+--------------+--------------+\n",
      "|[0,m,Henry,51]|[6,m,Fanny,14]|  [2,m,Bob,12]|\n",
      "|[0,m,Henry,51]|  [2,m,Bob,12]|[6,m,Fanny,14]|\n",
      "+--------------+--------------+--------------+\n",
      "\n"
     ]
    }
   ],
   "source": [
    "candidates = g.find(\"(a)-[]->(b); (a)-[]->(c)\") \\\n",
    "              .filter(\"b != c\") \\\n",
    "              .filter(\"a.age > 40\") \\\n",
    "              .filter(\"b.age < 15\") \\\n",
    "              .filter(\"c.age < 15\")\n",
    "candidates.show()"
   ]
  },
  {
   "cell_type": "markdown",
   "metadata": {},
   "source": [
    "### Label Propagation\n",
    "Within complex networks, real networks tend to have community structure. [Label propagation](https://en.wikipedia.org/wiki/Label_Propagation_Algorithm) is an algorithm for finding communities."
   ]
  },
  {
   "cell_type": "code",
   "execution_count": null,
   "metadata": {},
   "outputs": [],
   "source": [
    "# this fails with OOM error\n",
    "#results = g.pageRank(resetProbability=0.15, maxIter=1)\n",
    "#results.vertices.select(\"id\", \"pagerank\").show()\n",
    "#results.edges.select(\"src\", \"dst\", \"weight\").show()\n",
    "\n",
    "#labels = g.labelPropagation(maxIter=1)\n",
    "#labels.show()\n",
    "\n",
    "# this would be nice display(ranks.vertices.orderBy(ranks.vertices.pagerank.desc()).limit(20))"
   ]
  },
  {
   "cell_type": "code",
   "execution_count": null,
   "metadata": {},
   "outputs": [],
   "source": [
    "triangles = g.triangleCount()\n",
    "triangles.show()"
   ]
  },
  {
   "cell_type": "markdown",
   "metadata": {
    "collapsed": true
   },
   "source": [
    "## Visualization of a sub-graph\n",
    "\n",
    "Our data contain a lot of transactions (2 087 249 transactions among 546 651 wallets) so let's show only a small fraction of the transaction graph. We will show all the outgoing transaction of particular bitcoin address."
   ]
  },
  {
   "cell_type": "code",
   "execution_count": null,
   "metadata": {},
   "outputs": [
    {
     "ename": "Py4JJavaError",
     "evalue": "An error occurred while calling o1653.collectToPython.\n: org.apache.spark.SparkException: Job 1057 cancelled \n\tat org.apache.spark.scheduler.DAGScheduler.org$apache$spark$scheduler$DAGScheduler$$failJobAndIndependentStages(DAGScheduler.scala:1499)\n\tat org.apache.spark.scheduler.DAGScheduler.handleJobCancellation(DAGScheduler.scala:1439)\n\tat org.apache.spark.scheduler.DAGSchedulerEventProcessLoop.doOnReceive(DAGScheduler.scala:1686)\n\tat org.apache.spark.scheduler.DAGSchedulerEventProcessLoop.onReceive(DAGScheduler.scala:1669)\n\tat org.apache.spark.scheduler.DAGSchedulerEventProcessLoop.onReceive(DAGScheduler.scala:1658)\n\tat org.apache.spark.util.EventLoop$$anon$1.run(EventLoop.scala:48)\n\tat org.apache.spark.scheduler.DAGScheduler.runJob(DAGScheduler.scala:630)\n\tat org.apache.spark.SparkContext.runJob(SparkContext.scala:2022)\n\tat org.apache.spark.SparkContext.runJob(SparkContext.scala:2043)\n\tat org.apache.spark.SparkContext.runJob(SparkContext.scala:2062)\n\tat org.apache.spark.SparkContext.runJob(SparkContext.scala:2087)\n\tat org.apache.spark.rdd.RDD$$anonfun$collect$1.apply(RDD.scala:936)\n\tat org.apache.spark.rdd.RDDOperationScope$.withScope(RDDOperationScope.scala:151)\n\tat org.apache.spark.rdd.RDDOperationScope$.withScope(RDDOperationScope.scala:112)\n\tat org.apache.spark.rdd.RDD.withScope(RDD.scala:362)\n\tat org.apache.spark.rdd.RDD.collect(RDD.scala:935)\n\tat org.apache.spark.sql.execution.SparkPlan.executeCollect(SparkPlan.scala:278)\n\tat org.apache.spark.sql.Dataset$$anonfun$collectToPython$1.apply$mcI$sp(Dataset.scala:2803)\n\tat org.apache.spark.sql.Dataset$$anonfun$collectToPython$1.apply(Dataset.scala:2800)\n\tat org.apache.spark.sql.Dataset$$anonfun$collectToPython$1.apply(Dataset.scala:2800)\n\tat org.apache.spark.sql.execution.SQLExecution$.withNewExecutionId(SQLExecution.scala:65)\n\tat org.apache.spark.sql.Dataset.withNewExecutionId(Dataset.scala:2823)\n\tat org.apache.spark.sql.Dataset.collectToPython(Dataset.scala:2800)\n\tat sun.reflect.GeneratedMethodAccessor236.invoke(Unknown Source)\n\tat sun.reflect.DelegatingMethodAccessorImpl.invoke(DelegatingMethodAccessorImpl.java:43)\n\tat java.lang.reflect.Method.invoke(Method.java:498)\n\tat py4j.reflection.MethodInvoker.invoke(MethodInvoker.java:244)\n\tat py4j.reflection.ReflectionEngine.invoke(ReflectionEngine.java:357)\n\tat py4j.Gateway.invoke(Gateway.java:280)\n\tat py4j.commands.AbstractCommand.invokeMethod(AbstractCommand.java:132)\n\tat py4j.commands.CallCommand.execute(CallCommand.java:79)\n\tat py4j.GatewayConnection.run(GatewayConnection.java:214)\n\tat java.lang.Thread.run(Thread.java:748)\n",
     "output_type": "error",
     "traceback": [
      "\u001b[0;31m\u001b[0m",
      "\u001b[0;31mPy4JJavaError\u001b[0mTraceback (most recent call last)",
      "\u001b[0;32m<ipython-input-179-875d02a3a18b>\u001b[0m in \u001b[0;36m<module>\u001b[0;34m()\u001b[0m\n\u001b[1;32m     10\u001b[0m     }\n\u001b[1;32m     11\u001b[0m \u001b[0;34m\u001b[0m\u001b[0m\n\u001b[0;32m---> 12\u001b[0;31m \u001b[0mnodes_dict\u001b[0m \u001b[0;34m=\u001b[0m \u001b[0mmap\u001b[0m\u001b[0;34m(\u001b[0m\u001b[0mnode_to_dict\u001b[0m\u001b[0;34m,\u001b[0m \u001b[0mg\u001b[0m\u001b[0;34m.\u001b[0m\u001b[0mvertices\u001b[0m\u001b[0;34m.\u001b[0m\u001b[0mcollect\u001b[0m\u001b[0;34m(\u001b[0m\u001b[0;34m)\u001b[0m\u001b[0;34m)\u001b[0m\u001b[0;34m\u001b[0m\u001b[0m\n\u001b[0m\u001b[1;32m     13\u001b[0m \u001b[0;34m\u001b[0m\u001b[0m\n\u001b[1;32m     14\u001b[0m \u001b[0;32mdef\u001b[0m \u001b[0medge_to_dict\u001b[0m\u001b[0;34m(\u001b[0m\u001b[0mi\u001b[0m\u001b[0;34m,\u001b[0m \u001b[0mr\u001b[0m\u001b[0;34m)\u001b[0m\u001b[0;34m:\u001b[0m\u001b[0;34m\u001b[0m\u001b[0m\n",
      "\u001b[0;32m/opt/spark/python/pyspark/sql/dataframe.pyc\u001b[0m in \u001b[0;36mcollect\u001b[0;34m(self)\u001b[0m\n\u001b[1;32m    436\u001b[0m         \"\"\"\n\u001b[1;32m    437\u001b[0m         \u001b[0;32mwith\u001b[0m \u001b[0mSCCallSiteSync\u001b[0m\u001b[0;34m(\u001b[0m\u001b[0mself\u001b[0m\u001b[0;34m.\u001b[0m\u001b[0m_sc\u001b[0m\u001b[0;34m)\u001b[0m \u001b[0;32mas\u001b[0m \u001b[0mcss\u001b[0m\u001b[0;34m:\u001b[0m\u001b[0;34m\u001b[0m\u001b[0m\n\u001b[0;32m--> 438\u001b[0;31m             \u001b[0mport\u001b[0m \u001b[0;34m=\u001b[0m \u001b[0mself\u001b[0m\u001b[0;34m.\u001b[0m\u001b[0m_jdf\u001b[0m\u001b[0;34m.\u001b[0m\u001b[0mcollectToPython\u001b[0m\u001b[0;34m(\u001b[0m\u001b[0;34m)\u001b[0m\u001b[0;34m\u001b[0m\u001b[0m\n\u001b[0m\u001b[1;32m    439\u001b[0m         \u001b[0;32mreturn\u001b[0m \u001b[0mlist\u001b[0m\u001b[0;34m(\u001b[0m\u001b[0m_load_from_socket\u001b[0m\u001b[0;34m(\u001b[0m\u001b[0mport\u001b[0m\u001b[0;34m,\u001b[0m \u001b[0mBatchedSerializer\u001b[0m\u001b[0;34m(\u001b[0m\u001b[0mPickleSerializer\u001b[0m\u001b[0;34m(\u001b[0m\u001b[0;34m)\u001b[0m\u001b[0;34m)\u001b[0m\u001b[0;34m)\u001b[0m\u001b[0;34m)\u001b[0m\u001b[0;34m\u001b[0m\u001b[0m\n\u001b[1;32m    440\u001b[0m \u001b[0;34m\u001b[0m\u001b[0m\n",
      "\u001b[0;32m/opt/spark/python/lib/py4j-0.10.4-src.zip/py4j/java_gateway.py\u001b[0m in \u001b[0;36m__call__\u001b[0;34m(self, *args)\u001b[0m\n\u001b[1;32m   1131\u001b[0m         \u001b[0manswer\u001b[0m \u001b[0;34m=\u001b[0m \u001b[0mself\u001b[0m\u001b[0;34m.\u001b[0m\u001b[0mgateway_client\u001b[0m\u001b[0;34m.\u001b[0m\u001b[0msend_command\u001b[0m\u001b[0;34m(\u001b[0m\u001b[0mcommand\u001b[0m\u001b[0;34m)\u001b[0m\u001b[0;34m\u001b[0m\u001b[0m\n\u001b[1;32m   1132\u001b[0m         return_value = get_return_value(\n\u001b[0;32m-> 1133\u001b[0;31m             answer, self.gateway_client, self.target_id, self.name)\n\u001b[0m\u001b[1;32m   1134\u001b[0m \u001b[0;34m\u001b[0m\u001b[0m\n\u001b[1;32m   1135\u001b[0m         \u001b[0;32mfor\u001b[0m \u001b[0mtemp_arg\u001b[0m \u001b[0;32min\u001b[0m \u001b[0mtemp_args\u001b[0m\u001b[0;34m:\u001b[0m\u001b[0;34m\u001b[0m\u001b[0m\n",
      "\u001b[0;32m/opt/spark/python/pyspark/sql/utils.pyc\u001b[0m in \u001b[0;36mdeco\u001b[0;34m(*a, **kw)\u001b[0m\n\u001b[1;32m     61\u001b[0m     \u001b[0;32mdef\u001b[0m \u001b[0mdeco\u001b[0m\u001b[0;34m(\u001b[0m\u001b[0;34m*\u001b[0m\u001b[0ma\u001b[0m\u001b[0;34m,\u001b[0m \u001b[0;34m**\u001b[0m\u001b[0mkw\u001b[0m\u001b[0;34m)\u001b[0m\u001b[0;34m:\u001b[0m\u001b[0;34m\u001b[0m\u001b[0m\n\u001b[1;32m     62\u001b[0m         \u001b[0;32mtry\u001b[0m\u001b[0;34m:\u001b[0m\u001b[0;34m\u001b[0m\u001b[0m\n\u001b[0;32m---> 63\u001b[0;31m             \u001b[0;32mreturn\u001b[0m \u001b[0mf\u001b[0m\u001b[0;34m(\u001b[0m\u001b[0;34m*\u001b[0m\u001b[0ma\u001b[0m\u001b[0;34m,\u001b[0m \u001b[0;34m**\u001b[0m\u001b[0mkw\u001b[0m\u001b[0;34m)\u001b[0m\u001b[0;34m\u001b[0m\u001b[0m\n\u001b[0m\u001b[1;32m     64\u001b[0m         \u001b[0;32mexcept\u001b[0m \u001b[0mpy4j\u001b[0m\u001b[0;34m.\u001b[0m\u001b[0mprotocol\u001b[0m\u001b[0;34m.\u001b[0m\u001b[0mPy4JJavaError\u001b[0m \u001b[0;32mas\u001b[0m \u001b[0me\u001b[0m\u001b[0;34m:\u001b[0m\u001b[0;34m\u001b[0m\u001b[0m\n\u001b[1;32m     65\u001b[0m             \u001b[0ms\u001b[0m \u001b[0;34m=\u001b[0m \u001b[0me\u001b[0m\u001b[0;34m.\u001b[0m\u001b[0mjava_exception\u001b[0m\u001b[0;34m.\u001b[0m\u001b[0mtoString\u001b[0m\u001b[0;34m(\u001b[0m\u001b[0;34m)\u001b[0m\u001b[0;34m\u001b[0m\u001b[0m\n",
      "\u001b[0;32m/opt/spark/python/lib/py4j-0.10.4-src.zip/py4j/protocol.py\u001b[0m in \u001b[0;36mget_return_value\u001b[0;34m(answer, gateway_client, target_id, name)\u001b[0m\n\u001b[1;32m    317\u001b[0m                 raise Py4JJavaError(\n\u001b[1;32m    318\u001b[0m                     \u001b[0;34m\"An error occurred while calling {0}{1}{2}.\\n\"\u001b[0m\u001b[0;34m.\u001b[0m\u001b[0;34m\u001b[0m\u001b[0m\n\u001b[0;32m--> 319\u001b[0;31m                     format(target_id, \".\", name), value)\n\u001b[0m\u001b[1;32m    320\u001b[0m             \u001b[0;32melse\u001b[0m\u001b[0;34m:\u001b[0m\u001b[0;34m\u001b[0m\u001b[0m\n\u001b[1;32m    321\u001b[0m                 raise Py4JError(\n",
      "\u001b[0;31mPy4JJavaError\u001b[0m: An error occurred while calling o1653.collectToPython.\n: org.apache.spark.SparkException: Job 1057 cancelled \n\tat org.apache.spark.scheduler.DAGScheduler.org$apache$spark$scheduler$DAGScheduler$$failJobAndIndependentStages(DAGScheduler.scala:1499)\n\tat org.apache.spark.scheduler.DAGScheduler.handleJobCancellation(DAGScheduler.scala:1439)\n\tat org.apache.spark.scheduler.DAGSchedulerEventProcessLoop.doOnReceive(DAGScheduler.scala:1686)\n\tat org.apache.spark.scheduler.DAGSchedulerEventProcessLoop.onReceive(DAGScheduler.scala:1669)\n\tat org.apache.spark.scheduler.DAGSchedulerEventProcessLoop.onReceive(DAGScheduler.scala:1658)\n\tat org.apache.spark.util.EventLoop$$anon$1.run(EventLoop.scala:48)\n\tat org.apache.spark.scheduler.DAGScheduler.runJob(DAGScheduler.scala:630)\n\tat org.apache.spark.SparkContext.runJob(SparkContext.scala:2022)\n\tat org.apache.spark.SparkContext.runJob(SparkContext.scala:2043)\n\tat org.apache.spark.SparkContext.runJob(SparkContext.scala:2062)\n\tat org.apache.spark.SparkContext.runJob(SparkContext.scala:2087)\n\tat org.apache.spark.rdd.RDD$$anonfun$collect$1.apply(RDD.scala:936)\n\tat org.apache.spark.rdd.RDDOperationScope$.withScope(RDDOperationScope.scala:151)\n\tat org.apache.spark.rdd.RDDOperationScope$.withScope(RDDOperationScope.scala:112)\n\tat org.apache.spark.rdd.RDD.withScope(RDD.scala:362)\n\tat org.apache.spark.rdd.RDD.collect(RDD.scala:935)\n\tat org.apache.spark.sql.execution.SparkPlan.executeCollect(SparkPlan.scala:278)\n\tat org.apache.spark.sql.Dataset$$anonfun$collectToPython$1.apply$mcI$sp(Dataset.scala:2803)\n\tat org.apache.spark.sql.Dataset$$anonfun$collectToPython$1.apply(Dataset.scala:2800)\n\tat org.apache.spark.sql.Dataset$$anonfun$collectToPython$1.apply(Dataset.scala:2800)\n\tat org.apache.spark.sql.execution.SQLExecution$.withNewExecutionId(SQLExecution.scala:65)\n\tat org.apache.spark.sql.Dataset.withNewExecutionId(Dataset.scala:2823)\n\tat org.apache.spark.sql.Dataset.collectToPython(Dataset.scala:2800)\n\tat sun.reflect.GeneratedMethodAccessor236.invoke(Unknown Source)\n\tat sun.reflect.DelegatingMethodAccessorImpl.invoke(DelegatingMethodAccessorImpl.java:43)\n\tat java.lang.reflect.Method.invoke(Method.java:498)\n\tat py4j.reflection.MethodInvoker.invoke(MethodInvoker.java:244)\n\tat py4j.reflection.ReflectionEngine.invoke(ReflectionEngine.java:357)\n\tat py4j.Gateway.invoke(Gateway.java:280)\n\tat py4j.commands.AbstractCommand.invokeMethod(AbstractCommand.java:132)\n\tat py4j.commands.CallCommand.execute(CallCommand.java:79)\n\tat py4j.GatewayConnection.run(GatewayConnection.java:214)\n\tat java.lang.Thread.run(Thread.java:748)\n"
     ]
    }
   ],
   "source": [
    "import random\n",
    "    \n",
    "def node_to_dict(r):\n",
    "    return {\n",
    "        'id': r[0],\n",
    "        'label': r[1],\n",
    "        'x': random.uniform(0,1),\n",
    "        'y': random.uniform(0,1),\n",
    "        'size': random.uniform(0.2,1)\n",
    "    }\n",
    "\n",
    "nodes_dict = map(node_to_dict, g.vertices.collect())\n",
    "\n",
    "def edge_to_dict(i, r):\n",
    "    return {\n",
    "        'id': i,\n",
    "        'source': r[0],\n",
    "        'target': r[1]\n",
    "    }\n",
    "\n",
    "edges_dict = [edge_to_dict(i, r) for i, r in enumerate(g.edges.collect())]"
   ]
  },
  {
   "cell_type": "markdown",
   "metadata": {},
   "source": [
    "Now we are ready to show the data using the [sigmajs](sigmajs.org) library."
   ]
  },
  {
   "cell_type": "code",
   "execution_count": 22,
   "metadata": {},
   "outputs": [
    {
     "data": {
      "application/javascript": [
       "require.config({\n",
       "    paths: {\n",
       "        sigmajs: 'https://cdnjs.cloudflare.com/ajax/libs/sigma.js/1.2.0/sigma.min'\n",
       "    }\n",
       "});\n",
       "\n",
       "require(['sigmajs']);"
      ],
      "text/plain": [
       "<IPython.core.display.Javascript object>"
      ]
     },
     "metadata": {},
     "output_type": "display_data"
    }
   ],
   "source": [
    "%%javascript\n",
    "require.config({\n",
    "    paths: {\n",
    "        sigmajs: 'https://cdnjs.cloudflare.com/ajax/libs/sigma.js/1.2.0/sigma.min'\n",
    "    }\n",
    "});\n",
    "\n",
    "require(['sigmajs']);"
   ]
  },
  {
   "cell_type": "code",
   "execution_count": 31,
   "metadata": {},
   "outputs": [
    {
     "data": {
      "text/html": [
       "\n",
       "<div id=\"graph-div\" style=\"height:400px\"></div>\n",
       "<script> var g = {\"nodes\": [{\"y\": 0.8415859899313948, \"x\": 0.7071297023657129, \"size\": 0.2916662010062532, \"id\": 90723, \"label\": \"865BA68EB97FA9623B3B992C425873BCDF64838E\"}, {\"y\": 0.19729894669555237, \"x\": 0.45436836960785043, \"size\": 0.8265437788518644, \"id\": 73489, \"label\": \"52DC8BD47695B6D5413C1C5AC19FFD07D627C00E\"}, {\"y\": 0.7525798848120595, \"x\": 0.41142839591836, \"size\": 0.8845143930031989, \"id\": 531266, \"label\": \"3F621757C623E19278C115D2BA3847BDA9E9B4CC\"}, {\"y\": 0.9775716146985173, \"x\": 0.2975407351449405, \"size\": 0.6859369120623715, \"id\": 36150, \"label\": \"A54EF22D32D5756F9AA4CDB338FF8B13A112734E\"}, {\"y\": 0.47123032970923784, \"x\": 0.11413685263672546, \"size\": 0.8152220945276631, \"id\": 449200, \"label\": \"F4B004C3CA2E7F96F9FC5BCA767708967AF67A44\"}, {\"y\": 0.2174122770958462, \"x\": 0.9621302974788408, \"size\": 0.2970661441672303, \"id\": 402628, \"label\": \"AA45834F735090FEDEB0CA1F166FA78405B28897\"}, {\"y\": 0.2277958562372574, \"x\": 0.008194661364623435, \"size\": 0.7400845914039411, \"id\": 260613, \"label\": \"6FFB8A086E0D91094812F393399D630A5C5973BB\"}, {\"y\": 0.8728757644986687, \"x\": 0.872495089522857, \"size\": 0.48449109477834046, \"id\": 299908, \"label\": \"E3F08554C4D797AB1F817B68ABD12AEC2E9260BB\"}, {\"y\": 0.4395980039933354, \"x\": 0.77628734021799, \"size\": 0.5304081641065781, \"id\": 143918, \"label\": \"A4B1FDB4537D779C79D789DC154544058F94E7B1\"}, {\"y\": 0.24202611189787138, \"x\": 0.9312746926590378, \"size\": 0.4128966481925175, \"id\": 85806, \"label\": \"E59E4A4C94E54B76C9AE10859B8D7AF826F75F8D\"}, {\"y\": 0.3774913477617349, \"x\": 0.2875312448220291, \"size\": 0.25819861296201374, \"id\": 26673, \"label\": \"99C37F14F5CD2AA5B195A7F4D3F8422FA99DA6DC\"}, {\"y\": 0.8220498506994685, \"x\": 0.2808241187438052, \"size\": 0.3327582207544829, \"id\": 98630, \"label\": \"6C8EB8EB53EA37059C20A95708ACBE61B69C76D6\"}, {\"y\": 0.8960150202267259, \"x\": 0.7937477408575561, \"size\": 0.49146167492653936, \"id\": 451006, \"label\": \"28A18D3B87BA226BFA6C04E56149735D2039C904\"}, {\"y\": 0.6066261724162578, \"x\": 0.10330039313984996, \"size\": 0.31410557045845744, \"id\": 244900, \"label\": \"87F97DA212FE06A0B4C2A2609C9474A0BABFBD3E\"}, {\"y\": 0.7993191080576696, \"x\": 0.7354595145111713, \"size\": 0.4882435756441914, \"id\": 228133, \"label\": \"AB4E11D8B737B9F2948F62FDD4D4579F9B270E00\"}, {\"y\": 0.8788501249431505, \"x\": 0.5016547580198154, \"size\": 0.8495351296573312, \"id\": 291988, \"label\": \"4863FCA534DF6069E98842CA19B3F74DD893FC81\"}, {\"y\": 0.7459708763417167, \"x\": 0.3869117674575656, \"size\": 0.6618111705925666, \"id\": 333790, \"label\": \"4A0B307D2D1D419CE5897DAF19B5D8DC59697329\"}, {\"y\": 0.5017022289415575, \"x\": 0.9302558707477133, \"size\": 0.8209586325896399, \"id\": 152448, \"label\": \"0EBFCF01A516F0962B9AC36A66A97CF74BBEAC90\"}, {\"y\": 0.08127448380316693, \"x\": 0.14029901302151637, \"size\": 0.5857762629251486, \"id\": 170350, \"label\": \"0CB310174ECA0BA93A3A0841F4C812FC4B25F1B8\"}, {\"y\": 0.34114750146443085, \"x\": 0.8847307971900336, \"size\": 0.7012258228045583, \"id\": 198854, \"label\": \"A34D9D41DBED29FE3D0F67BB76EB7AD0AFD692EC\"}, {\"y\": 0.7528733085980974, \"x\": 0.7183655601958212, \"size\": 0.6627055230415607, \"id\": 49633, \"label\": \"4DFD4A60C3D5F642971F2AF7A2140755BA7C3418\"}, {\"y\": 0.2271859573772641, \"x\": 0.7076060753914714, \"size\": 0.22816849207574263, \"id\": 36789, \"label\": \"74983C5871243018F5C71AFF2BD1DAEEB40F8BB2\"}, {\"y\": 0.9774817392524133, \"x\": 0.9746712531015547, \"size\": 0.3608791339976916, \"id\": 446648, \"label\": \"564EE8BBACB7658542B2D0AE626081D1A6E88F48\"}, {\"y\": 0.9350417777710929, \"x\": 0.4809545267079641, \"size\": 0.9449250428454825, \"id\": 192506, \"label\": \"C1DA21F74CD0F721DB995D911025198FD39C3C27\"}, {\"y\": 0.29931199248113416, \"x\": 0.5901848857355354, \"size\": 0.4285294080894151, \"id\": 241675, \"label\": \"28216E7DA032140354730C68E6C323AA1AFF650E\"}, {\"y\": 0.048448773390358024, \"x\": 0.8105758470339518, \"size\": 0.28523604370622535, \"id\": 159327, \"label\": \"3F48EE758287715C8720327D85AFC596809F95C1\"}, {\"y\": 0.8466115784525343, \"x\": 0.20198564105896843, \"size\": 0.48384847833937905, \"id\": 324094, \"label\": \"3327A839F540BA291AD0725D1FBD602C3560861A\"}, {\"y\": 0.6856717934629554, \"x\": 0.6520445964622265, \"size\": 0.7068758972560782, \"id\": 24680, \"label\": \"393F6B517681AB5053493D3981ABA6406A465CF7\"}, {\"y\": 0.9450573983235255, \"x\": 0.579794898706569, \"size\": 0.4925500327203078, \"id\": 189874, \"label\": \"1F9DA1BFF29639909ED7B6458EBA92636C09851C\"}, {\"color\": \"#999\", \"label\": \"EC8B7C31883F9E1341EFCD0802B494F5B909740D\", \"y\": 0.5, \"x\": -1, \"id\": 195799, \"size\": 2}], \"edges\": [{\"source\": 195799, \"id\": 0, \"target\": 98630}, {\"source\": 195799, \"id\": 1, \"target\": 98630}, {\"source\": 195799, \"id\": 2, \"target\": 98630}, {\"source\": 195799, \"id\": 3, \"target\": 98630}, {\"source\": 195799, \"id\": 4, \"target\": 299908}, {\"source\": 195799, \"id\": 5, \"target\": 85806}, {\"source\": 195799, \"id\": 6, \"target\": 291988}, {\"source\": 195799, \"id\": 7, \"target\": 291988}, {\"source\": 195799, \"id\": 8, \"target\": 26673}, {\"source\": 195799, \"id\": 9, \"target\": 26673}, {\"source\": 195799, \"id\": 10, \"target\": 228133}, {\"source\": 195799, \"id\": 11, \"target\": 189874}, {\"source\": 195799, \"id\": 12, \"target\": 90723}, {\"source\": 195799, \"id\": 13, \"target\": 90723}, {\"source\": 195799, \"id\": 14, \"target\": 36789}, {\"source\": 195799, \"id\": 15, \"target\": 36789}, {\"source\": 195799, \"id\": 16, \"target\": 36789}, {\"source\": 195799, \"id\": 17, \"target\": 36789}, {\"source\": 195799, \"id\": 18, \"target\": 36789}, {\"source\": 195799, \"id\": 19, \"target\": 531266}, {\"source\": 195799, \"id\": 20, \"target\": 49633}, {\"source\": 195799, \"id\": 21, \"target\": 402628}, {\"source\": 195799, \"id\": 22, \"target\": 402628}, {\"source\": 195799, \"id\": 23, \"target\": 402628}, {\"source\": 195799, \"id\": 24, \"target\": 241675}, {\"source\": 195799, \"id\": 25, \"target\": 152448}, {\"source\": 195799, \"id\": 26, \"target\": 152448}, {\"source\": 195799, \"id\": 27, \"target\": 451006}, {\"source\": 195799, \"id\": 28, \"target\": 192506}, {\"source\": 195799, \"id\": 29, \"target\": 143918}, {\"source\": 195799, \"id\": 30, \"target\": 73489}, {\"source\": 195799, \"id\": 31, \"target\": 449200}, {\"source\": 195799, \"id\": 32, \"target\": 449200}, {\"source\": 195799, \"id\": 33, \"target\": 449200}, {\"source\": 195799, \"id\": 34, \"target\": 449200}, {\"source\": 195799, \"id\": 35, \"target\": 449200}, {\"source\": 195799, \"id\": 36, \"target\": 449200}, {\"source\": 195799, \"id\": 37, \"target\": 449200}, {\"source\": 195799, \"id\": 38, \"target\": 449200}, {\"source\": 195799, \"id\": 39, \"target\": 449200}, {\"source\": 195799, \"id\": 40, \"target\": 449200}, {\"source\": 195799, \"id\": 41, \"target\": 449200}, {\"source\": 195799, \"id\": 42, \"target\": 449200}, {\"source\": 195799, \"id\": 43, \"target\": 449200}, {\"source\": 195799, \"id\": 44, \"target\": 449200}, {\"source\": 195799, \"id\": 45, \"target\": 449200}, {\"source\": 195799, \"id\": 46, \"target\": 449200}, {\"source\": 195799, \"id\": 47, \"target\": 449200}, {\"source\": 195799, \"id\": 48, \"target\": 449200}, {\"source\": 195799, \"id\": 49, \"target\": 449200}, {\"source\": 195799, \"id\": 50, \"target\": 449200}, {\"source\": 195799, \"id\": 51, \"target\": 449200}, {\"source\": 195799, \"id\": 52, \"target\": 449200}, {\"source\": 195799, \"id\": 53, \"target\": 449200}, {\"source\": 195799, \"id\": 54, \"target\": 449200}, {\"source\": 195799, \"id\": 55, \"target\": 449200}, {\"source\": 195799, \"id\": 56, \"target\": 449200}, {\"source\": 195799, \"id\": 57, \"target\": 449200}, {\"source\": 195799, \"id\": 58, \"target\": 449200}, {\"source\": 195799, \"id\": 59, \"target\": 449200}, {\"source\": 195799, \"id\": 60, \"target\": 449200}, {\"source\": 195799, \"id\": 61, \"target\": 449200}, {\"source\": 195799, \"id\": 62, \"target\": 449200}, {\"source\": 195799, \"id\": 63, \"target\": 449200}, {\"source\": 195799, \"id\": 64, \"target\": 449200}, {\"source\": 195799, \"id\": 65, \"target\": 449200}, {\"source\": 195799, \"id\": 66, \"target\": 449200}, {\"source\": 195799, \"id\": 67, \"target\": 449200}, {\"source\": 195799, \"id\": 68, \"target\": 198854}, {\"source\": 195799, \"id\": 69, \"target\": 446648}, {\"source\": 195799, \"id\": 70, \"target\": 333790}, {\"source\": 195799, \"id\": 71, \"target\": 333790}, {\"source\": 195799, \"id\": 72, \"target\": 333790}, {\"source\": 195799, \"id\": 73, \"target\": 24680}, {\"source\": 195799, \"id\": 74, \"target\": 324094}, {\"source\": 195799, \"id\": 75, \"target\": 324094}, {\"source\": 195799, \"id\": 76, \"target\": 170350}, {\"source\": 195799, \"id\": 77, \"target\": 260613}, {\"source\": 195799, \"id\": 78, \"target\": 159327}, {\"source\": 195799, \"id\": 79, \"target\": 244900}, {\"source\": 195799, \"id\": 80, \"target\": 36150}, {\"source\": 195799, \"id\": 81, \"target\": 36150}, {\"source\": 195799, \"id\": 82, \"target\": 36150}]} ;\n",
       "\n",
       "s = new sigma({graph: g, container: 'graph-div', settings: { defaultNodeColor: '#ec5148'} });\n",
       "\n",
       "s.graph.nodes().forEach(function(n) {\n",
       "  n.originalColor = n.color;\n",
       "});\n",
       "s.graph.edges().forEach(function(e) {\n",
       "  e.originalColor = e.color;\n",
       "});\n",
       "\n",
       "s.bind('clickNode', function(e) {\n",
       "  var nodeId = e.data.node.id,\n",
       "      toKeep = neighbors(s.graph, nodeId);\n",
       "  toKeep[nodeId] = e.data.node;\n",
       "\n",
       "  s.graph.nodes().forEach(function(n) {\n",
       "    if (toKeep[n.id])\n",
       "      n.color = n.originalColor;\n",
       "    else\n",
       "      n.color = '#eee';\n",
       "  });\n",
       "\n",
       "  s.graph.edges().forEach(function(e) {\n",
       "    if (toKeep[e.source] && toKeep[e.target])\n",
       "      e.color = e.originalColor;\n",
       "    else\n",
       "      e.color = '#eee';\n",
       "  });\n",
       "\n",
       "  s.refresh();\n",
       "});\n",
       "\n",
       "s.bind('clickStage', function(e) {\n",
       "  s.graph.nodes().forEach(function(n) {\n",
       "    n.color = n.originalColor;\n",
       "  });\n",
       "\n",
       "  s.graph.edges().forEach(function(e) {\n",
       "    e.color = e.originalColor;\n",
       "  });\n",
       "\n",
       "  s.refresh();\n",
       "});\n",
       " </script>\n"
      ],
      "text/plain": [
       "<IPython.core.display.HTML object>"
      ]
     },
     "execution_count": 31,
     "metadata": {},
     "output_type": "execute_result"
    }
   ],
   "source": [
    "from IPython.core.display import display, HTML\n",
    "from string import Template\n",
    "import json\n",
    "\n",
    "js_text_template = Template(open('js/sigma-graph.js','r').read())\n",
    "\n",
    "graph_data = { 'nodes': nodes_dict, 'edges': edges_dict }\n",
    "\n",
    "js_text = js_text_template.substitute({'graph_data': json.dumps(graph_data),\n",
    "                                       'container': 'graph-div'})\n",
    "\n",
    "html_template = Template('''\n",
    "<div id=\"graph-div\" style=\"height:400px\"></div>\n",
    "<script> $js_text </script>\n",
    "''')\n",
    "\n",
    "HTML(html_template.substitute({'js_text': js_text}))"
   ]
  }
 ],
 "metadata": {
  "anaconda-cloud": {},
  "kernelspec": {
   "display_name": "Python 2",
   "language": "python",
   "name": "python2"
  },
  "language_info": {
   "codemirror_mode": {
    "name": "ipython",
    "version": 2
   },
   "file_extension": ".py",
   "mimetype": "text/x-python",
   "name": "python",
   "nbconvert_exporter": "python",
   "pygments_lexer": "ipython2",
   "version": "2.7.13"
  },
  "toc": {
   "nav_menu": {},
   "number_sections": true,
   "sideBar": true,
   "skip_h1_title": false,
   "toc_cell": false,
   "toc_position": {},
   "toc_section_display": "block",
   "toc_window_display": true
  }
 },
 "nbformat": 4,
 "nbformat_minor": 1
}
