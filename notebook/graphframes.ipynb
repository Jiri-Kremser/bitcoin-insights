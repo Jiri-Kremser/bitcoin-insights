{
 "cells": [
  {
   "cell_type": "markdown",
   "metadata": {},
   "source": [
    "# GraphFrames Basics\n",
    "\n",
    "Examples of how to use GraphFrames for basic queries, motif finding, and general graph algorithms."
   ]
  },
  {
   "cell_type": "markdown",
   "metadata": {},
   "source": [
    "## Basic setup\n",
    "\n",
    "GraphFrames is a package for Apache Spark which provides DataFrame-based Graphs. It provides high-level APIs in Scala, Java, and Python. It aims to provide both the functionality of GraphX and extended functionality taking advantage of Spark DataFrames. This extended functionality includes motif finding, DataFrame-based serialization, and highly expressive graph queries.\n",
    "\n",
    "In order to be able to use this API, we need to first import the python modules. This assumes the GraphFrames Spark package has been already configured correctly to run with this notebook."
   ]
  },
  {
   "cell_type": "code",
   "execution_count": null,
   "metadata": {
    "collapsed": true
   },
   "outputs": [],
   "source": [
    "import pyspark\n",
    "from pyspark.context import SparkContext\n",
    "from pyspark.sql import SparkSession, SQLContext\n",
    "from pyspark.sql.functions import regexp_replace\n",
    "from pyspark.sql.types import *\n",
    "from graphframes import *\n",
    "\n",
    "spark.sparkContext.setCheckpointDir(\"/tmp\")"
   ]
  },
  {
   "cell_type": "markdown",
   "metadata": {},
   "source": [
    "## Preparing the data\n",
    "\n",
    "Graph consist of set of vertices set of edges. These has to be provided as data frames."
   ]
  },
  {
   "cell_type": "code",
   "execution_count": null,
   "metadata": {},
   "outputs": [],
   "source": [
    "n_schema = StructType([StructField(\"id\", LongType()), StructField(\"sex\", StringType())])\n",
    "n_nodes = [[0, \"m\"], [1, \"f\"], [2, \"m\"], [3, \"m\"], [4, \"m\"], [5, \"f\"], [6, \"m\"], [7, \"f\"], [8, \"m\"], [9, \"f\"]]\n",
    "\n",
    "e_schema = StructType([StructField(\"src\", LongType()), StructField(\"dst\", LongType())])\n",
    "n_edges = [[1,2], [2,3], [3,1], [3,4], [4,2], [2,4], [9, 1], [8, 1], [7, 1], [6, 5], [9, 0], [0,1]]\n",
    "\n",
    "nodes_df = spark.createDataFrame(n_nodes, schema=n_schema)\n",
    "print(\"nodes:\")\n",
    "nodes_df.show()\n",
    "\n",
    "edges_df = spark.createDataFrame(n_edges, schema=e_schema)\n",
    "print(\"edges:\")\n",
    "edges_df.show()"
   ]
  },
  {
   "cell_type": "markdown",
   "metadata": {
    "collapsed": true
   },
   "source": [
    "## Constructing the graph\n",
    "\n",
    "Now, we can create the graph frame from the nodes and edges data frames. It's quite handy to cache the result to avoid the unwanted computations."
   ]
  },
  {
   "cell_type": "code",
   "execution_count": null,
   "metadata": {
    "collapsed": true
   },
   "outputs": [],
   "source": [
    "g1 = GraphFrame(nodes_df, edges_df).cache()"
   ]
  },
  {
   "cell_type": "markdown",
   "metadata": {
    "collapsed": true
   },
   "source": [
    "## Creating other graph\n",
    "\n",
    "If we don't care about the schema, there is also easier way to create the simple graph frame:"
   ]
  },
  {
   "cell_type": "code",
   "execution_count": null,
   "metadata": {
    "collapsed": true
   },
   "outputs": [],
   "source": [
    "# Vertex DataFrame\n",
    "v = sqlContext.createDataFrame([\n",
    "  (1, \"Alice\", 62),\n",
    "  (2, \"Bob\", 12),\n",
    "  (3, \"Charlie\", 55),\n",
    "  (4, \"David\", 29),\n",
    "  (5, \"Esther\", 32),\n",
    "  (6, \"Fanny\", 14),\n",
    "  (7, \"Gabby\", 60),\n",
    "  (0, \"Henry\", 51)\n",
    "], [\"id\", \"name\", \"age\"])\n",
    "\n",
    "# Edge DataFrame\n",
    "e = sqlContext.createDataFrame([\n",
    "  (1, 2, \"friend\"),\n",
    "  (2, 3, \"follow\"),\n",
    "  (3, 2, \"follow\"),\n",
    "  (6, 3, \"follow\"),\n",
    "  (5, 6, \"follow\"),\n",
    "  (0, 2, \"follow\"),\n",
    "  (0, 6, \"follow\"),\n",
    "  (5, 4, \"friend\"),\n",
    "  (4, 1, \"friend\"),\n",
    "  (2, 0, \"friend\"),\n",
    "  (1, 5, \"friend\")\n",
    "], [\"src\", \"dst\", \"relationship\"])\n",
    "\n",
    "# Create a GraphFrame\n",
    "g2 = GraphFrame(v, e).cache()"
   ]
  },
  {
   "cell_type": "markdown",
   "metadata": {},
   "source": [
    "We have two different graphs but we can merge them together, providing the ids match. First we need to merge the nodes:"
   ]
  },
  {
   "cell_type": "code",
   "execution_count": null,
   "metadata": {},
   "outputs": [],
   "source": [
    "print(\"g1 nodes:\")\n",
    "g1.vertices.show()\n",
    "\n",
    "print(\"g2 nodes:\")\n",
    "g2.vertices.show()\n",
    "\n",
    "print(\"merged nodes:\")\n",
    "merged_nodes = g1.vertices.join(g2.vertices, 'id', 'fullouter')\n",
    "merged_nodes.show()"
   ]
  },
  {
   "cell_type": "markdown",
   "metadata": {},
   "source": [
    "Do the similar for edges. Here we need to join on both 'src' and 'dst'."
   ]
  },
  {
   "cell_type": "code",
   "execution_count": null,
   "metadata": {},
   "outputs": [],
   "source": [
    "print(\"g1 edges:\")\n",
    "g1.edges.show()\n",
    "\n",
    "print(\"g2 edges:\")\n",
    "g2.edges.show()\n",
    "\n",
    "print(\"merged edges:\")\n",
    "merged_edges_raw = g1.edges.join(g2.edges, ['src', 'dst'], 'fullouter')\n",
    "merged_edges_raw.show()"
   ]
  },
  {
   "cell_type": "markdown",
   "metadata": {},
   "source": [
    "Replace `null` values with word 'other'."
   ]
  },
  {
   "cell_type": "code",
   "execution_count": null,
   "metadata": {},
   "outputs": [],
   "source": [
    "merged_edges = merged_edges_raw.na.fill('other')\n",
    "merged_edges.show()"
   ]
  },
  {
   "cell_type": "code",
   "execution_count": null,
   "metadata": {},
   "outputs": [],
   "source": [
    "g = GraphFrame(merged_nodes, merged_edges)\n",
    "g.cache()"
   ]
  },
  {
   "cell_type": "markdown",
   "metadata": {},
   "source": [
    "## Simple algorithms\n",
    "\n",
    "GraphFrames provides the same suite of standard graph algorithms as GraphX, plus some new ones. See the [API g.find(\"(a)-[]->(b)\") docs](https://graphframes.github.io/api/python/index.html) for more details.\n",
    "\n",
    "### Vertex degrees"
   ]
  },
  {
   "cell_type": "code",
   "execution_count": null,
   "metadata": {
    "scrolled": true
   },
   "outputs": [],
   "source": [
    "vertexInDegrees = g.inDegrees\n",
    "vertexInDegrees.show()\n",
    "\n",
    "vertexOutDegrees = g.outDegrees\n",
    "vertexOutDegrees.show()\n",
    "\n",
    "# node with the highest out degree\n",
    "foo = vertexInDegrees.join(g.vertices, 'id') \\\n",
    "                     .orderBy(\"inDegree\", ascending=False) \\\n",
    "                     .head()\n",
    "print(\"highest in degree:\" + str(foo))\n",
    "\n",
    "# node with the highest in degree\n",
    "bar = vertexOutDegrees.join(g.vertices, 'id') \\\n",
    "                      .orderBy(\"outDegree\", ascending=False) \\\n",
    "                      .head()\n",
    "print(\"highest out degree:\" + str(bar))"
   ]
  },
  {
   "cell_type": "markdown",
   "metadata": {
    "collapsed": true
   },
   "source": [
    "### Motif queries\n",
    "It's possible to use ASCII-like queries to find patterns in the graph structure, the general form looks like:\n",
    "```\n",
    "g.find(\"(a)-[e]->(b)\") \n",
    " .filter(...)\n",
    " .groupBy(...)\n",
    " .\n",
    "```"
   ]
  },
  {
   "cell_type": "markdown",
   "metadata": {},
   "source": [
    "Find all people that follow someone, but are not followed back."
   ]
  },
  {
   "cell_type": "code",
   "execution_count": null,
   "metadata": {},
   "outputs": [],
   "source": [
    "motifs = g.find(\"(a)-[e]->(b); !(b)-[]->(a)\") \\\n",
    "          .filter(\"e.relationship = 'follow'\")\n",
    "motifs.show()"
   ]
  },
  {
   "cell_type": "markdown",
   "metadata": {},
   "source": [
    "Find all people older than 40 that follow at least two people of age under 15."
   ]
  },
  {
   "cell_type": "code",
   "execution_count": null,
   "metadata": {},
   "outputs": [],
   "source": [
    "candidates = g.find(\"(a)-[]->(b); (a)-[]->(c)\") \\\n",
    "              .filter(\"b != c\") \\\n",
    "              .filter(\"a.age > 40\") \\\n",
    "              .filter(\"b.age < 15\") \\\n",
    "              .filter(\"c.age < 15\")\n",
    "candidates.show()"
   ]
  },
  {
   "cell_type": "markdown",
   "metadata": {},
   "source": [
    "### Label Propagation\n",
    "Within complex networks, real networks tend to have community structure. [Label propagation](https://en.wikipedia.org/wiki/Label_Propagation_Algorithm) is an algorithm for finding communities."
   ]
  },
  {
   "cell_type": "code",
   "execution_count": null,
   "metadata": {},
   "outputs": [],
   "source": [
    "labels = g.labelPropagation(maxIter=1)\n",
    "labels.show()"
   ]
  },
  {
   "cell_type": "markdown",
   "metadata": {},
   "source": [
    "### Triangles\n",
    "Strong communities exhibit large number of triangles in graph. This assigns each node the number of triangles it forms."
   ]
  },
  {
   "cell_type": "code",
   "execution_count": null,
   "metadata": {},
   "outputs": [],
   "source": [
    "triangles = g.triangleCount()\n",
    "triangles.show()"
   ]
  },
  {
   "cell_type": "markdown",
   "metadata": {},
   "source": [
    "### Others"
   ]
  },
  {
   "cell_type": "code",
   "execution_count": null,
   "metadata": {},
   "outputs": [],
   "source": [
    "# bfs - finds shortes paths from nodes satisfying the first conditions to nodes satisfying the second condition\n",
    "paths = g.bfs(\"age > 40 and sex = 'm'\", \"age < 40 and sex = 'f'\", maxPathLength=3)\n",
    "paths.show()\n",
    "\n",
    "# connected components\n",
    "components = g.connectedComponents()\n",
    "components.show()\n",
    "\n",
    "# page rank\n",
    "# ranks = g.pageRank(resetProbability=0.15, tol=0.01)\n",
    "# ranks.vertices.orderBy('pagerank', ascending=False).show()\n",
    "\n",
    "# foo = g.shortestPaths(landmarks=[1, 2])\n",
    "# foo.show()"
   ]
  },
  {
   "cell_type": "markdown",
   "metadata": {
    "collapsed": true
   },
   "source": [
    "## Visualization of a graph\n",
    "\n",
    "Unfortunately, there is no builtin method in the Jupyter notebook, but we can use the external JS library for this purpose. To do that, we need to massage the data to the format that is suitable for the library."
   ]
  },
  {
   "cell_type": "code",
   "execution_count": null,
   "metadata": {
    "collapsed": true
   },
   "outputs": [],
   "source": [
    "import random\n",
    "\n",
    "def node_to_dict(r):\n",
    "    return {\n",
    "        'id': r[0],\n",
    "        'label': r[2],\n",
    "        'x': random.uniform(0,1),\n",
    "        'y': random.uniform(0,1),\n",
    "        'size': 0.5,\n",
    "        'color': '#f00' if r[1] == 'f' else '#00f'\n",
    "        \n",
    "    }\n",
    "\n",
    "def edge_to_dict(i, r):\n",
    "    return {\n",
    "        'id': i,\n",
    "        'source': r[0],\n",
    "        'target': r[1],\n",
    "        'label' : r[2],\n",
    "        'type': 'arrow',\n",
    "        'color': '#999'\n",
    "    }\n",
    "\n",
    "nodes_dict = map(node_to_dict, g.vertices.collect())\n",
    "edges_dict = [edge_to_dict(i, r) for i, r in enumerate(g.edges.collect())]"
   ]
  },
  {
   "cell_type": "markdown",
   "metadata": {},
   "source": [
    "Now we are ready to show the data using the [sigmajs](sigmajs.org) library."
   ]
  },
  {
   "cell_type": "code",
   "execution_count": null,
   "metadata": {},
   "outputs": [],
   "source": [
    "%%javascript\n",
    "require.config({\n",
    "    paths: {\n",
    "        sigmajs: 'https://cdnjs.cloudflare.com/ajax/libs/sigma.js/1.2.0/sigma.min'\n",
    "    }\n",
    "});\n",
    "\n",
    "require(['sigmajs']);"
   ]
  },
  {
   "cell_type": "code",
   "execution_count": null,
   "metadata": {},
   "outputs": [],
   "source": [
    "from IPython.core.display import display, HTML\n",
    "from string import Template\n",
    "import json\n",
    "\n",
    "js_text_template = Template(open('js/sigma-graph.js','r').read())\n",
    "\n",
    "graph_data = { 'nodes': nodes_dict, 'edges': edges_dict }\n",
    "\n",
    "js_text = js_text_template.substitute({'graph_data': json.dumps(graph_data),\n",
    "                                       'container': 'graph-div'})\n",
    "\n",
    "html_template = Template('''\n",
    "<div id=\"graph-div\" style=\"height:400px\"></div>\n",
    "<script> $js_text </script>\n",
    "''')\n",
    "\n",
    "HTML(html_template.substitute({'js_text': js_text}))"
   ]
  }
 ],
 "metadata": {
  "anaconda-cloud": {},
  "kernelspec": {
   "display_name": "Python 2",
   "language": "python",
   "name": "python2"
  },
  "language_info": {
   "codemirror_mode": {
    "name": "ipython",
    "version": 2
   },
   "file_extension": ".py",
   "mimetype": "text/x-python",
   "name": "python",
   "nbconvert_exporter": "python",
   "pygments_lexer": "ipython2",
   "version": "2.7.13"
  },
  "toc": {
   "nav_menu": {},
   "number_sections": true,
   "sideBar": true,
   "skip_h1_title": false,
   "toc_cell": false,
   "toc_position": {},
   "toc_section_display": "block",
   "toc_window_display": true
  }
 },
 "nbformat": 4,
 "nbformat_minor": 1
}
